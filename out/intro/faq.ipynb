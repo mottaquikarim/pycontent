{
 "cells": [
  {
   "cell_type": "markdown",
   "metadata": {},
   "source": [
    "[![Open In Colab](https://colab.research.google.com/assets/colab-badge.svg)](https://colab.research.google.com/github/mottaquikarim/pycontent/blob/master/static/out/intro/faq.ipynb)"
   ]
  },
  {
   "cell_type": "markdown",
   "metadata": {},
   "source": [
    "# FAQ\n",
    "\n",
    "### Where can I find the link to our Slack channel?\n",
    "\n",
    "[Slack <channel_name>](??????)\n",
    "\n",
    "### Where are all the practice problems?\n",
    "\n",
    "You can find a link to the practice problem source files and how to use them on the [Admin Info](https://mottaquikarim.github.io/pycontent/#out/intro/admin_info) page under the section named \"Practice Problem Source Files\".\n",
    "\n",
    "### How can I see what the agenda for the next class is?\n",
    "\n",
    "On the [Admin Info](https://mottaquikarim.github.io/pycontent/#out/intro/admin_info) page, you will find a list of lecture topics with dates. *This is a living list* based on how much material we cover in each class.\n",
    "\n",
    "### How does Colab work?\n",
    "\n",
    "[Colab](https://colab.research.google.com/notebooks/welcome.ipynb) exists as an extension of Google Drive. All the lectures and practice problems are in Colab notebooks. \n",
    "\n",
    "When you open them, make a copy for yourself. You can do this by going to File > Save a copy in Drive.... This will automatically create a folder called \"Colaboratory\" in your main Google Drive section. All copied files get automatically saved there.\n",
    "\n",
    "### How can I see what the current homework assignment & due date are?\n",
    "\n",
    "Homework will be announced during class and on Slack every week.\n",
    "\n",
    "Also, you can go to the [Homework](https://mottaquikarim.github.io/pycontent/#out/homework) section to see a list of each homework assignment, the day it was assigned, and its due date. Typically, each assignment is due at 6pm on the day of the next class.\n",
    "\n",
    "### How do I submit my homework?\n",
    "\n",
    "Assuming you have shared your PYTH122 folder with your Instructor and IA, simply ping your IA on Slack when you have finished your homework. If you need more info on what \"your PYTH122 folder\" is and how to share it, go to the section named \"Practice Problem Source Files\" on the [Admin Info](https://mottaquikarim.github.io/pycontent/#out/intro/admin_info) page.\n",
    "\n",
    "### How and when will we receive feedback on our work?\n",
    "\n",
    "1. For each hw assignment, please allow 48 hours after the due date deadline for your IA to give feedback. This feedback will usually be in the form of comments within the Colab notebook. This is just in case everyone submits their homework right before the deadline. If you submit it early, you might get feedback early. Once your feedback is ready, your IA will ping you on Slack.\n",
    "2. You can also get feedback on homework or special questions if and when you come to office hours.\n",
    "3. For your project, you can get feedback by coming to office hours. Pending availability, your IA will be happy to schedule extra virtual office hours (conducted on Google Hangouts).\n",
    "\n",
    "### How can I contact my instructor and/or IA?\n",
    "\n",
    "**SLACK** is the truth. The fastest way to contact us is to DM us. If you want, you can even download the Slack app on your phone and turn on notifications.\n",
    "\n",
    "### When are office hours?\n",
    "\n",
    "Office hours will be **Monday evening from 8:30-9:30pm.**\n",
    "\n",
    "### Where can I find MORE practice problems?\n",
    "\n",
    "Go to the [Reference Sources](https://mottaquikarim.github.io/pycontent/#out/resources/refs) section. There are lots of places here you can explore! You can use these for more practice problems as well as helpful tutorials for debugging your code."
   ]
  }
 ],
 "metadata": {},
 "nbformat": 4,
 "nbformat_minor": 2
}
