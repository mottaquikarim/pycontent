{
 "cells": [
  {
   "cell_type": "markdown",
   "metadata": {},
   "source": [
    "[![Open In Colab](https://colab.research.google.com/assets/colab-badge.svg)](https://colab.research.google.com/github/mottaquikarim/pycontent/blob/master/static/out/intro/class_info.ipynb)"
   ]
  },
  {
   "cell_type": "markdown",
   "metadata": {},
   "source": [
    "# Class Info\n",
    "\n",
    "\n",
    "## 🎉 [Introductory Slides](https://mottaquikarim.github.io/rehearsal/public/stage.html?source=o66ry#/)\n",
    "\n",
    "This will be one of the only two slide decks we ever get through in class. Refer to this resource to set expectations about class in general on a high level.\n",
    "\n",
    "## Practice Problem Source Files\n",
    "\n",
    "A folder containing blank copies of all practice problem sets is [in Google Drive](https://drive.google.com/drive/folders/1AD8J-4xlvTjYfHpgUCoA3uKBi_7x5fQt?usp=sharing). \n",
    "\n",
    "**Please make a copy of the whole folder** and save it to your Drive. Please append your name to the name of the folder (e.g. \"PYTH122_JohnSmith\"). Please share your copy of the folder (with edit access) with your Instructor and your IA. This is where you will keep your answers to all the practice problems and where your IA will give feedback on your code.\n"
   ]
  }
 ],
 "metadata": {},
 "nbformat": 4,
 "nbformat_minor": 2
}
