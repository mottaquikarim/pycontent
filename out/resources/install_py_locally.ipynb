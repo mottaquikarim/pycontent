{
 "cells": [
  {
   "cell_type": "markdown",
   "metadata": {},
   "source": [
    "[![Open In Colab](https://colab.research.google.com/assets/colab-badge.svg)](https://colab.research.google.com/github/mottaquikarim/pycontent/blob/master/static/out/resources/install_py_locally.ipynb)"
   ]
  },
  {
   "cell_type": "code",
   "execution_count": null,
   "metadata": {},
   "outputs": [],
   "source": [
    "# Installing Python Locally\n",
    "\n",
    "Before we get into writing our code, we will have to install a few programs and tools. It may take about a half hr to pull off but ultimately a properly established development environment will pay off in spades as we navigate the rest of our day.\n",
    "\n",
    "## Installing Python 3\n",
    "\n",
    "Instructions vary slightly depending on what kind of machine you're using. Click the link below that applies to you:\n",
    "\n",
    "[Installation Instructions: Mac](#installation-instructions-mac)\n",
    "\n",
    "[Installation Instructions: Linux](#installation-instructions-linux)\n",
    "\n",
    "[Installation Instructions: Windows](#installation-instructions-windows)\n",
    "\n",
    "\n",
    "## Installation Instructions: Mac\n",
    "\n",
    "Macs usually come with Python 2 already installed. We're going to run through some installation steps to make sure you've got the latest and greatest that Python has to offer.\n",
    "\n",
    "### 1. Open up your terminal.\n",
    "\n",
    "You can do this by pressing command+space bar and typing \"terminal,\" or by locating the application and clicking on the icon.\n",
    "\n",
    "\n",
    "### 2. Install XCode with the following command.\n"
   ]
  },
  {
   "cell_type": "code",
   "execution_count": null,
   "metadata": {},
   "outputs": [],
   "source": [
    "xcode-select --install"
   ]
  },
  {
   "cell_type": "code",
   "execution_count": null,
   "metadata": {},
   "outputs": [],
   "source": [
    "\n",
    "This may take a few minutes. Once it's done, you can run the following command to make sure it's installed properly.\n"
   ]
  },
  {
   "cell_type": "code",
   "execution_count": null,
   "metadata": {},
   "outputs": [],
   "source": [
    "xcode-select -p"
   ]
  },
  {
   "cell_type": "code",
   "execution_count": null,
   "metadata": {},
   "outputs": [],
   "source": [
    "\n",
    "Your output should look something like this:\n",
    "\n",
    "> /Applications/Xcode.app/Contents/Developer\n",
    "\n",
    "### 3. Install `Homebrew` by running the following command.\n",
    "\n",
    "> **Pro tip:** Do not try to type this in. Copy and paste to make sure everything is correct. Do this by selecting the text with your cursor and pressing command+C. Then, go to your terminal and press command+V.\n"
   ]
  },
  {
   "cell_type": "code",
   "execution_count": null,
   "metadata": {},
   "outputs": [],
   "source": [
    "ruby -e \"$(curl -fsSL https://raw.githubusercontent.com/Homebrew/install/master/install)\""
   ]
  },
  {
   "cell_type": "code",
   "execution_count": null,
   "metadata": {},
   "outputs": [],
   "source": [
    "\n",
    "Once this command runs, type `brew doctor` on your terminal prompt. If you get the output `Your system is ready to brew`, you are ready to move on to the next step.\n",
    "\n",
    "\n",
    "### 4. Add PATH environment variable.\n",
    "\n",
    "This is a bit confusing, but basically we're setting the path up so Homebrew knows where to install something.\n"
   ]
  },
  {
   "cell_type": "code",
   "execution_count": null,
   "metadata": {},
   "outputs": [],
   "source": [
    "open ~/.profile"
   ]
  },
  {
   "cell_type": "code",
   "execution_count": null,
   "metadata": {},
   "outputs": [],
   "source": [
    "\n",
    "The file should open up. **If it doesn't,** run this command to create the file in the current directory then repeat the original `open` command.\n"
   ]
  },
  {
   "cell_type": "code",
   "execution_count": null,
   "metadata": {},
   "outputs": [],
   "source": [
    "touch .profile"
   ]
  },
  {
   "cell_type": "code",
   "execution_count": null,
   "metadata": {},
   "outputs": [],
   "source": [
    "\n",
    "Once the file opens, copy and paste the following line at the bottom of this file:\n",
    "\n",
    "> export PATH=/usr/local/bin:/usr/local/sbin:$PATH\n",
    "\n",
    "Save the changes and close the file.\n",
    "\n",
    "\n",
    "### 5. Install Python 3 (finally!).\n",
    "\n",
    "Homebrew, by default, gets the latest stable version of whatever you're trying to install.\n"
   ]
  },
  {
   "cell_type": "code",
   "execution_count": null,
   "metadata": {},
   "outputs": [],
   "source": [
    "brew install python"
   ]
  },
  {
   "cell_type": "code",
   "execution_count": null,
   "metadata": {},
   "outputs": [],
   "source": [
    "\n",
    "### 6. Create an alias for `python3`.\n"
   ]
  },
  {
   "cell_type": "code",
   "execution_count": null,
   "metadata": {},
   "outputs": [],
   "source": [
    "open ~/.bashrc"
   ]
  },
  {
   "cell_type": "code",
   "execution_count": null,
   "metadata": {},
   "outputs": [],
   "source": [
    "\n",
    "If it doesn't exist, create it the same way you created .profile in step 4 and repeat the open command.\n",
    "\n",
    "At the bottom of that file, copy and paste the following lines:\n"
   ]
  },
  {
   "cell_type": "code",
   "execution_count": null,
   "metadata": {},
   "outputs": [],
   "source": [
    "alias python=python3\n",
    "alias pip=pip3"
   ]
  },
  {
   "cell_type": "code",
   "execution_count": null,
   "metadata": {},
   "outputs": [],
   "source": [
    "\n",
    "Learn more about aliases [here](https://askubuntu.com/questions/320996/how-to-make-python-program-command-execute-python-3).\n",
    "\n",
    "\n",
    "### 7. Restart your Terminal.\n",
    "\n",
    "Right click (control+click on most Macs) on the Terminal icon in your application tray. Select `Quit` from the menu to make sure Terminal is fully stopped. Then, open it again (see Step 1).\n",
    "\n",
    "> **Pro tip:** Your settings won't be updated until Terminal is fully stopped and restarted. If you simply minimize the program, you will not see any updates!\n",
    "\n",
    "### 8. Activate bashrc aliases.\n"
   ]
  },
  {
   "cell_type": "code",
   "execution_count": null,
   "metadata": {},
   "outputs": [],
   "source": [
    "source ~/.bashrc"
   ]
  },
  {
   "cell_type": "code",
   "execution_count": null,
   "metadata": {},
   "outputs": [],
   "source": [
    "\n",
    "You will have to do this every time you open Terminal to ensure that it interprets `python` as `python3`.\n",
    "\n",
    "### 9. Check version.\n"
   ]
  },
  {
   "cell_type": "code",
   "execution_count": null,
   "metadata": {},
   "outputs": [],
   "source": [
    "python --version"
   ]
  },
  {
   "cell_type": "code",
   "execution_count": null,
   "metadata": {},
   "outputs": [],
   "source": [
    "\n",
    "You will get something like this. As long as it starts with a 3, you're good to go!\n",
    "\n",
    "> Python 3.7.3\n",
    "\n",
    "Now let's check `pip`, the package installer.\n"
   ]
  },
  {
   "cell_type": "code",
   "execution_count": null,
   "metadata": {},
   "outputs": [],
   "source": [
    "pip --version"
   ]
  },
  {
   "cell_type": "code",
   "execution_count": null,
   "metadata": {},
   "outputs": [],
   "source": [
    "\n",
    "> pip 19.1.1 from /usr/local/lib/python3.7/site-packages/pip (python 3.7)\n",
    "\n",
    "You want `pip` to be pointing to the Python 3.x version. If either `python` or `pip` are still pointing to version 2, please alert your instructor.\n",
    "\n",
    "\n",
    "You are now in a development environment!\n",
    "\n",
    "## Installation Instructions: Linux\n",
    "\n",
    "> **Pro tip:** The instructions are for Ubuntu. If you have another version of Linux, please follow these [suggested directions](http://docs.python-guide.org/en/latest/starting/install3/linux/).\n",
    "\n",
    "### 1. Open your terminal.\n",
    "\n",
    "Either:\n",
    "\n",
    "* Click Ubuntu icon (upper-left corner) to open Dash. Then, type \"terminal\" and select Terminal from the results.\n",
    "\n",
    "Or:\n",
    "\n",
    "* Hit the keyboard shortcut `Ctrl - Alt + T`.\n",
    "\n",
    "\n",
    "### 2. Check to see if Python 3 exists.\n",
    "\n",
    "Some distributions of Linux come with Python 3 already installed. How nice! To check if you have Python 3 already, run the following command:\n"
   ]
  },
  {
   "cell_type": "code",
   "execution_count": null,
   "metadata": {},
   "outputs": [],
   "source": [
    "python3 --version"
   ]
  },
  {
   "cell_type": "code",
   "execution_count": null,
   "metadata": {},
   "outputs": [],
   "source": [
    "\n",
    "If it gives you a version, you're good to go! Otherwise, move to Step 3.\n",
    "\n",
    "\n",
    "### 3. Install Python 3.6.\n"
   ]
  },
  {
   "cell_type": "code",
   "execution_count": null,
   "metadata": {},
   "outputs": [],
   "source": [
    "sudo apt-get update\n",
    "sudo apt-get install python3.6"
   ]
  },
  {
   "cell_type": "code",
   "execution_count": null,
   "metadata": {},
   "outputs": [],
   "source": [
    "\n",
    "Check again for the Python 3 version.\n"
   ]
  },
  {
   "cell_type": "code",
   "execution_count": null,
   "metadata": {},
   "outputs": [],
   "source": [
    "python3 --version"
   ]
  },
  {
   "cell_type": "code",
   "execution_count": null,
   "metadata": {},
   "outputs": [],
   "source": [
    "\n",
    "This time, things should be all good.\n",
    "\n",
    "If you are still unable to get Python 3, please alert your instructor now.\n",
    "\n",
    "---\n",
    "\n",
    "## Installation Instructions: Windows\n",
    "\n",
    "> **Pro tip:** If you have Windows XP, you need to be downgraded from Python 3.6 to 3.4. Please ask your instructor for help if you plan on using Windows XP.\n",
    "\n",
    "### 1. Download the Python installer.\n",
    "\n",
    "Visit [python.org](https://www.python.org/downloads/release/python-365/) and download the web-based installer for Windows. You'll find this under a \"Files\" section at the bottom of the page.\n",
    "\n",
    "If you have 64-bit Windows, use the link that contains `64`. If you have 32-bit Windows, download the one without `64`. If you have no idea what you have, [click here to learn how to find out](#windows-64-bit-or-32-bit).\n",
    "\n",
    "\n",
    "### 2. Run the installer.\n",
    "\n",
    "* Make sure both `Add Python 3.6 to PATH` and `Install for all users` are checked.\n",
    "* Click `Install Now`.\n",
    "\n",
    "\n",
    "### 3. Disable length limit.\n",
    "\n",
    "After the initial installation is finished, there will be an additional option that says something about a max character limit. **You want this!** Provide permission for this setting to be changed.\n",
    "\n",
    "### 4. Open your terminal.\n"
   ]
  },
  {
   "cell_type": "code",
   "execution_count": null,
   "metadata": {},
   "outputs": [],
   "source": [
    "    * Click *Start*.\n",
    "    * Open *Windows System* menu.\n",
    "    * Select *Command Prompt*."
   ]
  },
  {
   "cell_type": "code",
   "execution_count": null,
   "metadata": {},
   "outputs": [],
   "source": [
    "\n",
    "### 5. Run the `py` command.\n"
   ]
  },
  {
   "cell_type": "code",
   "execution_count": null,
   "metadata": {},
   "outputs": [],
   "source": [
    "py"
   ]
  },
  {
   "cell_type": "code",
   "execution_count": null,
   "metadata": {},
   "outputs": [],
   "source": [
    "\n",
    "You should get a message telling you what version of Python you're using as well as opening an in-terminal REPL. If you did, great! Skip to the next step.\n",
    "\n",
    "If you instead received an error message like the one below, something went wrong and Python didn't install correctly.\n"
   ]
  },
  {
   "cell_type": "code",
   "execution_count": null,
   "metadata": {},
   "outputs": [],
   "source": [
    "'py' is not recognized as an internal or external command,\n",
    "operable program or batch file."
   ]
  },
  {
   "cell_type": "markdown",
   "metadata": {},
   "source": [
    "\n",
    "In this case, ask your instructor for assistance.\n",
    "\n",
    "## Windows 64-Bit or 32-Bit\n",
    "\n",
    "> **Pro tip:** These directions are for Windows 7 and Windows Vista operating systems. If you have Windows 10, you most likely have a 64-bit machine, but if you want to be extra sure, [check here](https://support.microsoft.com/en-us/help/13443/windows-which-operating-system).\n",
    "\n",
    "1. Open \"System\" by clicking the \"Start\" button.\n",
    "\n",
    "2. Right click \"Computer.\"\n",
    "\n",
    "3. Click \"Properties.\"\n",
    "\n",
    "4. Under \"System,\" you can view the system type.\n",
    "\n",
    "This will give you a bunch of stats about your machine, including whether it is 32-bit or 64-bit.\n",
    "\n",
    "5. Return to [Installation Instructions: Windows](#installation-instructions-windows).\n",
    "\n",
    "\n",
    "## 🚗 Parking Lot\n",
    "\n",
    "* [Official OSX Installation Instructions](http://docs.python-guide.org/en/latest/starting/install3/osx/)\n",
    "* [Official Windows Installation Instructions](https://docs.python.org/3/using/windows.html)\n",
    "* [Windows-Specific Modules](https://docs.python.org/3/library/windows.html#mswin-specific-services)"
   ]
  }
 ],
 "metadata": {},
 "nbformat": 4,
 "nbformat_minor": 2
}
