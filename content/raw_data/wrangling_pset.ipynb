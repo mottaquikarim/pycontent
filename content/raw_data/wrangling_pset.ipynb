{
  "nbformat": 4,
  "nbformat_minor": 0,
  "metadata": {
    "colab": {
      "name": "wrangling_pset.ipynb",
      "provenance": [],
      "collapsed_sections": [
        "mlTUHw1aQTg8",
        "zWLzcQ1wRlNT",
        "FbjukmWESNhy",
        "eE2GmoclQh3C",
        "lGDsCA8QzAtt",
        "TqlK3FfHSNrI",
        "HSccZVkjacUE",
        "UgAkp3K-QirH",
        "N4V0su5BSYh8",
        "j371gfNFY2uP",
        "vaWTjqJMSNz9",
        "q0fmbpfESYBl",
        "6WPZIaqXWopY",
        "4jabjhKVcvti",
        "2fAcGqCVcv8H"
      ],
      "authorship_tag": "ABX9TyPKBDCqJCqQ338f4pfgcYvq",
      "include_colab_link": true
    },
    "kernelspec": {
      "name": "python3",
      "display_name": "Python 3"
    }
  },
  "cells": [
    {
      "cell_type": "markdown",
      "metadata": {
        "id": "view-in-github",
        "colab_type": "text"
      },
      "source": [
        "<a href=\"https://colab.research.google.com/github/mottaquikarim/pycontent/blob/master/content/raw_data/wrangling_pset.ipynb\" target=\"_parent\"><img src=\"https://colab.research.google.com/assets/colab-badge.svg\" alt=\"Open In Colab\"/></a>"
      ]
    },
    {
      "cell_type": "markdown",
      "metadata": {
        "id": "GSAuej4Cm1dD",
        "colab_type": "text"
      },
      "source": [
        "# Earth Surface Temperature by City from 1743-2014"
      ]
    },
    {
      "cell_type": "markdown",
      "metadata": {
        "id": "a39fad1-nq2v",
        "colab_type": "text"
      },
      "source": [
        "#### Data Dictionary:"
      ]
    },
    {
      "cell_type": "markdown",
      "metadata": {
        "id": "p39ixj9HnBPX",
        "colab_type": "text"
      },
      "source": [
        "This is a \"...[repackaging] the data from a newer compilation put together by the Berkeley Earth, which is affiliated with Lawrence Berkeley National Laboratory. The Berkeley Earth Surface Temperature Study combines 1.6 billion temperature reports from 16 pre-existing archives.\"\n",
        "\n",
        "\"Early data was collected by technicians using mercury thermometers, where any variation in the visit time impacted measurements. In the 1940s, the construction of airports caused many weather stations to be moved. In the 1980s, there was a move to electronic thermometers that are said to have a cooling bias.\"\n",
        "\n",
        "* `dt`: Date of temperature observation in format \"YYYY-MM-DD\"; ranges from 1743-2013\n",
        "* `AverageTemperature`: in degress Celsius\n",
        "* `AverageTemperatureUncertainty`: the 95% confidence interval around the average\n",
        "* `City`\n",
        "* `Country`\n",
        "* `Latitude`\n",
        "* `Longitude`\n",
        "\n",
        "**Source**: https://www.kaggle.com/berkeleyearth/climate-change-earth-surface-temperature-data"
      ]
    },
    {
      "cell_type": "markdown",
      "metadata": {
        "id": "ap8noF3MXXnf",
        "colab_type": "text"
      },
      "source": [
        "#### 1. Import the necessary libraries. Load the data into a df called \"landTemps\" and preview it."
      ]
    },
    {
      "cell_type": "markdown",
      "metadata": {
        "id": "rKvhUhy-JHhP",
        "colab_type": "text"
      },
      "source": [
        "The link below leads to a zip file. You'll have to download it, unzip it, and then upload the unzipped CSV into your Colab notebook. To do so, click on the folder icon in the leftand menu, and you'll find the upload button.\n",
        "\n",
        "https://drive.google.com/open?id=1jDD8KBPFa61GR0FFjj-QXgYRlDn-UuvJ"
      ]
    },
    {
      "cell_type": "code",
      "metadata": {
        "colab_type": "code",
        "id": "UuBoYf0msFAy",
        "colab": {}
      },
      "source": [
        "import pandas as pd\n",
        "import numpy as np\n",
        "print('done')"
      ],
      "execution_count": 0,
      "outputs": []
    },
    {
      "cell_type": "code",
      "metadata": {
        "id": "AoB6aFKbUVA9",
        "colab_type": "code",
        "colab": {}
      },
      "source": [
        "landTemps = pd.read_csv('GlobalLandTemperaturesByCity.csv.zip', compression='zip')\n",
        "landTemps.tail(10)"
      ],
      "execution_count": 0,
      "outputs": []
    },
    {
      "cell_type": "code",
      "metadata": {
        "id": "p63atvqtd27P",
        "colab_type": "code",
        "outputId": "47f3900c-2728-45b1-b867-e64ee3185b5a",
        "colab": {
          "base_uri": "https://localhost:8080/",
          "height": 204
        }
      },
      "source": [
        "landTemps.info()"
      ],
      "execution_count": 0,
      "outputs": [
        {
          "output_type": "stream",
          "text": [
            "<class 'pandas.core.frame.DataFrame'>\n",
            "RangeIndex: 8599212 entries, 0 to 8599211\n",
            "Data columns (total 6 columns):\n",
            "dt                    object\n",
            "AverageTemperature    float64\n",
            "City                  object\n",
            "Country               object\n",
            "Latitude              object\n",
            "Longitude             object\n",
            "dtypes: float64(1), object(5)\n",
            "memory usage: 393.6+ MB\n"
          ],
          "name": "stdout"
        }
      ]
    },
    {
      "cell_type": "markdown",
      "metadata": {
        "colab_type": "text",
        "id": "mlTUHw1aQTg8"
      },
      "source": [
        "#### 2. How many total records are there in the df? Save this to a variable"
      ]
    },
    {
      "cell_type": "code",
      "metadata": {
        "colab_type": "code",
        "id": "yXvz8k0kQThC",
        "outputId": "174ff4b8-3dcf-471f-eb7b-949c4ad07402",
        "colab": {
          "base_uri": "https://localhost:8080/"
        }
      },
      "source": [
        "total_records = len(landTemps)\n",
        "total_records"
      ],
      "execution_count": 0,
      "outputs": [
        {
          "output_type": "execute_result",
          "data": {
            "text/plain": [
              "8599212"
            ]
          },
          "metadata": {
            "tags": []
          },
          "execution_count": 59
        }
      ]
    },
    {
      "cell_type": "markdown",
      "metadata": {
        "colab_type": "text",
        "id": "zWLzcQ1wRlNT"
      },
      "source": [
        "#### 3. What data type fills the dt column?"
      ]
    },
    {
      "cell_type": "code",
      "metadata": {
        "colab_type": "code",
        "id": "M9EjPl9qRlNX",
        "outputId": "e72f7351-d03a-45eb-8cd8-d6f4061763e3",
        "colab": {
          "base_uri": "https://localhost:8080/"
        }
      },
      "source": [
        "type(landTemps['dt'].iloc[0])"
      ],
      "execution_count": 0,
      "outputs": [
        {
          "output_type": "execute_result",
          "data": {
            "text/plain": [
              "str"
            ]
          },
          "metadata": {
            "tags": []
          },
          "execution_count": 61
        }
      ]
    },
    {
      "cell_type": "markdown",
      "metadata": {
        "colab_type": "text",
        "id": "FbjukmWESNhy"
      },
      "source": [
        "#### 4. Rename the dt and AverageTemperature columns to Date and AvgTemp respectively.\n"
      ]
    },
    {
      "cell_type": "code",
      "metadata": {
        "colab_type": "code",
        "id": "BX1JGldqSNz-",
        "outputId": "c1092588-b911-4406-a67b-05b2639386c5",
        "colab": {
          "base_uri": "https://localhost:8080/"
        }
      },
      "source": [
        "landTemps.rename(columns={'dt': 'Date', 'AverageTemperature': 'AvgTemp'}, inplace=True)\n",
        "landTemps.columns"
      ],
      "execution_count": 0,
      "outputs": [
        {
          "output_type": "execute_result",
          "data": {
            "text/plain": [
              "Index(['Date', 'AvgTemp', 'City', 'Country', 'Latitude', 'Longitude'], dtype='object')"
            ]
          },
          "metadata": {
            "tags": []
          },
          "execution_count": 62
        }
      ]
    },
    {
      "cell_type": "markdown",
      "metadata": {
        "colab_type": "text",
        "id": "eE2GmoclQh3C"
      },
      "source": [
        "#### 5. What countries are represented? Save them in a Series called \"country_names\" and sort alphabetically."
      ]
    },
    {
      "cell_type": "code",
      "metadata": {
        "colab_type": "code",
        "id": "vluMC1gkQh3E",
        "outputId": "d14f6cab-dd89-4705-832f-55427ac54d3a",
        "colab": {
          "base_uri": "https://localhost:8080/"
        }
      },
      "source": [
        "landTemps['Country'].nunique() # 159\n",
        "country_names = pd.Series(landTemps['Country'].unique())\n",
        "country_names.sort_values(inplace=True)\n",
        "country_names"
      ],
      "execution_count": 0,
      "outputs": [
        {
          "output_type": "execute_result",
          "data": {
            "text/plain": [
              "60     Afghanistan\n",
              "107        Albania\n",
              "34         Algeria\n",
              "76          Angola\n",
              "61       Argentina\n",
              "          ...     \n",
              "19       Venezuela\n",
              "57         Vietnam\n",
              "23           Yemen\n",
              "98          Zambia\n",
              "92        Zimbabwe\n",
              "Length: 159, dtype: object"
            ]
          },
          "metadata": {
            "tags": []
          },
          "execution_count": 64
        }
      ]
    },
    {
      "cell_type": "markdown",
      "metadata": {
        "id": "lGDsCA8QzAtt",
        "colab_type": "text"
      },
      "source": [
        "#### 6. Drop the \"Latitude\" and \"Longitude\" columns."
      ]
    },
    {
      "cell_type": "code",
      "metadata": {
        "id": "5ef6KiyxzH9u",
        "colab_type": "code",
        "outputId": "55540305-4ea5-49f4-d9b3-90358fe54d27",
        "colab": {
          "base_uri": "https://localhost:8080/",
          "height": 34
        }
      },
      "source": [
        "landTemps.drop(columns=['Latitude', 'Longitude'], inplace=True)\n",
        "landTemps.columns"
      ],
      "execution_count": 0,
      "outputs": [
        {
          "output_type": "execute_result",
          "data": {
            "text/plain": [
              "Index(['Date', 'AvgTemp', 'City', 'Country'], dtype='object')"
            ]
          },
          "metadata": {
            "tags": []
          },
          "execution_count": 65
        }
      ]
    },
    {
      "cell_type": "markdown",
      "metadata": {
        "colab_type": "text",
        "id": "TqlK3FfHSNrI"
      },
      "source": [
        "#### 7. How many duplicate rows are there?\n",
        "p.s. Why do you think these exist?"
      ]
    },
    {
      "cell_type": "code",
      "metadata": {
        "colab_type": "code",
        "id": "y10cYQP1SNrL",
        "outputId": "3d39378b-8eb3-4682-f5b3-899a3ac1b35f",
        "colab": {
          "base_uri": "https://localhost:8080/"
        }
      },
      "source": [
        "num_dups = landTemps.duplicated().sum()\n",
        "num_dups"
      ],
      "execution_count": 0,
      "outputs": [
        {
          "output_type": "execute_result",
          "data": {
            "text/plain": [
              "1069"
            ]
          },
          "metadata": {
            "tags": []
          },
          "execution_count": 66
        }
      ]
    },
    {
      "cell_type": "code",
      "metadata": {
        "id": "l2cqEKxQbGKV",
        "colab_type": "code",
        "outputId": "0e19f5cf-cdc4-446b-a173-dae1de5d7ec1",
        "colab": {
          "base_uri": "https://localhost:8080/"
        }
      },
      "source": [
        "landTemps[landTemps.duplicated()]"
      ],
      "execution_count": 0,
      "outputs": [
        {
          "output_type": "execute_result",
          "data": {
            "text/html": [
              "<div>\n",
              "<style scoped>\n",
              "    .dataframe tbody tr th:only-of-type {\n",
              "        vertical-align: middle;\n",
              "    }\n",
              "\n",
              "    .dataframe tbody tr th {\n",
              "        vertical-align: top;\n",
              "    }\n",
              "\n",
              "    .dataframe thead th {\n",
              "        text-align: right;\n",
              "    }\n",
              "</style>\n",
              "<table border=\"1\" class=\"dataframe\">\n",
              "  <thead>\n",
              "    <tr style=\"text-align: right;\">\n",
              "      <th></th>\n",
              "      <th>Date</th>\n",
              "      <th>AvgTemp</th>\n",
              "      <th>City</th>\n",
              "      <th>Country</th>\n",
              "    </tr>\n",
              "  </thead>\n",
              "  <tbody>\n",
              "    <tr>\n",
              "      <th>485434</th>\n",
              "      <td>1778-07-01</td>\n",
              "      <td>NaN</td>\n",
              "      <td>Aurora</td>\n",
              "      <td>United States</td>\n",
              "    </tr>\n",
              "    <tr>\n",
              "      <th>485435</th>\n",
              "      <td>1778-08-01</td>\n",
              "      <td>NaN</td>\n",
              "      <td>Aurora</td>\n",
              "      <td>United States</td>\n",
              "    </tr>\n",
              "    <tr>\n",
              "      <th>485460</th>\n",
              "      <td>1780-09-01</td>\n",
              "      <td>NaN</td>\n",
              "      <td>Aurora</td>\n",
              "      <td>United States</td>\n",
              "    </tr>\n",
              "    <tr>\n",
              "      <th>485461</th>\n",
              "      <td>1780-10-01</td>\n",
              "      <td>NaN</td>\n",
              "      <td>Aurora</td>\n",
              "      <td>United States</td>\n",
              "    </tr>\n",
              "    <tr>\n",
              "      <th>485462</th>\n",
              "      <td>1780-11-01</td>\n",
              "      <td>NaN</td>\n",
              "      <td>Aurora</td>\n",
              "      <td>United States</td>\n",
              "    </tr>\n",
              "    <tr>\n",
              "      <th>...</th>\n",
              "      <td>...</td>\n",
              "      <td>...</td>\n",
              "      <td>...</td>\n",
              "      <td>...</td>\n",
              "    </tr>\n",
              "    <tr>\n",
              "      <th>7405521</th>\n",
              "      <td>1865-11-01</td>\n",
              "      <td>NaN</td>\n",
              "      <td>Taman</td>\n",
              "      <td>Indonesia</td>\n",
              "    </tr>\n",
              "    <tr>\n",
              "      <th>7405522</th>\n",
              "      <td>1865-12-01</td>\n",
              "      <td>NaN</td>\n",
              "      <td>Taman</td>\n",
              "      <td>Indonesia</td>\n",
              "    </tr>\n",
              "    <tr>\n",
              "      <th>7407295</th>\n",
              "      <td>2013-09-01</td>\n",
              "      <td>NaN</td>\n",
              "      <td>Taman</td>\n",
              "      <td>Indonesia</td>\n",
              "    </tr>\n",
              "    <tr>\n",
              "      <th>8406196</th>\n",
              "      <td>2013-09-01</td>\n",
              "      <td>NaN</td>\n",
              "      <td>Yichun</td>\n",
              "      <td>China</td>\n",
              "    </tr>\n",
              "    <tr>\n",
              "      <th>8414742</th>\n",
              "      <td>2013-09-01</td>\n",
              "      <td>NaN</td>\n",
              "      <td>Yingcheng</td>\n",
              "      <td>China</td>\n",
              "    </tr>\n",
              "  </tbody>\n",
              "</table>\n",
              "<p>1069 rows × 4 columns</p>\n",
              "</div>"
            ],
            "text/plain": [
              "               Date  AvgTemp       City        Country\n",
              "485434   1778-07-01      NaN     Aurora  United States\n",
              "485435   1778-08-01      NaN     Aurora  United States\n",
              "485460   1780-09-01      NaN     Aurora  United States\n",
              "485461   1780-10-01      NaN     Aurora  United States\n",
              "485462   1780-11-01      NaN     Aurora  United States\n",
              "...             ...      ...        ...            ...\n",
              "7405521  1865-11-01      NaN      Taman      Indonesia\n",
              "7405522  1865-12-01      NaN      Taman      Indonesia\n",
              "7407295  2013-09-01      NaN      Taman      Indonesia\n",
              "8406196  2013-09-01      NaN     Yichun          China\n",
              "8414742  2013-09-01      NaN  Yingcheng          China\n",
              "\n",
              "[1069 rows x 4 columns]"
            ]
          },
          "metadata": {
            "tags": []
          },
          "execution_count": 67
        }
      ]
    },
    {
      "cell_type": "markdown",
      "metadata": {
        "id": "HSccZVkjacUE",
        "colab_type": "text"
      },
      "source": [
        "#### 8. Drop the duplicate rows from this version of the landTemps df."
      ]
    },
    {
      "cell_type": "code",
      "metadata": {
        "id": "Lj9UQZ5qaVHv",
        "colab_type": "code",
        "colab": {}
      },
      "source": [
        "landTemps.drop_duplicates(inplace=True)"
      ],
      "execution_count": 0,
      "outputs": []
    },
    {
      "cell_type": "code",
      "metadata": {
        "id": "Vio8YFpPZofj",
        "colab_type": "code",
        "outputId": "9484b1f4-d1ba-4df6-dcde-6babb12da26e",
        "colab": {
          "base_uri": "https://localhost:8080/"
        }
      },
      "source": [
        "num_dups = landTemps.duplicated().sum()\n",
        "num_dups"
      ],
      "execution_count": 0,
      "outputs": [
        {
          "output_type": "execute_result",
          "data": {
            "text/plain": [
              "0"
            ]
          },
          "metadata": {
            "tags": []
          },
          "execution_count": 69
        }
      ]
    },
    {
      "cell_type": "markdown",
      "metadata": {
        "colab_type": "text",
        "id": "UgAkp3K-QirH"
      },
      "source": [
        "#### 9. How many records are there for Venezuela?"
      ]
    },
    {
      "cell_type": "code",
      "metadata": {
        "colab_type": "code",
        "id": "SHk-dvCYQirI",
        "colab": {}
      },
      "source": [
        "len(landTemps[landTemps['City'] == 'Venezuela'])"
      ],
      "execution_count": 0,
      "outputs": []
    },
    {
      "cell_type": "markdown",
      "metadata": {
        "colab_type": "text",
        "id": "N4V0su5BSYh8"
      },
      "source": [
        "#### 10. How many null values are there for AvgTemp?"
      ]
    },
    {
      "cell_type": "code",
      "metadata": {
        "colab_type": "code",
        "id": "ZD1zP3szSYh9",
        "outputId": "bb129c3f-6f37-4728-9cd6-2d6513d7c93c",
        "colab": {
          "base_uri": "https://localhost:8080/"
        }
      },
      "source": [
        "pd.isnull(landTemps['AvgTemp'])\n",
        "landTemps['AvgTemp'].isna().sum()"
      ],
      "execution_count": 0,
      "outputs": [
        {
          "output_type": "execute_result",
          "data": {
            "text/plain": [
              "363063"
            ]
          },
          "metadata": {
            "tags": []
          },
          "execution_count": 70
        }
      ]
    },
    {
      "cell_type": "markdown",
      "metadata": {
        "colab_type": "text",
        "id": "j371gfNFY2uP"
      },
      "source": [
        "#### 11. **Using filtering techniques**, return the dataframe such that only rows with valid temperatures are included."
      ]
    },
    {
      "cell_type": "code",
      "metadata": {
        "colab_type": "code",
        "id": "qZi0EN54Y2uT",
        "colab": {}
      },
      "source": [
        "# landTemps.dropna(axis=0, subset=['AvgTemp'], inplace=True)\n",
        "landTemps = landTemps[pd.notnull(landTemps['AvgTemp'])]"
      ],
      "execution_count": 0,
      "outputs": []
    },
    {
      "cell_type": "markdown",
      "metadata": {
        "colab_type": "text",
        "id": "vaWTjqJMSNz9"
      },
      "source": [
        "#### 12. What percent of the original df records is left?"
      ]
    },
    {
      "cell_type": "code",
      "metadata": {
        "colab_type": "code",
        "id": "1P-973M5SNh3",
        "outputId": "6c362164-9867-4e1c-ede9-3617e6aadd7a",
        "colab": {
          "base_uri": "https://localhost:8080/"
        }
      },
      "source": [
        "len(landTemps)/total_records"
      ],
      "execution_count": 0,
      "outputs": [
        {
          "output_type": "execute_result",
          "data": {
            "text/plain": [
              "0.957655189801112"
            ]
          },
          "metadata": {
            "tags": []
          },
          "execution_count": 72
        }
      ]
    },
    {
      "cell_type": "markdown",
      "metadata": {
        "colab_type": "text",
        "id": "q0fmbpfESYBl"
      },
      "source": [
        "#### 13. Sort by AvgTemp low to high"
      ]
    },
    {
      "cell_type": "code",
      "metadata": {
        "colab_type": "code",
        "id": "aw3noj7ISYBn",
        "outputId": "0497283a-17b2-45e2-b607-bed0d6604604",
        "colab": {
          "base_uri": "https://localhost:8080/"
        }
      },
      "source": [
        "landTemps.sort_values(by=['AvgTemp'], ascending=False, inplace=True)\n",
        "landTemps.head()"
      ],
      "execution_count": 0,
      "outputs": [
        {
          "output_type": "execute_result",
          "data": {
            "text/html": [
              "<div>\n",
              "<style scoped>\n",
              "    .dataframe tbody tr th:only-of-type {\n",
              "        vertical-align: middle;\n",
              "    }\n",
              "\n",
              "    .dataframe tbody tr th {\n",
              "        vertical-align: top;\n",
              "    }\n",
              "\n",
              "    .dataframe thead th {\n",
              "        text-align: right;\n",
              "    }\n",
              "</style>\n",
              "<table border=\"1\" class=\"dataframe\">\n",
              "  <thead>\n",
              "    <tr style=\"text-align: right;\">\n",
              "      <th></th>\n",
              "      <th>Date</th>\n",
              "      <th>AvgTemp</th>\n",
              "      <th>City</th>\n",
              "      <th>Country</th>\n",
              "    </tr>\n",
              "  </thead>\n",
              "  <tbody>\n",
              "    <tr>\n",
              "      <th>8148236</th>\n",
              "      <td>1761-07-01</td>\n",
              "      <td>39.651</td>\n",
              "      <td>Warqla</td>\n",
              "      <td>Algeria</td>\n",
              "    </tr>\n",
              "    <tr>\n",
              "      <th>4686139</th>\n",
              "      <td>2013-07-01</td>\n",
              "      <td>39.156</td>\n",
              "      <td>Masjed E Soleyman</td>\n",
              "      <td>Iran</td>\n",
              "    </tr>\n",
              "    <tr>\n",
              "      <th>117009</th>\n",
              "      <td>2013-07-01</td>\n",
              "      <td>39.156</td>\n",
              "      <td>Ahvaz</td>\n",
              "      <td>Iran</td>\n",
              "    </tr>\n",
              "    <tr>\n",
              "      <th>4686127</th>\n",
              "      <td>2012-07-01</td>\n",
              "      <td>39.153</td>\n",
              "      <td>Masjed E Soleyman</td>\n",
              "      <td>Iran</td>\n",
              "    </tr>\n",
              "    <tr>\n",
              "      <th>116997</th>\n",
              "      <td>2012-07-01</td>\n",
              "      <td>39.153</td>\n",
              "      <td>Ahvaz</td>\n",
              "      <td>Iran</td>\n",
              "    </tr>\n",
              "  </tbody>\n",
              "</table>\n",
              "</div>"
            ],
            "text/plain": [
              "               Date  AvgTemp               City  Country\n",
              "8148236  1761-07-01   39.651             Warqla  Algeria\n",
              "4686139  2013-07-01   39.156  Masjed E Soleyman     Iran\n",
              "117009   2013-07-01   39.156              Ahvaz     Iran\n",
              "4686127  2012-07-01   39.153  Masjed E Soleyman     Iran\n",
              "116997   2012-07-01   39.153              Ahvaz     Iran"
            ]
          },
          "metadata": {
            "tags": []
          },
          "execution_count": 73
        }
      ]
    },
    {
      "cell_type": "markdown",
      "metadata": {
        "colab_type": "text",
        "id": "6WPZIaqXWopY"
      },
      "source": [
        "#### 14. Look at the rows with the 25 highest and lowest recorded temperatures."
      ]
    },
    {
      "cell_type": "code",
      "metadata": {
        "id": "A9GDTflhc3TU",
        "colab_type": "code",
        "outputId": "4c7691bb-f6e2-44ab-9c92-07e6c286735c",
        "colab": {
          "base_uri": "https://localhost:8080/"
        }
      },
      "source": [
        "landTemps.head(25)"
      ],
      "execution_count": 0,
      "outputs": [
        {
          "output_type": "execute_result",
          "data": {
            "text/html": [
              "<div>\n",
              "<style scoped>\n",
              "    .dataframe tbody tr th:only-of-type {\n",
              "        vertical-align: middle;\n",
              "    }\n",
              "\n",
              "    .dataframe tbody tr th {\n",
              "        vertical-align: top;\n",
              "    }\n",
              "\n",
              "    .dataframe thead th {\n",
              "        text-align: right;\n",
              "    }\n",
              "</style>\n",
              "<table border=\"1\" class=\"dataframe\">\n",
              "  <thead>\n",
              "    <tr style=\"text-align: right;\">\n",
              "      <th></th>\n",
              "      <th>Date</th>\n",
              "      <th>AvgTemp</th>\n",
              "      <th>City</th>\n",
              "      <th>Country</th>\n",
              "    </tr>\n",
              "  </thead>\n",
              "  <tbody>\n",
              "    <tr>\n",
              "      <th>8148236</th>\n",
              "      <td>1761-07-01</td>\n",
              "      <td>39.651</td>\n",
              "      <td>Warqla</td>\n",
              "      <td>Algeria</td>\n",
              "    </tr>\n",
              "    <tr>\n",
              "      <th>4686139</th>\n",
              "      <td>2013-07-01</td>\n",
              "      <td>39.156</td>\n",
              "      <td>Masjed E Soleyman</td>\n",
              "      <td>Iran</td>\n",
              "    </tr>\n",
              "    <tr>\n",
              "      <th>117009</th>\n",
              "      <td>2013-07-01</td>\n",
              "      <td>39.156</td>\n",
              "      <td>Ahvaz</td>\n",
              "      <td>Iran</td>\n",
              "    </tr>\n",
              "    <tr>\n",
              "      <th>4686127</th>\n",
              "      <td>2012-07-01</td>\n",
              "      <td>39.153</td>\n",
              "      <td>Masjed E Soleyman</td>\n",
              "      <td>Iran</td>\n",
              "    </tr>\n",
              "    <tr>\n",
              "      <th>116997</th>\n",
              "      <td>2012-07-01</td>\n",
              "      <td>39.153</td>\n",
              "      <td>Ahvaz</td>\n",
              "      <td>Iran</td>\n",
              "    </tr>\n",
              "    <tr>\n",
              "      <th>116973</th>\n",
              "      <td>2010-07-01</td>\n",
              "      <td>38.964</td>\n",
              "      <td>Ahvaz</td>\n",
              "      <td>Iran</td>\n",
              "    </tr>\n",
              "    <tr>\n",
              "      <th>4686103</th>\n",
              "      <td>2010-07-01</td>\n",
              "      <td>38.964</td>\n",
              "      <td>Masjed E Soleyman</td>\n",
              "      <td>Iran</td>\n",
              "    </tr>\n",
              "    <tr>\n",
              "      <th>4685983</th>\n",
              "      <td>2000-07-01</td>\n",
              "      <td>38.899</td>\n",
              "      <td>Masjed E Soleyman</td>\n",
              "      <td>Iran</td>\n",
              "    </tr>\n",
              "    <tr>\n",
              "      <th>116853</th>\n",
              "      <td>2000-07-01</td>\n",
              "      <td>38.899</td>\n",
              "      <td>Ahvaz</td>\n",
              "      <td>Iran</td>\n",
              "    </tr>\n",
              "    <tr>\n",
              "      <th>116985</th>\n",
              "      <td>2011-07-01</td>\n",
              "      <td>38.793</td>\n",
              "      <td>Ahvaz</td>\n",
              "      <td>Iran</td>\n",
              "    </tr>\n",
              "    <tr>\n",
              "      <th>4686115</th>\n",
              "      <td>2011-07-01</td>\n",
              "      <td>38.793</td>\n",
              "      <td>Masjed E Soleyman</td>\n",
              "      <td>Iran</td>\n",
              "    </tr>\n",
              "    <tr>\n",
              "      <th>4685995</th>\n",
              "      <td>2001-07-01</td>\n",
              "      <td>38.630</td>\n",
              "      <td>Masjed E Soleyman</td>\n",
              "      <td>Iran</td>\n",
              "    </tr>\n",
              "    <tr>\n",
              "      <th>116865</th>\n",
              "      <td>2001-07-01</td>\n",
              "      <td>38.630</td>\n",
              "      <td>Ahvaz</td>\n",
              "      <td>Iran</td>\n",
              "    </tr>\n",
              "    <tr>\n",
              "      <th>116926</th>\n",
              "      <td>2006-08-01</td>\n",
              "      <td>38.585</td>\n",
              "      <td>Ahvaz</td>\n",
              "      <td>Iran</td>\n",
              "    </tr>\n",
              "    <tr>\n",
              "      <th>4686056</th>\n",
              "      <td>2006-08-01</td>\n",
              "      <td>38.585</td>\n",
              "      <td>Masjed E Soleyman</td>\n",
              "      <td>Iran</td>\n",
              "    </tr>\n",
              "    <tr>\n",
              "      <th>4686043</th>\n",
              "      <td>2005-07-01</td>\n",
              "      <td>38.563</td>\n",
              "      <td>Masjed E Soleyman</td>\n",
              "      <td>Iran</td>\n",
              "    </tr>\n",
              "    <tr>\n",
              "      <th>116913</th>\n",
              "      <td>2005-07-01</td>\n",
              "      <td>38.563</td>\n",
              "      <td>Ahvaz</td>\n",
              "      <td>Iran</td>\n",
              "    </tr>\n",
              "    <tr>\n",
              "      <th>116830</th>\n",
              "      <td>1998-08-01</td>\n",
              "      <td>38.537</td>\n",
              "      <td>Ahvaz</td>\n",
              "      <td>Iran</td>\n",
              "    </tr>\n",
              "    <tr>\n",
              "      <th>4685960</th>\n",
              "      <td>1998-08-01</td>\n",
              "      <td>38.537</td>\n",
              "      <td>Masjed E Soleyman</td>\n",
              "      <td>Iran</td>\n",
              "    </tr>\n",
              "    <tr>\n",
              "      <th>28156</th>\n",
              "      <td>2012-07-01</td>\n",
              "      <td>38.531</td>\n",
              "      <td>Abadan</td>\n",
              "      <td>Iran</td>\n",
              "    </tr>\n",
              "    <tr>\n",
              "      <th>3796421</th>\n",
              "      <td>2012-07-01</td>\n",
              "      <td>38.531</td>\n",
              "      <td>Khorramshahr</td>\n",
              "      <td>Iran</td>\n",
              "    </tr>\n",
              "    <tr>\n",
              "      <th>4686055</th>\n",
              "      <td>2006-07-01</td>\n",
              "      <td>38.468</td>\n",
              "      <td>Masjed E Soleyman</td>\n",
              "      <td>Iran</td>\n",
              "    </tr>\n",
              "    <tr>\n",
              "      <th>116925</th>\n",
              "      <td>2006-07-01</td>\n",
              "      <td>38.468</td>\n",
              "      <td>Ahvaz</td>\n",
              "      <td>Iran</td>\n",
              "    </tr>\n",
              "    <tr>\n",
              "      <th>116805</th>\n",
              "      <td>1996-07-01</td>\n",
              "      <td>38.437</td>\n",
              "      <td>Ahvaz</td>\n",
              "      <td>Iran</td>\n",
              "    </tr>\n",
              "    <tr>\n",
              "      <th>4685935</th>\n",
              "      <td>1996-07-01</td>\n",
              "      <td>38.437</td>\n",
              "      <td>Masjed E Soleyman</td>\n",
              "      <td>Iran</td>\n",
              "    </tr>\n",
              "  </tbody>\n",
              "</table>\n",
              "</div>"
            ],
            "text/plain": [
              "               Date  AvgTemp               City  Country\n",
              "8148236  1761-07-01   39.651             Warqla  Algeria\n",
              "4686139  2013-07-01   39.156  Masjed E Soleyman     Iran\n",
              "117009   2013-07-01   39.156              Ahvaz     Iran\n",
              "4686127  2012-07-01   39.153  Masjed E Soleyman     Iran\n",
              "116997   2012-07-01   39.153              Ahvaz     Iran\n",
              "116973   2010-07-01   38.964              Ahvaz     Iran\n",
              "4686103  2010-07-01   38.964  Masjed E Soleyman     Iran\n",
              "4685983  2000-07-01   38.899  Masjed E Soleyman     Iran\n",
              "116853   2000-07-01   38.899              Ahvaz     Iran\n",
              "116985   2011-07-01   38.793              Ahvaz     Iran\n",
              "4686115  2011-07-01   38.793  Masjed E Soleyman     Iran\n",
              "4685995  2001-07-01   38.630  Masjed E Soleyman     Iran\n",
              "116865   2001-07-01   38.630              Ahvaz     Iran\n",
              "116926   2006-08-01   38.585              Ahvaz     Iran\n",
              "4686056  2006-08-01   38.585  Masjed E Soleyman     Iran\n",
              "4686043  2005-07-01   38.563  Masjed E Soleyman     Iran\n",
              "116913   2005-07-01   38.563              Ahvaz     Iran\n",
              "116830   1998-08-01   38.537              Ahvaz     Iran\n",
              "4685960  1998-08-01   38.537  Masjed E Soleyman     Iran\n",
              "28156    2012-07-01   38.531             Abadan     Iran\n",
              "3796421  2012-07-01   38.531       Khorramshahr     Iran\n",
              "4686055  2006-07-01   38.468  Masjed E Soleyman     Iran\n",
              "116925   2006-07-01   38.468              Ahvaz     Iran\n",
              "116805   1996-07-01   38.437              Ahvaz     Iran\n",
              "4685935  1996-07-01   38.437  Masjed E Soleyman     Iran"
            ]
          },
          "metadata": {
            "tags": []
          },
          "execution_count": 74
        }
      ]
    },
    {
      "cell_type": "code",
      "metadata": {
        "id": "ghxJC1--b-zj",
        "colab_type": "code",
        "outputId": "7d874aac-a545-4632-bbf7-0fb098203981",
        "colab": {
          "base_uri": "https://localhost:8080/"
        }
      },
      "source": [
        "landTemps.tail(25)"
      ],
      "execution_count": 0,
      "outputs": [
        {
          "output_type": "execute_result",
          "data": {
            "text/html": [
              "<div>\n",
              "<style scoped>\n",
              "    .dataframe tbody tr th:only-of-type {\n",
              "        vertical-align: middle;\n",
              "    }\n",
              "\n",
              "    .dataframe tbody tr th {\n",
              "        vertical-align: top;\n",
              "    }\n",
              "\n",
              "    .dataframe thead th {\n",
              "        text-align: right;\n",
              "    }\n",
              "</style>\n",
              "<table border=\"1\" class=\"dataframe\">\n",
              "  <thead>\n",
              "    <tr style=\"text-align: right;\">\n",
              "      <th></th>\n",
              "      <th>Date</th>\n",
              "      <th>AvgTemp</th>\n",
              "      <th>City</th>\n",
              "      <th>Country</th>\n",
              "    </tr>\n",
              "  </thead>\n",
              "  <tbody>\n",
              "    <tr>\n",
              "      <th>4067783</th>\n",
              "      <td>1889-01-01</td>\n",
              "      <td>-37.029</td>\n",
              "      <td>Kyzyl</td>\n",
              "      <td>Russia</td>\n",
              "    </tr>\n",
              "    <tr>\n",
              "      <th>5307871</th>\n",
              "      <td>1915-01-01</td>\n",
              "      <td>-37.128</td>\n",
              "      <td>Norilsk</td>\n",
              "      <td>Russia</td>\n",
              "    </tr>\n",
              "    <tr>\n",
              "      <th>4067710</th>\n",
              "      <td>1882-12-01</td>\n",
              "      <td>-37.219</td>\n",
              "      <td>Kyzyl</td>\n",
              "      <td>Russia</td>\n",
              "    </tr>\n",
              "    <tr>\n",
              "      <th>5308820</th>\n",
              "      <td>1994-02-01</td>\n",
              "      <td>-37.248</td>\n",
              "      <td>Norilsk</td>\n",
              "      <td>Russia</td>\n",
              "    </tr>\n",
              "    <tr>\n",
              "      <th>7919596</th>\n",
              "      <td>1915-01-01</td>\n",
              "      <td>-37.443</td>\n",
              "      <td>Ust Ilimsk</td>\n",
              "      <td>Russia</td>\n",
              "    </tr>\n",
              "    <tr>\n",
              "      <th>5307511</th>\n",
              "      <td>1885-01-01</td>\n",
              "      <td>-37.488</td>\n",
              "      <td>Norilsk</td>\n",
              "      <td>Russia</td>\n",
              "    </tr>\n",
              "    <tr>\n",
              "      <th>4068179</th>\n",
              "      <td>1922-01-01</td>\n",
              "      <td>-37.625</td>\n",
              "      <td>Kyzyl</td>\n",
              "      <td>Russia</td>\n",
              "    </tr>\n",
              "    <tr>\n",
              "      <th>7919332</th>\n",
              "      <td>1893-01-01</td>\n",
              "      <td>-37.713</td>\n",
              "      <td>Ust Ilimsk</td>\n",
              "      <td>Russia</td>\n",
              "    </tr>\n",
              "    <tr>\n",
              "      <th>5308412</th>\n",
              "      <td>1960-02-01</td>\n",
              "      <td>-37.869</td>\n",
              "      <td>Norilsk</td>\n",
              "      <td>Russia</td>\n",
              "    </tr>\n",
              "    <tr>\n",
              "      <th>5307632</th>\n",
              "      <td>1895-02-01</td>\n",
              "      <td>-38.085</td>\n",
              "      <td>Norilsk</td>\n",
              "      <td>Russia</td>\n",
              "    </tr>\n",
              "    <tr>\n",
              "      <th>5308976</th>\n",
              "      <td>2007-02-01</td>\n",
              "      <td>-38.344</td>\n",
              "      <td>Norilsk</td>\n",
              "      <td>Russia</td>\n",
              "    </tr>\n",
              "    <tr>\n",
              "      <th>5308903</th>\n",
              "      <td>2001-01-01</td>\n",
              "      <td>-38.389</td>\n",
              "      <td>Norilsk</td>\n",
              "      <td>Russia</td>\n",
              "    </tr>\n",
              "    <tr>\n",
              "      <th>4067459</th>\n",
              "      <td>1862-01-01</td>\n",
              "      <td>-38.396</td>\n",
              "      <td>Kyzyl</td>\n",
              "      <td>Russia</td>\n",
              "    </tr>\n",
              "    <tr>\n",
              "      <th>5308902</th>\n",
              "      <td>2000-12-01</td>\n",
              "      <td>-38.447</td>\n",
              "      <td>Norilsk</td>\n",
              "      <td>Russia</td>\n",
              "    </tr>\n",
              "    <tr>\n",
              "      <th>4067915</th>\n",
              "      <td>1900-01-01</td>\n",
              "      <td>-38.693</td>\n",
              "      <td>Kyzyl</td>\n",
              "      <td>Russia</td>\n",
              "    </tr>\n",
              "    <tr>\n",
              "      <th>5307956</th>\n",
              "      <td>1922-02-01</td>\n",
              "      <td>-38.715</td>\n",
              "      <td>Norilsk</td>\n",
              "      <td>Russia</td>\n",
              "    </tr>\n",
              "    <tr>\n",
              "      <th>5308520</th>\n",
              "      <td>1969-02-01</td>\n",
              "      <td>-38.784</td>\n",
              "      <td>Norilsk</td>\n",
              "      <td>Russia</td>\n",
              "    </tr>\n",
              "    <tr>\n",
              "      <th>4068743</th>\n",
              "      <td>1969-01-01</td>\n",
              "      <td>-38.906</td>\n",
              "      <td>Kyzyl</td>\n",
              "      <td>Russia</td>\n",
              "    </tr>\n",
              "    <tr>\n",
              "      <th>4067579</th>\n",
              "      <td>1872-01-01</td>\n",
              "      <td>-38.951</td>\n",
              "      <td>Kyzyl</td>\n",
              "      <td>Russia</td>\n",
              "    </tr>\n",
              "    <tr>\n",
              "      <th>4068143</th>\n",
              "      <td>1919-01-01</td>\n",
              "      <td>-39.038</td>\n",
              "      <td>Kyzyl</td>\n",
              "      <td>Russia</td>\n",
              "    </tr>\n",
              "    <tr>\n",
              "      <th>5308639</th>\n",
              "      <td>1979-01-01</td>\n",
              "      <td>-39.403</td>\n",
              "      <td>Norilsk</td>\n",
              "      <td>Russia</td>\n",
              "    </tr>\n",
              "    <tr>\n",
              "      <th>5308579</th>\n",
              "      <td>1974-01-01</td>\n",
              "      <td>-39.683</td>\n",
              "      <td>Norilsk</td>\n",
              "      <td>Russia</td>\n",
              "    </tr>\n",
              "    <tr>\n",
              "      <th>5308484</th>\n",
              "      <td>1966-02-01</td>\n",
              "      <td>-39.919</td>\n",
              "      <td>Norilsk</td>\n",
              "      <td>Russia</td>\n",
              "    </tr>\n",
              "    <tr>\n",
              "      <th>4067831</th>\n",
              "      <td>1893-01-01</td>\n",
              "      <td>-41.101</td>\n",
              "      <td>Kyzyl</td>\n",
              "      <td>Russia</td>\n",
              "    </tr>\n",
              "    <tr>\n",
              "      <th>5308640</th>\n",
              "      <td>1979-02-01</td>\n",
              "      <td>-42.704</td>\n",
              "      <td>Norilsk</td>\n",
              "      <td>Russia</td>\n",
              "    </tr>\n",
              "  </tbody>\n",
              "</table>\n",
              "</div>"
            ],
            "text/plain": [
              "               Date  AvgTemp        City Country\n",
              "4067783  1889-01-01  -37.029       Kyzyl  Russia\n",
              "5307871  1915-01-01  -37.128     Norilsk  Russia\n",
              "4067710  1882-12-01  -37.219       Kyzyl  Russia\n",
              "5308820  1994-02-01  -37.248     Norilsk  Russia\n",
              "7919596  1915-01-01  -37.443  Ust Ilimsk  Russia\n",
              "5307511  1885-01-01  -37.488     Norilsk  Russia\n",
              "4068179  1922-01-01  -37.625       Kyzyl  Russia\n",
              "7919332  1893-01-01  -37.713  Ust Ilimsk  Russia\n",
              "5308412  1960-02-01  -37.869     Norilsk  Russia\n",
              "5307632  1895-02-01  -38.085     Norilsk  Russia\n",
              "5308976  2007-02-01  -38.344     Norilsk  Russia\n",
              "5308903  2001-01-01  -38.389     Norilsk  Russia\n",
              "4067459  1862-01-01  -38.396       Kyzyl  Russia\n",
              "5308902  2000-12-01  -38.447     Norilsk  Russia\n",
              "4067915  1900-01-01  -38.693       Kyzyl  Russia\n",
              "5307956  1922-02-01  -38.715     Norilsk  Russia\n",
              "5308520  1969-02-01  -38.784     Norilsk  Russia\n",
              "4068743  1969-01-01  -38.906       Kyzyl  Russia\n",
              "4067579  1872-01-01  -38.951       Kyzyl  Russia\n",
              "4068143  1919-01-01  -39.038       Kyzyl  Russia\n",
              "5308639  1979-01-01  -39.403     Norilsk  Russia\n",
              "5308579  1974-01-01  -39.683     Norilsk  Russia\n",
              "5308484  1966-02-01  -39.919     Norilsk  Russia\n",
              "4067831  1893-01-01  -41.101       Kyzyl  Russia\n",
              "5308640  1979-02-01  -42.704     Norilsk  Russia"
            ]
          },
          "metadata": {
            "tags": []
          },
          "execution_count": 75
        }
      ]
    },
    {
      "cell_type": "markdown",
      "metadata": {
        "colab_type": "text",
        "id": "4jabjhKVcvti"
      },
      "source": [
        "#### 15. Sort by Date (early to recent), then Country (alphabetical), then AvgTemp (high to low)."
      ]
    },
    {
      "cell_type": "code",
      "metadata": {
        "colab_type": "code",
        "id": "WhpelU_dcvtk",
        "outputId": "db423a05-d162-431d-fcc6-59d22691f8f6",
        "colab": {
          "base_uri": "https://localhost:8080/"
        }
      },
      "source": [
        "landTemps.sort_values(by=['Date', 'Country', 'AvgTemp'], ascending=[True, True, False], inplace=True)\n",
        "landTemps.head(10)"
      ],
      "execution_count": 0,
      "outputs": [
        {
          "output_type": "execute_result",
          "data": {
            "text/html": [
              "<div>\n",
              "<style scoped>\n",
              "    .dataframe tbody tr th:only-of-type {\n",
              "        vertical-align: middle;\n",
              "    }\n",
              "\n",
              "    .dataframe tbody tr th {\n",
              "        vertical-align: top;\n",
              "    }\n",
              "\n",
              "    .dataframe thead th {\n",
              "        text-align: right;\n",
              "    }\n",
              "</style>\n",
              "<table border=\"1\" class=\"dataframe\">\n",
              "  <thead>\n",
              "    <tr style=\"text-align: right;\">\n",
              "      <th></th>\n",
              "      <th>Date</th>\n",
              "      <th>AvgTemp</th>\n",
              "      <th>City</th>\n",
              "      <th>Country</th>\n",
              "    </tr>\n",
              "  </thead>\n",
              "  <tbody>\n",
              "    <tr>\n",
              "      <th>2127589</th>\n",
              "      <td>1743-11-01</td>\n",
              "      <td>12.686</td>\n",
              "      <td>Durrës</td>\n",
              "      <td>Albania</td>\n",
              "    </tr>\n",
              "    <tr>\n",
              "      <th>7621728</th>\n",
              "      <td>1743-11-01</td>\n",
              "      <td>12.686</td>\n",
              "      <td>Tirana</td>\n",
              "      <td>Albania</td>\n",
              "    </tr>\n",
              "    <tr>\n",
              "      <th>2195210</th>\n",
              "      <td>1743-11-01</td>\n",
              "      <td>12.686</td>\n",
              "      <td>Elbasan</td>\n",
              "      <td>Albania</td>\n",
              "    </tr>\n",
              "    <tr>\n",
              "      <th>8017080</th>\n",
              "      <td>1743-11-01</td>\n",
              "      <td>4.112</td>\n",
              "      <td>Vienna</td>\n",
              "      <td>Austria</td>\n",
              "    </tr>\n",
              "    <tr>\n",
              "      <th>4289042</th>\n",
              "      <td>1743-11-01</td>\n",
              "      <td>3.336</td>\n",
              "      <td>Linz</td>\n",
              "      <td>Austria</td>\n",
              "    </tr>\n",
              "    <tr>\n",
              "      <th>2650981</th>\n",
              "      <td>1743-11-01</td>\n",
              "      <td>2.997</td>\n",
              "      <td>Graz</td>\n",
              "      <td>Austria</td>\n",
              "    </tr>\n",
              "    <tr>\n",
              "      <th>3197101</th>\n",
              "      <td>1743-11-01</td>\n",
              "      <td>1.323</td>\n",
              "      <td>Innsbruck</td>\n",
              "      <td>Austria</td>\n",
              "    </tr>\n",
              "    <tr>\n",
              "      <th>6593991</th>\n",
              "      <td>1743-11-01</td>\n",
              "      <td>1.271</td>\n",
              "      <td>Salzburg</td>\n",
              "      <td>Austria</td>\n",
              "    </tr>\n",
              "    <tr>\n",
              "      <th>1127149</th>\n",
              "      <td>1743-11-01</td>\n",
              "      <td>2.626</td>\n",
              "      <td>Brest</td>\n",
              "      <td>Belarus</td>\n",
              "    </tr>\n",
              "    <tr>\n",
              "      <th>3018155</th>\n",
              "      <td>1743-11-01</td>\n",
              "      <td>2.347</td>\n",
              "      <td>Hrodna</td>\n",
              "      <td>Belarus</td>\n",
              "    </tr>\n",
              "  </tbody>\n",
              "</table>\n",
              "</div>"
            ],
            "text/plain": [
              "               Date  AvgTemp       City  Country\n",
              "2127589  1743-11-01   12.686     Durrës  Albania\n",
              "7621728  1743-11-01   12.686     Tirana  Albania\n",
              "2195210  1743-11-01   12.686    Elbasan  Albania\n",
              "8017080  1743-11-01    4.112     Vienna  Austria\n",
              "4289042  1743-11-01    3.336       Linz  Austria\n",
              "2650981  1743-11-01    2.997       Graz  Austria\n",
              "3197101  1743-11-01    1.323  Innsbruck  Austria\n",
              "6593991  1743-11-01    1.271   Salzburg  Austria\n",
              "1127149  1743-11-01    2.626      Brest  Belarus\n",
              "3018155  1743-11-01    2.347     Hrodna  Belarus"
            ]
          },
          "metadata": {
            "tags": []
          },
          "execution_count": 76
        }
      ]
    },
    {
      "cell_type": "markdown",
      "metadata": {
        "colab_type": "text",
        "id": "2fAcGqCVcv8H"
      },
      "source": [
        "#### 16. Reset the index of the df."
      ]
    },
    {
      "cell_type": "code",
      "metadata": {
        "colab_type": "code",
        "id": "RVXqNKzBcv8I",
        "colab": {}
      },
      "source": [
        "landTemps.reset_index(drop=True, inplace=True) # drop=False? or True?\n",
        "landTemps"
      ],
      "execution_count": 0,
      "outputs": []
    }
  ]
}