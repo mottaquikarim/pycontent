{
  "nbformat": 4,
  "nbformat_minor": 0,
  "metadata": {
    "colab": {
      "name": "wrangling_pset.ipynb",
      "provenance": [],
      "collapsed_sections": [
        "ap8noF3MXXnf",
        "mlTUHw1aQTg8",
        "zWLzcQ1wRlNT",
        "FbjukmWESNhy",
        "eE2GmoclQh3C",
        "lGDsCA8QzAtt",
        "TqlK3FfHSNrI",
        "HSccZVkjacUE",
        "UgAkp3K-QirH",
        "N4V0su5BSYh8",
        "j371gfNFY2uP",
        "vaWTjqJMSNz9",
        "q0fmbpfESYBl",
        "6WPZIaqXWopY",
        "4jabjhKVcvti",
        "2fAcGqCVcv8H",
        "25aXfjhfLNT_",
        "wLjRr_CoLV76"
      ],
      "authorship_tag": "ABX9TyORT6nKm3A2O0FIkVW7GV9Z",
      "include_colab_link": true
    },
    "kernelspec": {
      "name": "python3",
      "display_name": "Python 3"
    }
  },
  "cells": [
    {
      "cell_type": "markdown",
      "metadata": {
        "id": "view-in-github",
        "colab_type": "text"
      },
      "source": [
        "<a href=\"https://colab.research.google.com/github/mottaquikarim/pycontent/blob/master/content/psets/wrangling_pset.ipynb\" target=\"_parent\"><img src=\"https://colab.research.google.com/assets/colab-badge.svg\" alt=\"Open In Colab\"/></a>"
      ]
    },
    {
      "cell_type": "markdown",
      "metadata": {
        "id": "GSAuej4Cm1dD",
        "colab_type": "text"
      },
      "source": [
        "# Earth Surface Temperature by City from 1743-2014"
      ]
    },
    {
      "cell_type": "markdown",
      "metadata": {
        "id": "a39fad1-nq2v",
        "colab_type": "text"
      },
      "source": [
        "#### Data Dictionary:"
      ]
    },
    {
      "cell_type": "markdown",
      "metadata": {
        "id": "p39ixj9HnBPX",
        "colab_type": "text"
      },
      "source": [
        "This is a \"...[repackaging] the data from a newer compilation put together by the Berkeley Earth, which is affiliated with Lawrence Berkeley National Laboratory. The Berkeley Earth Surface Temperature Study combines 1.6 billion temperature reports from 16 pre-existing archives.\"\n",
        "\n",
        "\"Early data was collected by technicians using mercury thermometers, where any variation in the visit time impacted measurements. In the 1940s, the construction of airports caused many weather stations to be moved. In the 1980s, there was a move to electronic thermometers that are said to have a cooling bias.\"\n",
        "\n",
        "* `dt`: Date of temperature observation in format \"YYYY-MM-DD\"; ranges from 1743-2013\n",
        "* `AverageTemperature`: in degress Celsius\n",
        "* `AverageTemperatureUncertainty`: the 95% confidence interval around the average\n",
        "* `City`\n",
        "* `Country`\n",
        "* `Latitude`\n",
        "* `Longitude`\n",
        "\n",
        "**Source**: https://www.kaggle.com/berkeleyearth/climate-change-earth-surface-temperature-data"
      ]
    },
    {
      "cell_type": "markdown",
      "metadata": {
        "id": "ap8noF3MXXnf",
        "colab_type": "text"
      },
      "source": [
        "#### 1. Import the necessary libraries. Load the data into a df called \"landTemps\" and preview it."
      ]
    },
    {
      "cell_type": "markdown",
      "metadata": {
        "id": "rKvhUhy-JHhP",
        "colab_type": "text"
      },
      "source": [
        "The link below leads to a zip file. You'll have to download it, unzip it, and then upload the unzipped CSV into your Colab notebook. To do so, click on the folder icon in the leftand menu, and you'll find the upload button.\n",
        "\n",
        "https://drive.google.com/open?id=1jDD8KBPFa61GR0FFjj-QXgYRlDn-UuvJ"
      ]
    },
    {
      "cell_type": "code",
      "metadata": {
        "colab_type": "code",
        "id": "UuBoYf0msFAy",
        "colab": {}
      },
      "source": [
        ""
      ],
      "execution_count": 0,
      "outputs": []
    },
    {
      "cell_type": "markdown",
      "metadata": {
        "colab_type": "text",
        "id": "mlTUHw1aQTg8"
      },
      "source": [
        "#### 2. How many total records are there in the df? Save this to a variable"
      ]
    },
    {
      "cell_type": "code",
      "metadata": {
        "colab_type": "code",
        "id": "yXvz8k0kQThC",
        "colab": {}
      },
      "source": [
        ""
      ],
      "execution_count": 0,
      "outputs": []
    },
    {
      "cell_type": "markdown",
      "metadata": {
        "colab_type": "text",
        "id": "zWLzcQ1wRlNT"
      },
      "source": [
        "#### 3. What data type fills the dt column?"
      ]
    },
    {
      "cell_type": "code",
      "metadata": {
        "colab_type": "code",
        "id": "M9EjPl9qRlNX",
        "colab": {}
      },
      "source": [
        ""
      ],
      "execution_count": 0,
      "outputs": []
    },
    {
      "cell_type": "markdown",
      "metadata": {
        "colab_type": "text",
        "id": "FbjukmWESNhy"
      },
      "source": [
        "#### 4. Rename the dt and AverageTemperature columns to Date and AvgTemp respectively.\n"
      ]
    },
    {
      "cell_type": "code",
      "metadata": {
        "colab_type": "code",
        "id": "BX1JGldqSNz-",
        "colab": {}
      },
      "source": [
        ""
      ],
      "execution_count": 0,
      "outputs": []
    },
    {
      "cell_type": "markdown",
      "metadata": {
        "colab_type": "text",
        "id": "eE2GmoclQh3C"
      },
      "source": [
        "#### 5. What countries are represented? Save them in a Series called \"country_names\" and sort alphabetically."
      ]
    },
    {
      "cell_type": "code",
      "metadata": {
        "colab_type": "code",
        "id": "vluMC1gkQh3E",
        "colab": {}
      },
      "source": [
        ""
      ],
      "execution_count": 0,
      "outputs": []
    },
    {
      "cell_type": "markdown",
      "metadata": {
        "id": "lGDsCA8QzAtt",
        "colab_type": "text"
      },
      "source": [
        "#### 6. Drop the \"Latitude\" and \"Longitude\" columns."
      ]
    },
    {
      "cell_type": "code",
      "metadata": {
        "id": "5ef6KiyxzH9u",
        "colab_type": "code",
        "colab": {}
      },
      "source": [
        ""
      ],
      "execution_count": 0,
      "outputs": []
    },
    {
      "cell_type": "markdown",
      "metadata": {
        "colab_type": "text",
        "id": "TqlK3FfHSNrI"
      },
      "source": [
        "#### 7. How many duplicate rows are there?\n",
        "p.s. Why do you think these exist?"
      ]
    },
    {
      "cell_type": "code",
      "metadata": {
        "colab_type": "code",
        "id": "y10cYQP1SNrL",
        "colab": {}
      },
      "source": [
        ""
      ],
      "execution_count": 0,
      "outputs": []
    },
    {
      "cell_type": "markdown",
      "metadata": {
        "id": "HSccZVkjacUE",
        "colab_type": "text"
      },
      "source": [
        "#### 8. Drop the duplicate rows from this version of the landTemps df."
      ]
    },
    {
      "cell_type": "code",
      "metadata": {
        "id": "Vio8YFpPZofj",
        "colab_type": "code",
        "colab": {}
      },
      "source": [
        ""
      ],
      "execution_count": 0,
      "outputs": []
    },
    {
      "cell_type": "markdown",
      "metadata": {
        "colab_type": "text",
        "id": "UgAkp3K-QirH"
      },
      "source": [
        "#### 9. How many records are there for Venezuela?"
      ]
    },
    {
      "cell_type": "code",
      "metadata": {
        "colab_type": "code",
        "id": "SHk-dvCYQirI",
        "colab": {}
      },
      "source": [
        ""
      ],
      "execution_count": 0,
      "outputs": []
    },
    {
      "cell_type": "markdown",
      "metadata": {
        "colab_type": "text",
        "id": "N4V0su5BSYh8"
      },
      "source": [
        "#### 10. How many null values are there for AvgTemp?"
      ]
    },
    {
      "cell_type": "code",
      "metadata": {
        "colab_type": "code",
        "id": "ZD1zP3szSYh9",
        "colab": {}
      },
      "source": [
        ""
      ],
      "execution_count": 0,
      "outputs": []
    },
    {
      "cell_type": "markdown",
      "metadata": {
        "colab_type": "text",
        "id": "j371gfNFY2uP"
      },
      "source": [
        "#### 11. **Using filtering techniques**, return the dataframe such that only rows with valid temperatures are included."
      ]
    },
    {
      "cell_type": "code",
      "metadata": {
        "colab_type": "code",
        "id": "qZi0EN54Y2uT",
        "colab": {}
      },
      "source": [
        ""
      ],
      "execution_count": 0,
      "outputs": []
    },
    {
      "cell_type": "markdown",
      "metadata": {
        "colab_type": "text",
        "id": "vaWTjqJMSNz9"
      },
      "source": [
        "#### 12. What percent of the original df records is left?"
      ]
    },
    {
      "cell_type": "code",
      "metadata": {
        "colab_type": "code",
        "id": "1P-973M5SNh3",
        "colab": {}
      },
      "source": [
        ""
      ],
      "execution_count": 0,
      "outputs": []
    },
    {
      "cell_type": "markdown",
      "metadata": {
        "colab_type": "text",
        "id": "q0fmbpfESYBl"
      },
      "source": [
        "#### 13. Sort by AvgTemp low to high"
      ]
    },
    {
      "cell_type": "code",
      "metadata": {
        "colab_type": "code",
        "id": "aw3noj7ISYBn",
        "colab": {}
      },
      "source": [
        ""
      ],
      "execution_count": 0,
      "outputs": []
    },
    {
      "cell_type": "markdown",
      "metadata": {
        "colab_type": "text",
        "id": "6WPZIaqXWopY"
      },
      "source": [
        "#### 14. Look at the rows with the 25 highest and lowest recorded temperatures."
      ]
    },
    {
      "cell_type": "code",
      "metadata": {
        "id": "A9GDTflhc3TU",
        "colab_type": "code",
        "colab": {}
      },
      "source": [
        ""
      ],
      "execution_count": 0,
      "outputs": []
    },
    {
      "cell_type": "code",
      "metadata": {
        "id": "ghxJC1--b-zj",
        "colab_type": "code",
        "colab": {}
      },
      "source": [
        ""
      ],
      "execution_count": 0,
      "outputs": []
    },
    {
      "cell_type": "markdown",
      "metadata": {
        "colab_type": "text",
        "id": "4jabjhKVcvti"
      },
      "source": [
        "#### 15. Sort by Date (early to recent), then Country (alphabetical), then AvgTemp (high to low)."
      ]
    },
    {
      "cell_type": "code",
      "metadata": {
        "colab_type": "code",
        "id": "WhpelU_dcvtk",
        "colab": {}
      },
      "source": [
        ""
      ],
      "execution_count": 0,
      "outputs": []
    },
    {
      "cell_type": "markdown",
      "metadata": {
        "colab_type": "text",
        "id": "2fAcGqCVcv8H"
      },
      "source": [
        "#### 16. Reset the index of the df."
      ]
    },
    {
      "cell_type": "code",
      "metadata": {
        "colab_type": "code",
        "id": "RVXqNKzBcv8I",
        "colab": {}
      },
      "source": [
        ""
      ],
      "execution_count": 0,
      "outputs": []
    },
    {
      "cell_type": "markdown",
      "metadata": {
        "id": "25aXfjhfLNT_",
        "colab_type": "text"
      },
      "source": [
        "#### 17. Return all the records from the year 1823."
      ]
    },
    {
      "cell_type": "code",
      "metadata": {
        "id": "p75qiO_XLUj0",
        "colab_type": "code",
        "colab": {}
      },
      "source": [
        ""
      ],
      "execution_count": 0,
      "outputs": []
    },
    {
      "cell_type": "markdown",
      "metadata": {
        "id": "wLjRr_CoLV76",
        "colab_type": "text"
      },
      "source": [
        "#### 18. Return all the records with temperatures above 12 degrees."
      ]
    },
    {
      "cell_type": "code",
      "metadata": {
        "id": "Zcu8t89vLjIk",
        "colab_type": "code",
        "colab": {}
      },
      "source": [
        ""
      ],
      "execution_count": 0,
      "outputs": []
    }
  ]
}