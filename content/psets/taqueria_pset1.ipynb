{
  "nbformat": 4,
  "nbformat_minor": 0,
  "metadata": {
    "colab": {
      "name": "taqueria_pset1.ipynb",
      "provenance": [],
      "collapsed_sections": [
        "JTIlk4jjUskq"
      ],
      "authorship_tag": "ABX9TyPE8xhGY5FJhQ8R51sUgbzR",
      "include_colab_link": true
    },
    "kernelspec": {
      "name": "python3",
      "display_name": "Python 3"
    }
  },
  "cells": [
    {
      "cell_type": "markdown",
      "metadata": {
        "id": "view-in-github",
        "colab_type": "text"
      },
      "source": [
        "<a href=\"https://colab.research.google.com/github/mottaquikarim/pycontent/blob/master/content/psets/taqueria_pset1.ipynb\" target=\"_parent\"><img src=\"https://colab.research.google.com/assets/colab-badge.svg\" alt=\"Open In Colab\"/></a>"
      ]
    },
    {
      "cell_type": "markdown",
      "metadata": {
        "id": "VvrGNQdkQ_Ul",
        "colab_type": "text"
      },
      "source": [
        "# Taqqui's Taqueria"
      ]
    },
    {
      "cell_type": "markdown",
      "metadata": {
        "id": "wcMHfFfYNFmc",
        "colab_type": "text"
      },
      "source": [
        "The dataset accompanying this pset contains a sample of order data from a fictitious Mexican restaurant called Taqqui's Taqueria. For simplicity's sake, this is only a subset of the types of data you'd see for orders from a real restaurant. Moreover, each column contains only one value per row.\n",
        "\n",
        "For each of these practice problems, try to use functions that give the a targeted answer. For example, .info() provides a plethora of metadata, but if a question asks for a specific piece, try to return just that."
      ]
    },
    {
      "cell_type": "markdown",
      "metadata": {
        "id": "JTIlk4jjUskq",
        "colab_type": "text"
      },
      "source": [
        "## Data Dictionary"
      ]
    },
    {
      "cell_type": "markdown",
      "metadata": {
        "id": "_8SF7RFVVztc",
        "colab_type": "text"
      },
      "source": [
        "**Order ID**: unique ID for the order\n",
        "\n",
        "**Filling**: choice of filling\n",
        "\n",
        "**Taco Quantity**: how many tacos were ordered\n",
        "\n",
        "**Side**: choice from the menu's side offerings, *OPTIONAL*\n",
        "\n",
        "**Dessert**: choice from the menu's dessert offerings, *OPTIONAL*\n",
        "\n",
        "\n"
      ]
    },
    {
      "cell_type": "markdown",
      "metadata": {
        "id": "X1yK3mFViksX",
        "colab_type": "text"
      },
      "source": [
        "### Menu"
      ]
    },
    {
      "cell_type": "markdown",
      "metadata": {
        "id": "TnJ1M6cDRBat",
        "colab_type": "text"
      },
      "source": [
        "**Taco Fillings**\n",
        "* *Al Pastor*: Sauteed Pork marinated in lemon and pineapple juice\n",
        "* *Barbacoa*: Shredded Beef\n",
        "* *Cabeza*: Beef Cheek\n",
        "* *Camarones*: Grilled shrimp\n",
        "* *Carne Asada*: Grilled Steak\n",
        "* *Carnitas*: Diced Pork\n",
        "* *Chorizo*: Spicy Mexican sausage\n",
        "* *Hongos*: Grilled Mushrooms\n",
        "* *Lengua*: Beef Tongue\n",
        "* *Nopales*: Grilled cactus\n",
        "* *Pescado*: Marinated Tilapia\n",
        "* *Picadillo*: Ground Beef\n",
        "* *Pollo Asada*: Grilled Chicken\n",
        "\n",
        "**Sides**\n",
        "* *Esquites*: Mexican street corn with chili powder, queso fresco, and lime juice\n",
        "* *Frijoles*: Refried beans\n",
        "* *Guacamole*: Guacamole with tortilla chips\n",
        "\n",
        "**Desserts**\n",
        "* **Flan**: Creamy, baked caramel custard\n",
        "* **Churro**: fried pastry dough coated in cinnamon\n",
        "* **Tres Leches**: Creamy vanilla cinnamon sponge cake\n",
        "* **Arroz con Leche**: Spiced rice pudding with raisins\n"
      ]
    },
    {
      "cell_type": "markdown",
      "metadata": {
        "id": "L5JVKbnvXQ69",
        "colab_type": "text"
      },
      "source": [
        "## Practice Section 1"
      ]
    },
    {
      "cell_type": "markdown",
      "metadata": {
        "id": "ap8noF3MXXnf",
        "colab_type": "text"
      },
      "source": [
        "### 1. Import the necessary libraries"
      ]
    },
    {
      "cell_type": "code",
      "metadata": {
        "id": "vGSPxsahXW4p",
        "colab_type": "code",
        "colab": {}
      },
      "source": [
        ""
      ],
      "execution_count": 0,
      "outputs": []
    },
    {
      "cell_type": "markdown",
      "metadata": {
        "id": "HsHYU-2hXZba",
        "colab_type": "text"
      },
      "source": [
        "### 2. Load and copy the order data from 'taqueria.csv'. Your ultimate df (dataframe) should be called \"orders\"."
      ]
    },
    {
      "cell_type": "code",
      "metadata": {
        "id": "AoB6aFKbUVA9",
        "colab_type": "code",
        "colab": {}
      },
      "source": [
        "# https://raw.githubusercontent.com/mottaquikarim/pycontent/master/content/raw_data/taqueria.csv"
      ],
      "execution_count": 0,
      "outputs": []
    },
    {
      "cell_type": "code",
      "metadata": {
        "id": "k9X6Hixdi2Fd",
        "colab_type": "code",
        "colab": {}
      },
      "source": [
        ""
      ],
      "execution_count": 0,
      "outputs": []
    },
    {
      "cell_type": "markdown",
      "metadata": {
        "id": "42q5Qv44XgLe",
        "colab_type": "text"
      },
      "source": [
        "### 3. View a summary of the metadata for the orders df."
      ]
    },
    {
      "cell_type": "code",
      "metadata": {
        "id": "ZqO94b4DkCE_",
        "colab_type": "code",
        "colab": {}
      },
      "source": [
        ""
      ],
      "execution_count": 0,
      "outputs": []
    },
    {
      "cell_type": "markdown",
      "metadata": {
        "id": "U8llKxo1gbkr",
        "colab_type": "text"
      },
      "source": [
        "### 4. How many rows and columns are there? "
      ]
    },
    {
      "cell_type": "code",
      "metadata": {
        "id": "qY0AXh6fkseT",
        "colab_type": "code",
        "colab": {}
      },
      "source": [
        ""
      ],
      "execution_count": 0,
      "outputs": []
    },
    {
      "cell_type": "markdown",
      "metadata": {
        "id": "ONlvZCKXUUY0",
        "colab_type": "text"
      },
      "source": [
        "### 5. What are the names of the columns in the orders df?"
      ]
    },
    {
      "cell_type": "code",
      "metadata": {
        "id": "GtSaKGkJknWc",
        "colab_type": "code",
        "colab": {}
      },
      "source": [
        ""
      ],
      "execution_count": 0,
      "outputs": []
    },
    {
      "cell_type": "markdown",
      "metadata": {
        "id": "-STdZgo-bRVi",
        "colab_type": "text"
      },
      "source": [
        "### 6. View the last 12 rows in the orders df."
      ]
    },
    {
      "cell_type": "code",
      "metadata": {
        "id": "0NqOw_OhXjBL",
        "colab_type": "code",
        "colab": {}
      },
      "source": [
        ""
      ],
      "execution_count": 0,
      "outputs": []
    },
    {
      "cell_type": "markdown",
      "metadata": {
        "id": "GzvMFx5kbaBZ",
        "colab_type": "text"
      },
      "source": [
        "### 7. Set \"Order ID\" as the index and remove it as a column from the dataframe. View the first 5 rows of the updated orders df."
      ]
    },
    {
      "cell_type": "code",
      "metadata": {
        "id": "JySVMJTYj0QT",
        "colab_type": "code",
        "colab": {}
      },
      "source": [
        ""
      ],
      "execution_count": 0,
      "outputs": []
    },
    {
      "cell_type": "markdown",
      "metadata": {
        "id": "HBouQifgbjCJ",
        "colab_type": "text"
      },
      "source": [
        "### 8. List the columns in the dataframe again"
      ]
    },
    {
      "cell_type": "code",
      "metadata": {
        "id": "EXDDee5Ek8fr",
        "colab_type": "code",
        "colab": {}
      },
      "source": [
        ""
      ],
      "execution_count": 0,
      "outputs": []
    },
    {
      "cell_type": "markdown",
      "metadata": {
        "id": "EvJ1PA7_UzZP",
        "colab_type": "text"
      },
      "source": [
        "## Practice Section 2"
      ]
    },
    {
      "cell_type": "markdown",
      "metadata": {
        "id": "MlRL4RpBcStb",
        "colab_type": "text"
      },
      "source": [
        "### 9. Return the dessert column."
      ]
    },
    {
      "cell_type": "code",
      "metadata": {
        "id": "EbxYpotAcVSy",
        "colab_type": "code",
        "colab": {}
      },
      "source": [
        ""
      ],
      "execution_count": 0,
      "outputs": []
    },
    {
      "cell_type": "markdown",
      "metadata": {
        "id": "As4iDBLaZD-q",
        "colab_type": "text"
      },
      "source": [
        "### 10. Create a separate dataframe for just \"Filling\" and \"Taco Quantity\". Preview the first 10 rows."
      ]
    },
    {
      "cell_type": "code",
      "metadata": {
        "id": "k7h8mVEnZRuz",
        "colab_type": "code",
        "colab": {}
      },
      "source": [
        ""
      ],
      "execution_count": 0,
      "outputs": []
    },
    {
      "cell_type": "markdown",
      "metadata": {
        "id": "tRg237uZcJs0",
        "colab_type": "text"
      },
      "source": [
        "### 11. Return row 24."
      ]
    },
    {
      "cell_type": "code",
      "metadata": {
        "id": "TWGV5bUdZ7ND",
        "colab_type": "code",
        "colab": {}
      },
      "source": [
        ""
      ],
      "execution_count": 0,
      "outputs": []
    },
    {
      "cell_type": "markdown",
      "metadata": {
        "id": "YzykH5KCcDY4",
        "colab_type": "text"
      },
      "source": [
        "### 12. Return order #893001."
      ]
    },
    {
      "cell_type": "code",
      "metadata": {
        "id": "ZxML4mZlVLDK",
        "colab_type": "code",
        "colab": {}
      },
      "source": [
        ""
      ],
      "execution_count": 0,
      "outputs": []
    },
    {
      "cell_type": "markdown",
      "metadata": {
        "id": "rggi1QXfcC7u",
        "colab_type": "text"
      },
      "source": [
        "### 13. Return all the orders from #800394 through the end of the sample."
      ]
    },
    {
      "cell_type": "code",
      "metadata": {
        "id": "jCo6WDOFViVQ",
        "colab_type": "code",
        "colab": {}
      },
      "source": [
        ""
      ],
      "execution_count": 0,
      "outputs": []
    },
    {
      "cell_type": "markdown",
      "metadata": {
        "id": "XdKzl-yAcCgp",
        "colab_type": "text"
      },
      "source": [
        "### 14. Return 10 orders, starting at row 73."
      ]
    },
    {
      "cell_type": "code",
      "metadata": {
        "id": "n00g_DQiWMTv",
        "colab_type": "code",
        "colab": {}
      },
      "source": [
        ""
      ],
      "execution_count": 0,
      "outputs": []
    },
    {
      "cell_type": "markdown",
      "metadata": {
        "id": "rTuczgF2Xl5D",
        "colab_type": "text"
      },
      "source": [
        "### 15. Return any 3x3 chunk from the orders df."
      ]
    },
    {
      "cell_type": "code",
      "metadata": {
        "id": "ifxC191QXlFf",
        "colab_type": "code",
        "colab": {}
      },
      "source": [
        ""
      ],
      "execution_count": 0,
      "outputs": []
    },
    {
      "cell_type": "markdown",
      "metadata": {
        "id": "UYNycL6mXe8z",
        "colab_type": "text"
      },
      "source": [
        "## Practice Section 3"
      ]
    },
    {
      "cell_type": "markdown",
      "metadata": {
        "id": "GoRhbtVhcwiF",
        "colab_type": "text"
      },
      "source": [
        "### 16. Return the side order from row 63."
      ]
    },
    {
      "cell_type": "code",
      "metadata": {
        "id": "kLlLOnG4c0F2",
        "colab_type": "code",
        "colab": {}
      },
      "source": [
        ""
      ],
      "execution_count": 0,
      "outputs": []
    },
    {
      "cell_type": "markdown",
      "metadata": {
        "id": "ZrWWEFVSd4ud",
        "colab_type": "text"
      },
      "source": [
        "### 17. Return just the taco order data (i.e. filling and quantity) for orders 25 to 40."
      ]
    },
    {
      "cell_type": "code",
      "metadata": {
        "id": "uJPRhPIIeC76",
        "colab_type": "code",
        "colab": {}
      },
      "source": [
        ""
      ],
      "execution_count": 0,
      "outputs": []
    },
    {
      "cell_type": "markdown",
      "metadata": {
        "id": "B0CPP8nrXNp8",
        "colab_type": "text"
      },
      "source": [
        "### 18. Return the dessert orders from order numbers 938906, 373126, 409317, & 129834."
      ]
    },
    {
      "cell_type": "code",
      "metadata": {
        "id": "QRHgTc5TWpi9",
        "colab_type": "code",
        "colab": {}
      },
      "source": [
        ""
      ],
      "execution_count": 0,
      "outputs": []
    },
    {
      "cell_type": "markdown",
      "metadata": {
        "id": "BPjmm72eXX32",
        "colab_type": "text"
      },
      "source": [
        "### 19. How many tacos did the first 10 people buy?"
      ]
    },
    {
      "cell_type": "code",
      "metadata": {
        "id": "0O0pU643XeFt",
        "colab_type": "code",
        "colab": {}
      },
      "source": [
        ""
      ],
      "execution_count": 0,
      "outputs": []
    },
    {
      "cell_type": "markdown",
      "metadata": {
        "id": "Mpd7uVCkbdx0",
        "colab_type": "text"
      },
      "source": [
        "### 20. Return the unique types of taco fillings available (not via the data dictionary)."
      ]
    },
    {
      "cell_type": "code",
      "metadata": {
        "id": "EjxKjMw0bqmv",
        "colab_type": "code",
        "colab": {}
      },
      "source": [
        ""
      ],
      "execution_count": 0,
      "outputs": []
    }
  ]
}