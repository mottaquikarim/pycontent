{
  "nbformat": 4,
  "nbformat_minor": 0,
  "metadata": {
    "colab": {
      "name": "wrangling_pset2.ipynb",
      "provenance": [],
      "collapsed_sections": [
        "qC2i6YpzXZ6-",
        "ap8noF3MXXnf",
        "3ChNDdY1W7nT",
        "7FdaNg9Rh8qK",
        "NDAUlaDEH4Cw",
        "XTPxckqUMOYH"
      ],
      "authorship_tag": "ABX9TyOdqNxa7mrziX65iL7Yodhp",
      "include_colab_link": true
    },
    "kernelspec": {
      "name": "python3",
      "display_name": "Python 3"
    }
  },
  "cells": [
    {
      "cell_type": "markdown",
      "metadata": {
        "id": "view-in-github",
        "colab_type": "text"
      },
      "source": [
        "<a href=\"https://colab.research.google.com/github/mottaquikarim/pycontent/blob/master/content/psets/wrangling_pset2.ipynb\" target=\"_parent\"><img src=\"https://colab.research.google.com/assets/colab-badge.svg\" alt=\"Open In Colab\"/></a>"
      ]
    },
    {
      "cell_type": "markdown",
      "metadata": {
        "id": "GSAuej4Cm1dD",
        "colab_type": "text"
      },
      "source": [
        "# Earth Surface Temperature by City from 1743-2013"
      ]
    },
    {
      "cell_type": "markdown",
      "metadata": {
        "id": "a39fad1-nq2v",
        "colab_type": "text"
      },
      "source": [
        "#### Data Dictionary:"
      ]
    },
    {
      "cell_type": "markdown",
      "metadata": {
        "id": "p39ixj9HnBPX",
        "colab_type": "text"
      },
      "source": [
        "This is a \"...[repackaging] the data from a newer compilation put together by the Berkeley Earth, which is affiliated with Lawrence Berkeley National Laboratory. The Berkeley Earth Surface Temperature Study combines 1.6 billion temperature reports from 16 pre-existing archives.\"\n",
        "\n",
        "\"Early data was collected by technicians using mercury thermometers, where any variation in the visit time impacted measurements. In the 1940s, the construction of airports caused many weather stations to be moved. In the 1980s, there was a move to electronic thermometers that are said to have a cooling bias.\"\n",
        "\n",
        "* `dt`: Date of temperature observation in format \"YYYY-MM-DD\"; ranges from 1743-2013\n",
        "* `AverageTemperature`: in degrees Celsius\n",
        "* `City`\n",
        "* `Country`\n",
        "* `Latitude`\n",
        "* `Longitude`\n",
        "\n",
        "**Source**: https://www.kaggle.com/berkeleyearth/climate-change-earth-surface-temperature-data"
      ]
    },
    {
      "cell_type": "markdown",
      "metadata": {
        "id": "qC2i6YpzXZ6-",
        "colab_type": "text"
      },
      "source": [
        "### Section 1"
      ]
    },
    {
      "cell_type": "markdown",
      "metadata": {
        "id": "ap8noF3MXXnf",
        "colab_type": "text"
      },
      "source": [
        "#### 1. Import the necessary libraries. Load the data from the link below and save it to a df called \"landTemps\". Hint: You'll need to pass compression='zip'."
      ]
    },
    {
      "cell_type": "code",
      "metadata": {
        "colab_type": "code",
        "id": "UuBoYf0msFAy",
        "colab": {}
      },
      "source": [
        ""
      ],
      "execution_count": 0,
      "outputs": []
    },
    {
      "cell_type": "code",
      "metadata": {
        "id": "p63atvqtd27P",
        "colab_type": "code",
        "colab": {}
      },
      "source": [
        "# https://pythondatasets.s3.us-east-2.amazonaws.com/sample_global_temps.csv.zip"
      ],
      "execution_count": 0,
      "outputs": []
    },
    {
      "cell_type": "markdown",
      "metadata": {
        "colab_type": "text",
        "id": "FbjukmWESNhy"
      },
      "source": [
        "#### 2. Rename these columns...\n"
      ]
    },
    {
      "cell_type": "markdown",
      "metadata": {
        "id": "rFucymfgmV45",
        "colab_type": "text"
      },
      "source": [
        "* dt to Date\n",
        "* AverageTemperature to AvgTemp\n",
        "* Latitude to Lat\n",
        "* Longitude to Long"
      ]
    },
    {
      "cell_type": "code",
      "metadata": {
        "colab_type": "code",
        "id": "BX1JGldqSNz-",
        "colab": {}
      },
      "source": [
        ""
      ],
      "execution_count": 0,
      "outputs": []
    },
    {
      "cell_type": "markdown",
      "metadata": {
        "colab_type": "text",
        "id": "4jabjhKVcvti"
      },
      "source": [
        "#### 3. Sort by Date (early to recent), then Country (alphabetical), then AvgTemp (high to low)."
      ]
    },
    {
      "cell_type": "code",
      "metadata": {
        "colab_type": "code",
        "id": "WhpelU_dcvtk",
        "colab": {}
      },
      "source": [
        ""
      ],
      "execution_count": 0,
      "outputs": []
    },
    {
      "cell_type": "markdown",
      "metadata": {
        "colab_type": "text",
        "id": "y3C1IiNxVbLu"
      },
      "source": [
        "#### 4. How many unique cities are there?"
      ]
    },
    {
      "cell_type": "code",
      "metadata": {
        "colab_type": "code",
        "id": "Yr7WiAGDVbLr",
        "colab": {}
      },
      "source": [
        ""
      ],
      "execution_count": 0,
      "outputs": []
    },
    {
      "cell_type": "markdown",
      "metadata": {
        "colab_type": "text",
        "id": "N4V0su5BSYh8"
      },
      "source": [
        "#### 5. Remove rows with null values for AvgTemp from the landTemps df then drop and reset the index."
      ]
    },
    {
      "cell_type": "code",
      "metadata": {
        "colab_type": "code",
        "id": "ZD1zP3szSYh9",
        "colab": {}
      },
      "source": [
        ""
      ],
      "execution_count": 0,
      "outputs": []
    },
    {
      "cell_type": "markdown",
      "metadata": {
        "id": "3ChNDdY1W7nT",
        "colab_type": "text"
      },
      "source": [
        "### Section 2"
      ]
    },
    {
      "cell_type": "markdown",
      "metadata": {
        "id": "wub14JayN-lP",
        "colab_type": "text"
      },
      "source": [
        "#### 6. Use .map() to create a custom record id by adding the letters \"rec\" in front of the index position of each row. Then set this as the index of the landTemps df."
      ]
    },
    {
      "cell_type": "code",
      "metadata": {
        "id": "N6gPDKlMKTtq",
        "colab_type": "code",
        "colab": {}
      },
      "source": [
        ""
      ],
      "execution_count": 0,
      "outputs": []
    },
    {
      "cell_type": "markdown",
      "metadata": {
        "colab_type": "text",
        "id": "5f-QganiTbaz"
      },
      "source": [
        "#### 7. Return the records for the SE quarter of the globe."
      ]
    },
    {
      "cell_type": "code",
      "metadata": {
        "colab_type": "code",
        "id": "HaQQzRyCTba1",
        "colab": {}
      },
      "source": [
        ""
      ],
      "execution_count": 0,
      "outputs": []
    },
    {
      "cell_type": "markdown",
      "metadata": {
        "colab_type": "text",
        "id": "UgAkp3K-QirH"
      },
      "source": [
        "#### 8. Convert the latitude values to their numeric equivalents using s.apply()."
      ]
    },
    {
      "cell_type": "code",
      "metadata": {
        "colab_type": "code",
        "id": "SHk-dvCYQirI",
        "colab": {}
      },
      "source": [
        ""
      ],
      "execution_count": 0,
      "outputs": []
    },
    {
      "cell_type": "markdown",
      "metadata": {
        "colab_type": "text",
        "id": "HmgtWi_u_0it"
      },
      "source": [
        "#### 9. Convert the longitude values to their numeric equivalents using s.apply()."
      ]
    },
    {
      "cell_type": "code",
      "metadata": {
        "colab_type": "code",
        "id": "3OoFXZb__0i1",
        "colab": {}
      },
      "source": [
        ""
      ],
      "execution_count": 0,
      "outputs": []
    },
    {
      "cell_type": "markdown",
      "metadata": {
        "colab_type": "text",
        "id": "ETDxhPMVOMxI"
      },
      "source": [
        "#### 10. Return the records for the NW quarter of the globe."
      ]
    },
    {
      "cell_type": "code",
      "metadata": {
        "colab_type": "code",
        "id": "GtQEWswFOMxM",
        "colab": {}
      },
      "source": [
        ""
      ],
      "execution_count": 0,
      "outputs": []
    },
    {
      "cell_type": "markdown",
      "metadata": {
        "colab_type": "text",
        "id": "q0fmbpfESYBl"
      },
      "source": [
        "#### 11. Save the landTemps df to a file called \"sample_global_temps_clean.csv.zip\". \n",
        "Hints: Don't forget how to compress it and that you need to pass info about the custom index. "
      ]
    },
    {
      "cell_type": "code",
      "metadata": {
        "colab_type": "code",
        "id": "aw3noj7ISYBn",
        "colab": {}
      },
      "source": [
        ""
      ],
      "execution_count": 0,
      "outputs": []
    },
    {
      "cell_type": "markdown",
      "metadata": {
        "colab_type": "text",
        "id": "4vtnmA6qiEem"
      },
      "source": [
        "#### 12. How many Chinese cities are represented and what are they? How many records are there for each Chinese city in the df?"
      ]
    },
    {
      "cell_type": "code",
      "metadata": {
        "colab_type": "code",
        "id": "jGqIK8_XiEeo",
        "colab": {}
      },
      "source": [
        ""
      ],
      "execution_count": 0,
      "outputs": []
    },
    {
      "cell_type": "markdown",
      "metadata": {
        "colab_type": "text",
        "id": "BJM84xBYLMA_"
      },
      "source": [
        "#### 13. Return all the records from November 1843 & November 1943 for Afghanistan."
      ]
    },
    {
      "cell_type": "code",
      "metadata": {
        "colab_type": "code",
        "id": "6ie7KSjcLMBC",
        "colab": {}
      },
      "source": [
        ""
      ],
      "execution_count": 0,
      "outputs": []
    },
    {
      "cell_type": "markdown",
      "metadata": {
        "id": "gMebFMaPQM8C",
        "colab_type": "text"
      },
      "source": [
        "#### 14. Return all the records for areas within 10 degrees of the equator (inclusive)."
      ]
    },
    {
      "cell_type": "code",
      "metadata": {
        "id": "502J8RJFQZIB",
        "colab_type": "code",
        "colab": {}
      },
      "source": [
        ""
      ],
      "execution_count": 0,
      "outputs": []
    },
    {
      "cell_type": "markdown",
      "metadata": {
        "id": "7FdaNg9Rh8qK",
        "colab_type": "text"
      },
      "source": [
        "### Section 3"
      ]
    },
    {
      "cell_type": "markdown",
      "metadata": {
        "id": "QRlqBsteh-qy",
        "colab_type": "text"
      },
      "source": [
        "#### 15. Return all the records from cities in the US, and save them in a new df called usa."
      ]
    },
    {
      "cell_type": "code",
      "metadata": {
        "id": "VCncxeRQiB55",
        "colab_type": "code",
        "colab": {}
      },
      "source": [
        ""
      ],
      "execution_count": 0,
      "outputs": []
    },
    {
      "cell_type": "markdown",
      "metadata": {
        "colab_type": "text",
        "id": "T8-0PiOAiD8T"
      },
      "source": [
        "#### 16. Sort usa by Date then alphabetically by City."
      ]
    },
    {
      "cell_type": "code",
      "metadata": {
        "colab_type": "code",
        "id": "9NkVvr7GiEzT",
        "colab": {}
      },
      "source": [
        ""
      ],
      "execution_count": 0,
      "outputs": []
    },
    {
      "cell_type": "markdown",
      "metadata": {
        "colab_type": "text",
        "id": "yMj4tLZ9iEzR"
      },
      "source": [
        "#### 17. Convert all the temperatures in the usa df to degrees Fahrenheit. Try it with both map and apply."
      ]
    },
    {
      "cell_type": "code",
      "metadata": {
        "colab_type": "code",
        "id": "v6VIkPPsiD8Y",
        "colab": {}
      },
      "source": [
        ""
      ],
      "execution_count": 0,
      "outputs": []
    },
    {
      "cell_type": "markdown",
      "metadata": {
        "id": "S-k7G0hARePd",
        "colab_type": "text"
      },
      "source": [
        "### Section 4"
      ]
    },
    {
      "cell_type": "markdown",
      "metadata": {
        "colab_type": "text",
        "id": "vaWTjqJMSNz9"
      },
      "source": [
        "#### 18. Create a new df that contains only records from the below cities and call it sampleA:"
      ]
    },
    {
      "cell_type": "markdown",
      "metadata": {
        "id": "NSqRX4AYHw09",
        "colab_type": "text"
      },
      "source": [
        "\n",
        "* Tangiers\n",
        "* Dhaka\n",
        "* Zwolle\n",
        "* Edmonton\n",
        "* Dunedin\n",
        "* Peking\n",
        "* Pune"
      ]
    },
    {
      "cell_type": "code",
      "metadata": {
        "id": "Mavb0I7oHwB0",
        "colab_type": "code",
        "colab": {}
      },
      "source": [
        ""
      ],
      "execution_count": 0,
      "outputs": []
    },
    {
      "cell_type": "markdown",
      "metadata": {
        "id": "NDAUlaDEH4Cw",
        "colab_type": "text"
      },
      "source": [
        "#### 19. *For only the sampleA df,* separate the \"Date\" column into 3 new columns called \"Year\", \"Month\", and \"Day\", using df.apply().\n",
        "(p.s. keep the original \"Date\" column as well)"
      ]
    },
    {
      "cell_type": "code",
      "metadata": {
        "colab_type": "code",
        "id": "1P-973M5SNh3",
        "colab": {}
      },
      "source": [
        ""
      ],
      "execution_count": 0,
      "outputs": []
    },
    {
      "cell_type": "markdown",
      "metadata": {
        "colab_type": "text",
        "id": "XTPxckqUMOYH"
      },
      "source": [
        "#### 20. Return all the records between 1900 and 2000 for countries greater than 10 degrees away from the equator."
      ]
    },
    {
      "cell_type": "code",
      "metadata": {
        "colab_type": "code",
        "id": "RxI4n7RFMOYL",
        "colab": {}
      },
      "source": [
        ""
      ],
      "execution_count": 0,
      "outputs": []
    }
  ]
}