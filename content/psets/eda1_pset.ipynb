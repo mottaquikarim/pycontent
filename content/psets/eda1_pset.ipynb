{
  "nbformat": 4,
  "nbformat_minor": 0,
  "metadata": {
    "colab": {
      "name": "eda1_pset.ipynb",
      "provenance": [],
      "collapsed_sections": [
        "-8WLswH36ls_",
        "yEfWVIMo6n5P",
        "gtJygo8JLPXC"
      ]
    },
    "kernelspec": {
      "name": "python3",
      "display_name": "Python 3"
    }
  },
  "cells": [
    {
      "cell_type": "code",
      "metadata": {
        "id": "eX9ZzI25Np_Q",
        "colab_type": "code",
        "colab": {}
      },
      "source": [
        "import numpy as np\n",
        "import pandas as pd"
      ],
      "execution_count": 0,
      "outputs": []
    },
    {
      "cell_type": "code",
      "metadata": {
        "id": "Z25CX5XaOVc3",
        "colab_type": "code",
        "colab": {}
      },
      "source": [
        "movies = pd.read_csv('https://raw.githubusercontent.com/mottaquikarim/pycontent/master/content/raw_data/omdb4500_clean_simple.csv', index_col='imdbID')\n",
        "movies.head()"
      ],
      "execution_count": 0,
      "outputs": []
    },
    {
      "cell_type": "markdown",
      "metadata": {
        "id": "3PiEE19U49tD",
        "colab_type": "text"
      },
      "source": [
        "[CO2 Emissions Data Source](https://ourworldindata.org/co2-and-other-greenhouse-gas-emissions) - \"CO2 emissions by fuel type, World, 1751 to 2017\"\n",
        "\n",
        "Changes made from original:\n",
        "* Added a column for continent\n",
        "* Removed continents and \"World\" from the Country column\n",
        "* Converted units from tonnes to kilotonnes (kt)\n",
        "* Created a custom index out of Country Code and Year\n",
        "* Removed the Christmas Islands and Puerto Rico due to insufficient data\n",
        "* **The data only goes through 2014**"
      ]
    },
    {
      "cell_type": "code",
      "metadata": {
        "id": "q3cBNBPJNur5",
        "colab_type": "code",
        "colab": {}
      },
      "source": [
        "co2 = pd.read_csv('https://raw.githubusercontent.com/mottaquikarim/pycontent/master/content/raw_data/hist_co2_by_source.csv', index_col='idx')\n",
        "co2.head()\n",
        "\n",
        "countries = pd.Series(co2['Country'].unique())\n",
        "countries.sample(5)"
      ],
      "execution_count": 0,
      "outputs": []
    },
    {
      "cell_type": "markdown",
      "metadata": {
        "id": "Gi-HoxE66h9A",
        "colab_type": "text"
      },
      "source": [
        "## Basic Stats"
      ]
    },
    {
      "cell_type": "markdown",
      "metadata": {
        "id": "YsVaz6yS4bY0",
        "colab_type": "text"
      },
      "source": [
        "### OMDb\n"
      ]
    },
    {
      "cell_type": "markdown",
      "metadata": {
        "id": "mkdorh1A4qJh",
        "colab_type": "text"
      },
      "source": [
        "#### 1) What's the longest movie?"
      ]
    },
    {
      "cell_type": "code",
      "metadata": {
        "id": "JSW7uWqfFDWt",
        "colab_type": "code",
        "colab": {}
      },
      "source": [
        ""
      ],
      "execution_count": 0,
      "outputs": []
    },
    {
      "cell_type": "markdown",
      "metadata": {
        "id": "vbjiNhRJ4rsL",
        "colab_type": "text"
      },
      "source": [
        "#### 2) What's the IQR of Metascore?"
      ]
    },
    {
      "cell_type": "code",
      "metadata": {
        "id": "29LidXX940y_",
        "colab_type": "code",
        "colab": {}
      },
      "source": [
        ""
      ],
      "execution_count": 0,
      "outputs": []
    },
    {
      "cell_type": "markdown",
      "metadata": {
        "id": "LPDBB6bA4uYA",
        "colab_type": "text"
      },
      "source": [
        "#### 3) What's the percent difference between the average critic rating and the average audience rating (i.e. Rotten Tomatoes and imdbRating)?"
      ]
    },
    {
      "cell_type": "code",
      "metadata": {
        "id": "I0axxGWr41VV",
        "colab_type": "code",
        "colab": {}
      },
      "source": [
        ""
      ],
      "execution_count": 0,
      "outputs": []
    },
    {
      "cell_type": "markdown",
      "metadata": {
        "id": "yGvbIpGS44Sn",
        "colab_type": "text"
      },
      "source": [
        "#### 4) Over how many years were the movies in this sample made?"
      ]
    },
    {
      "cell_type": "code",
      "metadata": {
        "id": "f5_ul_uu44r3",
        "colab_type": "code",
        "colab": {}
      },
      "source": [
        ""
      ],
      "execution_count": 0,
      "outputs": []
    },
    {
      "cell_type": "markdown",
      "metadata": {
        "id": "7ua8dGFv67Cv",
        "colab_type": "text"
      },
      "source": [
        "#### 5) What's the relative frequency of Horror movies in our sample data?"
      ]
    },
    {
      "cell_type": "code",
      "metadata": {
        "id": "Z2Vse-Ax7iV9",
        "colab_type": "code",
        "colab": {}
      },
      "source": [
        ""
      ],
      "execution_count": 0,
      "outputs": []
    },
    {
      "cell_type": "markdown",
      "metadata": {
        "id": "v_DDBuAs7jXW",
        "colab_type": "text"
      },
      "source": [
        "#### 6) On average, how many people rate mob movies on IMDb? (Hint: These movies probably contain the keyword \"mob\" in their Plot variable.)"
      ]
    },
    {
      "cell_type": "code",
      "metadata": {
        "id": "HtRmyk8W82nL",
        "colab_type": "code",
        "colab": {}
      },
      "source": [
        ""
      ],
      "execution_count": 0,
      "outputs": []
    },
    {
      "cell_type": "markdown",
      "metadata": {
        "id": "KQZAhTqXK9Tl",
        "colab_type": "text"
      },
      "source": [
        "### CO2 Emissions in kilotonnes (kt)\n",
        "\n",
        "Hint: Round your answers to 3 decimal places for better readability."
      ]
    },
    {
      "cell_type": "markdown",
      "metadata": {
        "id": "E9JAGYwHLAQ0",
        "colab_type": "text"
      },
      "source": [
        "#### 1) What are all the core stats for CO2 emissions from Oil in the year 1970 vs the year 2010?"
      ]
    },
    {
      "cell_type": "code",
      "metadata": {
        "id": "mjsPBCt-K_pS",
        "colab_type": "code",
        "colab": {}
      },
      "source": [
        ""
      ],
      "execution_count": 0,
      "outputs": []
    },
    {
      "cell_type": "markdown",
      "metadata": {
        "colab_type": "text",
        "id": "Wrpx96exLFZ5"
      },
      "source": [
        "#### 2) If you exclude countries with 0 emissions, what's the mode for CO2 emissions from Flaring in the year 1995?"
      ]
    },
    {
      "cell_type": "code",
      "metadata": {
        "colab_type": "code",
        "id": "r0oIpJQMLFZ7",
        "colab": {}
      },
      "source": [
        ""
      ],
      "execution_count": 0,
      "outputs": []
    },
    {
      "cell_type": "markdown",
      "metadata": {
        "colab_type": "text",
        "id": "HH3tiBZqLL6s"
      },
      "source": [
        "#### 3) What number represents the 2nd quantile for CO2 emissions from Coal in the year 1865?"
      ]
    },
    {
      "cell_type": "code",
      "metadata": {
        "colab_type": "code",
        "id": "87VCthkKLL6t",
        "colab": {}
      },
      "source": [
        ""
      ],
      "execution_count": 0,
      "outputs": []
    },
    {
      "cell_type": "markdown",
      "metadata": {
        "colab_type": "text",
        "id": "ymEpcG5h2PN6"
      },
      "source": [
        "#### 4) Again, for the year 1865, what is the median for CO2 emissions from Coal?"
      ]
    },
    {
      "cell_type": "code",
      "metadata": {
        "colab_type": "code",
        "id": "CDlttiWf2PN9",
        "colab": {}
      },
      "source": [
        ""
      ],
      "execution_count": 0,
      "outputs": []
    },
    {
      "cell_type": "markdown",
      "metadata": {
        "colab_type": "text",
        "id": "ivo_095c2Qq7"
      },
      "source": [
        "#### 5) What were the highest and lowest values for CO2 emissions from Cement across all years in the sample?"
      ]
    },
    {
      "cell_type": "code",
      "metadata": {
        "colab_type": "code",
        "id": "9VlwcUNn2Qq8",
        "colab": {}
      },
      "source": [
        ""
      ],
      "execution_count": 0,
      "outputs": []
    },
    {
      "cell_type": "markdown",
      "metadata": {
        "id": "-8WLswH36ls_",
        "colab_type": "text"
      },
      "source": [
        "## GroupBy"
      ]
    },
    {
      "cell_type": "markdown",
      "metadata": {
        "id": "yEfWVIMo6n5P",
        "colab_type": "text"
      },
      "source": [
        "### OMDb"
      ]
    },
    {
      "cell_type": "markdown",
      "metadata": {
        "id": "Wr4V_M1c4wmZ",
        "colab_type": "text"
      },
      "source": [
        "#### 1) Excluding the US, which countries are the top 3 movie producers?"
      ]
    },
    {
      "cell_type": "code",
      "metadata": {
        "id": "8UKa4cLB412o",
        "colab_type": "code",
        "colab": {}
      },
      "source": [
        ""
      ],
      "execution_count": 0,
      "outputs": []
    },
    {
      "cell_type": "markdown",
      "metadata": {
        "id": "7GVkY8ip-Lu4",
        "colab_type": "text"
      },
      "source": [
        "#### 2) Which genre got the fewest votes on IMDb as a group?"
      ]
    },
    {
      "cell_type": "code",
      "metadata": {
        "id": "wpfdB8Gi6nK2",
        "colab_type": "code",
        "colab": {}
      },
      "source": [
        ""
      ],
      "execution_count": 0,
      "outputs": []
    },
    {
      "cell_type": "markdown",
      "metadata": {
        "id": "s_cgbPLG83YC",
        "colab_type": "text"
      },
      "source": [
        "#### 3) Which 15 languages are rated highest on average by critics?"
      ]
    },
    {
      "cell_type": "code",
      "metadata": {
        "id": "UBqa1zQL84eH",
        "colab_type": "code",
        "colab": {}
      },
      "source": [
        ""
      ],
      "execution_count": 0,
      "outputs": []
    },
    {
      "cell_type": "markdown",
      "metadata": {
        "id": "xKFey0I5AIbE",
        "colab_type": "text"
      },
      "source": [
        "#### 4) What is the longest movie runtime for each language group?"
      ]
    },
    {
      "cell_type": "code",
      "metadata": {
        "id": "mdAW1VYqBaTw",
        "colab_type": "code",
        "colab": {}
      },
      "source": [
        ""
      ],
      "execution_count": 0,
      "outputs": []
    },
    {
      "cell_type": "markdown",
      "metadata": {
        "colab_type": "text",
        "id": "gtJygo8JLPXC"
      },
      "source": [
        "### CO2 Emissions in kilotonnes (kt)\n",
        "\n",
        "Hint: Round your answers to at least 3 decimal places for better readability."
      ]
    },
    {
      "cell_type": "markdown",
      "metadata": {
        "colab_type": "text",
        "id": "1-oIoZJjLPXE"
      },
      "source": [
        "#### 1) In 1929, what was the average amount of CO2 emissions from Gas for each continent?"
      ]
    },
    {
      "cell_type": "code",
      "metadata": {
        "colab_type": "code",
        "id": "AfVbFiKrLPXE",
        "colab": {}
      },
      "source": [
        ""
      ],
      "execution_count": 0,
      "outputs": []
    },
    {
      "cell_type": "markdown",
      "metadata": {
        "colab_type": "text",
        "id": "RP8ikd-0LPXN"
      },
      "source": [
        "#### 2) During what range of years is data available for all 217 countries in the sample?"
      ]
    },
    {
      "cell_type": "code",
      "metadata": {
        "colab_type": "code",
        "id": "wOA68j3pLPXQ",
        "colab": {}
      },
      "source": [
        ""
      ],
      "execution_count": 0,
      "outputs": []
    },
    {
      "cell_type": "markdown",
      "metadata": {
        "colab_type": "text",
        "id": "k9ApFoIUBXyV"
      },
      "source": [
        "#### 3) During the range of years from the last problem, what was the median for CO2 emissions from Oil for each country?"
      ]
    },
    {
      "cell_type": "code",
      "metadata": {
        "id": "B7jddZKMGHTN",
        "colab_type": "code",
        "colab": {}
      },
      "source": [
        ""
      ],
      "execution_count": 0,
      "outputs": []
    },
    {
      "cell_type": "markdown",
      "metadata": {
        "colab_type": "text",
        "id": "dM5OJWmyBbjA"
      },
      "source": [
        "#### 4) In 1960, what was the IQR for CO2 emissions from Coal for each continent?"
      ]
    },
    {
      "cell_type": "code",
      "metadata": {
        "colab_type": "code",
        "id": "lT62XcqPBXyX",
        "colab": {}
      },
      "source": [
        ""
      ],
      "execution_count": 0,
      "outputs": []
    }
  ]
}