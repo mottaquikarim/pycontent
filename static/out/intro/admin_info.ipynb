{
 "cells": [
  {
   "cell_type": "markdown",
   "metadata": {},
   "source": [
    "[![Open In Colab](https://colab.research.google.com/assets/colab-badge.svg)](https://colab.research.google.com/github/mottaquikarim/pycontent/blob/master/static/out/intro/admin_info.ipynb)"
   ]
  },
  {
   "cell_type": "markdown",
   "metadata": {},
   "source": [
    "# Admin Info\n",
    "\n",
    "\n",
    "## 🎉 [Introductory Slides](https://mottaquikarim.github.io/rehearsal/public/stage.html?source=o66ry#/)\n",
    "\n",
    "This will be one of the only two slide decks we ever get through in class. Refer to this resource to set expectations about class in general on a high level."
   ]
  }
 ],
 "metadata": {},
 "nbformat": 4,
 "nbformat_minor": 2
}
