{
 "cells": [
  {
   "cell_type": "markdown",
   "metadata": {},
   "source": [
    "[![Open In Colab](https://colab.research.google.com/assets/colab-badge.svg)](https://colab.research.google.com/github/mottaquikarim/pycontent/blob/master/static/out/intro/faq.ipynb)"
   ]
  },
  {
   "cell_type": "markdown",
   "metadata": {},
   "source": [
    "# FAQ - 👷‍♀️🚧 UNDER CONSTRUCTION 🚧👷‍♀️\n",
    "\n",
    "### Where can I find the link to our Slack channel?\n",
    "\n",
    "[Slack <channel_name>](??????)\n",
    "\n",
    "### Where are all the practice problems?\n",
    "\n",
    "A link to the [PyDev PSETs page](https://github.com/mottaquikarim/pydev-psets) is on the the [main repo page](https://github.com/mottaquikarim/PYTH2). We recommend bookmarking both of these because you'll be using them a lot!\n",
    "\n",
    "### How can I see what the agenda for the next class is?\n",
    "\n",
    "You can either go to the [main repo page](??????), scroll down, and look at the list of lectures w. dates.\n",
    "\n",
    "OR \n",
    "\n",
    "You can go to the [Lectures section page](??????), and find the lecture you're looking for.\n",
    "\n",
    "### How does Colab work?\n",
    "\n",
    "[Colab](https://colab.research.google.com/notebooks/welcome.ipynb) exists as an extension of Google Drive. All the lectures and practice problems are in Colab notebooks. \n",
    "\n",
    "When you open them, make a copy for yourself. You can do this by going to File > Save a copy in Drive.... This will automatically create a folder called \"Colaboratory\" in your main Google Drive section. All copied files get automatically saved there.\n",
    "\n",
    "### How can I see what the homework assignment & due date are?\n",
    "\n",
    "Homework will be announced during class and on Slack every week.\n",
    "\n",
    "Also, you can go to **TBD**\n",
    "\n",
    "### How do I submit my homework?\n",
    "\n",
    "**TBD**\n",
    "\n",
    "### How can I contact my instructor and/or IA?\n",
    "\n",
    "SLACK is the truth. The fastest way to contact us is to DM us. If you want, you can even download the Slack app on your phone and turn on notifications.\n",
    "\n",
    "### When are office hours?\n",
    "\n",
    "Office hours will be **Monday evening from 8:30-9:30pm.**\n",
    "\n",
    "### Where can I find MORE practice problems?\n",
    "\n",
    "Go to the [main repo page](https://github.com/mottaquikarim/PYTH2), scroll down, and go to the [General Reference Guides page](https://github.com/mottaquikarim/PYTH2/blob/master/src/Resources/genref.md). There are lots of resources here you can explore!"
   ]
  }
 ],
 "metadata": {},
 "nbformat": 4,
 "nbformat_minor": 2
}
