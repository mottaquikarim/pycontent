{
 "cells": [
  {
   "cell_type": "markdown",
   "metadata": {},
   "source": [
    "[![Open In Colab](https://colab.research.google.com/assets/colab-badge.svg)](https://colab.research.google.com/github/mottaquikarim/pycontent/blob/master/static/out/intro/tools.ipynb)"
   ]
  },
  {
   "cell_type": "markdown",
   "metadata": {},
   "source": [
    "# Tools\n",
    "\n",
    "## 🎊 [Slack](https://pyth826.slack.com/)\n",
    "\n",
    "Class slack! This is how we communicate and keep in touch.\n",
    "\n",
    "## [Colab](https://colab.research.google.com/notebooks/welcome.ipynb)\n",
    "\n",
    "You can install Jupyter Notebooks locally, BUT instead we will leverage a Google project called **Colaboratory**, or **Colab** for short.\n",
    "\n",
    "Open the link above and sign in to your Google account. Together in class, we'll explore what a notebook can do!\n",
    "\n",
    "## [Jupyter Notebooks](https://jupyter.org/)\n",
    "\n",
    "Jupyter Notebooks is an open source web application that allows us to run \"live\" python code in \"code\" blocks and add explanatory text around it, describing the code and our methods.\n",
    "\n",
    "In data science, this is of paramount importance because we are using code to tell a story - one that interprets a set of data and offers insight and/or conclusions.\n",
    "\n",
    "## Extras!\n",
    "\n",
    "Below are some bonus tools. We won't explicitly review or utilize them during this course, but they are very useful for all types of programming.\n",
    "\n",
    "### [REPL.IT](https://repl.it/)\n",
    "\n",
    "We will use **[REPL.IT](https://repl.it/)** as a quick, fast, simple way to get started writing python code. REPL, or **R**ead, **E**dit, **P**lay, **L**oop allows us to run python code from our browser. You will need to create an account - but it's free!\n",
    "\n",
    "After signing up, please visit **[this link](https://repl.it/languages)** and type in **PYTHON** to choose the correct python environment.\n",
    "\n",
    "### Sublime Text\n",
    "\n",
    "[Sublime Text](http://www.sublimetext.com/3) &mdash; code editor &mdash; you'll be writing code here. This is a free tool, but they will ask you to donate every few saves. However, you can use the program for free as long as you'd like."
   ]
  }
 ],
 "metadata": {},
 "nbformat": 4,
 "nbformat_minor": 2
}
