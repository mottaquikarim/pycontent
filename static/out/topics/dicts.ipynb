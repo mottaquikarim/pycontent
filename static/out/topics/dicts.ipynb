{
 "cells": [
  {
   "cell_type": "markdown",
   "metadata": {},
   "source": [
    "[![Open In Colab](https://colab.research.google.com/assets/colab-badge.svg)](https://colab.research.google.com/github/mottaquikarim/pycontent/blob/master/static/out/topics/dicts.ipynb)"
   ]
  },
  {
   "cell_type": "markdown",
   "metadata": {},
   "source": [
    "# Dicts\n",
    "\n",
    "In addition to lists, another more comprehensive method for storing complex data are **dicts**, or dictionaries. In the example below, we associate a `key` (e.g. 'taq') to a `value` (e.g. 'karim'). Instead of being enclosed in `[]`, dicts are enclosed in `{}`.\n"
   ]
  },
  {
   "cell_type": "code",
   "execution_count": null,
   "metadata": {},
   "outputs": [],
   "source": [
    "my_dict = {\n",
    "    'key' : 'value'\n",
    "}"
   ]
  },
  {
   "cell_type": "markdown",
   "metadata": {},
   "source": [
    "\n",
    "The keys and values of a single dict don't have to be homogenous. In other words, you can mix and match different key, value, and key/value pair data types within one dict as seen below.\n"
   ]
  },
  {
   "cell_type": "code",
   "execution_count": null,
   "metadata": {},
   "outputs": [],
   "source": [
    "dict1 = {\n",
    "    'taq': 'karim',\n",
    "    'apple': 35,\n",
    "    False: 87.96,\n",
    "    35: 'dog',\n",
    "    'tree': True\n",
    "    # etc.\n",
    "}\n",
    "\n",
    "print(dict1)"
   ]
  },
  {
   "cell_type": "markdown",
   "metadata": {},
   "source": [
    "\n",
    "The `values` in a dict can be any valid Python data type, but there are some restrictions on what you can use as `keys`:\n",
    "\n",
    "*1. Keys **CAN** be strings, integers, floats, booleans, and tuples.* \n",
    "\n",
    "*2. Keys **CANNOT** be lists or dicts.*\n",
    "\n",
    "Do you see the pattern here so far? The data in a *dict key must be immutable.* Since lists and dicts are mutable, they cannot be used as keys in a dict. That said, they *CAN* serve as the values in a dict.\n"
   ]
  },
  {
   "cell_type": "code",
   "execution_count": null,
   "metadata": {},
   "outputs": [],
   "source": [
    "dict2 = {\n",
    "    47: [12.1, 'blue', True], # list as a dict value\n",
    "    'julianna': {False: 'cat'} # dict as a dict value\n",
    "}"
   ]
  },
  {
   "cell_type": "markdown",
   "metadata": {},
   "source": [
    "\n",
    "*3. Also, the keys in a dict _**must be unique**_.* You'll see why shortly... But remember -- be careful not to add a key to a dict a second time. If you do, the second item will _**override**_ the first item.\n",
    "\n",
    "## Creating Dicts\n",
    "\n",
    "There are several ways you can create your `dict`, but we'll go through the most basic ones here.\n",
    "\n",
    "#### 1. The simplest way is by passing in key value pairs directly using this syntax:\n",
    "\n"
   ]
  },
  {
   "cell_type": "code",
   "execution_count": null,
   "metadata": {},
   "outputs": [],
   "source": [
    "food_groups = {} # this creates a new, empty dict\n",
    "\n",
    "food_groups = {\n",
    "\t'pomegranate': 'fruit',\n",
    "\t'asparagus': 'vegetable',\n",
    "\t'goat cheese': 'dairy',\n",
    "\t'walnut': 'legume'\n",
    "}\n",
    "\n",
    "print(food_groups)"
   ]
  },
  {
   "cell_type": "markdown",
   "metadata": {},
   "source": [
    "\n",
    "#### 2. You can also create an empty dict with the `dict()` method.\n",
    "\n",
    "Just like with the `list()` method, `dict()` only accepts one argument, meaning you have to pass in key/value pairs within the `{}`.\n"
   ]
  },
  {
   "cell_type": "code",
   "execution_count": null,
   "metadata": {},
   "outputs": [],
   "source": [
    "food_groups = dict() # this creates a new, empty dict\n",
    "\n",
    "food_groups = dict({\n",
    "\t'pomegranate': 'fruit',\n",
    "\t'asparagus': 'vegetable',\n",
    "\t'goat cheese': 'dairy',\n",
    "\t'walnut': 'legume'\n",
    "})\n",
    "\n",
    "print(food_groups)"
   ]
  },
  {
   "cell_type": "markdown",
   "metadata": {},
   "source": [
    "\n",
    "#### 3. You can also convert a *list of tuples* into a dict using `dict()`...\n"
   ]
  },
  {
   "cell_type": "code",
   "execution_count": null,
   "metadata": {},
   "outputs": [],
   "source": [
    "# list of tuples   \n",
    "listofTuples = [(\"Hello\" , 7), (\"hi\" , 10), (\"there\" , 45),(\"at\" , 23),(\"this\" , 77)]\n",
    "\n",
    "wordFrequency = dict(listofTuples)\n",
    "print(wordFrequency) # {'this': 77, 'there': 45, 'hi': 10, 'at': 23, 'Hello': 7}"
   ]
  },
  {
   "cell_type": "markdown",
   "metadata": {},
   "source": [
    "\n",
    "#### 4. ...and even combine two lists to create a dict by using the `zip()` method.\n",
    "\n",
    "The `.zip()` method takes the names of each list as parameters - the first list will become the dict's keys, and the second list will become the dict's values.\n",
    "\n",
    "**NOTE!** *This only works if you're sure the key/value pairs have the same index position in their original lists (so they will match in the dict).*\n"
   ]
  },
  {
   "cell_type": "code",
   "execution_count": null,
   "metadata": {},
   "outputs": [],
   "source": [
    "names = ['Taq', 'Valerie', 'Viktor', 'Zola']\n",
    "scores = [[98, 89, 92, 94], [86, 45, 98, 100], [100, 100, 100, 100], [76, 79, 80, 82]]\n",
    "\n",
    "grades = dict(zip(names, scores))\n",
    "print(grades) # {'Taq': [98, 89, 92, 94], 'Zola': [86, 45, 98, 100], 'Valerie': [76, 79, 80, 82]}"
   ]
  },
  {
   "cell_type": "markdown",
   "metadata": {},
   "source": [
    "\n",
    "## Accessing Dict Data\n",
    "\n",
    "Once you've stored data in your dict, you'll need to be able to get back in and access it! Take a look at this dict holding state capitals.\n"
   ]
  },
  {
   "cell_type": "code",
   "execution_count": null,
   "metadata": {},
   "outputs": [],
   "source": [
    "state_capitals = {\n",
    "\t'NY': 'Albany',\n",
    "\t'NJ': 'Trenton',\n",
    "\t'CT': 'Hartford',\n",
    "\t'MA': 'Boston'\n",
    "}"
   ]
  },
  {
   "cell_type": "markdown",
   "metadata": {},
   "source": [
    "\n",
    "### Referencing Values by Keys\n",
    "\n",
    "You *CANNOT* access dict items with index positions like you do with lists! If you try, you'll get a `KeyError` because dict items do not have index positions. **Instead, the dict keys serve the same purpose as indeces in lists.** Accordingly, you can access each value in the list by referencing its key like so:\n"
   ]
  },
  {
   "cell_type": "code",
   "execution_count": null,
   "metadata": {},
   "outputs": [],
   "source": [
    "state_capitals = {\n",
    "\t'NY': 'Albany',\n",
    "\t'NJ': 'Trenton',\n",
    "\t'CT': 'Hartford',\n",
    "\t'MA': 'Boston'\n",
    "}\n",
    "\n",
    "MAcap = state_capitals['MA']\n",
    "print(f'The capital of MA is {MAcap}.') # 'The capital of MA is Boston.'"
   ]
  },
  {
   "cell_type": "markdown",
   "metadata": {},
   "source": [
    "\n",
    "Attempting to find a key that does not exist leads to error.\n"
   ]
  },
  {
   "cell_type": "code",
   "execution_count": null,
   "metadata": {},
   "outputs": [],
   "source": [
    "state_capitals = {\n",
    "\t'NY': 'Albany',\n",
    "\t'NJ': 'Trenton',\n",
    "\t'CT': 'Hartford',\n",
    "\t'MA': 'Boston'\n",
    "}\n",
    "\n",
    "print(state_capitals['PA']) # KeyError from missing key\n",
    "print(state_capitals[2]) # KeyError from index reference"
   ]
  },
  {
   "cell_type": "markdown",
   "metadata": {},
   "source": [
    "\n",
    "Instead, it's better to look up a key in a dict using `.get(key, [])`. The `.get()` method takes the key argument just as above EXCEPT it allows you to enter some default value it should return if the key you enter does not exist. Usually, we use `[]` as that value.\n"
   ]
  },
  {
   "cell_type": "code",
   "execution_count": null,
   "metadata": {},
   "outputs": [],
   "source": [
    "state_capitals = {\n",
    "\t'NY': 'Albany',\n",
    "\t'NJ': 'Trenton',\n",
    "\t'CT': 'Hartford',\n",
    "\t'MA': 'Boston'\n",
    "}\n",
    "\n",
    "print(state_capitals.get('PA', []))\n",
    "# PA is not in our dict, so .get() returns []"
   ]
  },
  {
   "cell_type": "markdown",
   "metadata": {},
   "source": [
    "\n",
    "### Retrieving All Keys, Values, & Key/Value Pairs\n",
    "\n",
    "Now, this dict has 4 keys, but what if it had *hundreds?* We can isolate pieces of the dict's data structure using these functions:\n",
    "\n",
    "* `.keys()` -- returns a collection of all the keys in a dict \n",
    "* `.values()` -- returns a collection of all the values in a dict \n",
    "* `.items()` -- returns a collection of all the key/value pairs in a dict \n",
    "\n",
    "#### Isolating Key & Values\n",
    "\n",
    "You would think the `.keys()` and `.values()` functions return lists of the keys and values repsectively, right? Wrong. These functions return *list-LIKE* objects called `dict_keys()` and `dict_values()`.\n"
   ]
  },
  {
   "cell_type": "code",
   "execution_count": null,
   "metadata": {},
   "outputs": [],
   "source": [
    "pets = {\n",
    "  'Taq': ['teacup pig','cat','cat'],\n",
    "  'Francesca': ['llama','horse','dog'],\n",
    "  'Walter': ['ferret','iguana'],\n",
    "  'Caleb': ['dog','rabbit','parakeet']\n",
    "}\n",
    "\n",
    "pet_keys = pets.keys()\n",
    "print(f'Keys: \\n{pet_keys}\\n{type(pet_keys)}\\n\\n')\n",
    "# ['Taq', 'Francesca', 'Walter', 'Caleb']\n",
    "\n",
    "\n",
    "pet_values = pets.values()\n",
    "print(f'Values: \\n{pet_values}\\n{type(pet_values)}')\n",
    "# [['teacup pig','cat','cat'], ['dog','rabbit','parakeet'], etc ]]"
   ]
  },
  {
   "cell_type": "markdown",
   "metadata": {},
   "source": [
    "\n",
    "In contrast to lists, you CANNOT access the elements in either a `dict_keys` or a `dict_values` object by index.\n"
   ]
  },
  {
   "cell_type": "code",
   "execution_count": null,
   "metadata": {},
   "outputs": [],
   "source": [
    "pets = {\n",
    "  'Taq': ['teacup pig','cat','cat'],\n",
    "  'Francesca': ['llama','horse','dog'],\n",
    "  'Walter': ['ferret','iguana'],\n",
    "  'Caleb': ['dog','rabbit','parakeet']\n",
    "}\n",
    "\n",
    "pet_keys = pets.keys() # ['Taq', 'Francesca', 'Walter', 'Caleb']\n",
    "print(pet_keys[0])\n",
    "# TypeError: 'dict_keys' object is not subscriptable\n",
    "\n",
    "# The same happens for 'dict_values'"
   ]
  },
  {
   "cell_type": "markdown",
   "metadata": {},
   "source": [
    "\n",
    "The easiest way to get around this is to simply convert the objects to lists when you access them.\n"
   ]
  },
  {
   "cell_type": "code",
   "execution_count": null,
   "metadata": {},
   "outputs": [],
   "source": [
    "pets = {\n",
    "  'Taq': ['teacup pig','cat','cat'],\n",
    "  'Francesca': ['llama','horse','dog'],\n",
    "  'Walter': ['ferret','iguana'],\n",
    "  'Caleb': ['dog','rabbit','parakeet']\n",
    "}\n",
    "\n",
    "pet_keys = list(pets.keys())\n",
    "print(f'Keys: \\n{pet_keys}\\n{type(pet_keys)}\\n\\n')\n",
    "# ['Taq', 'Francesca', 'Walter', 'Caleb']\n",
    "\n",
    "pet_values = list(pets.values())\n",
    "print(f'Values: \\n{pet_values}\\n{type(pet_values)}\\n\\n')\n",
    "# [['teacup pig','cat','cat'], ['dog','rabbit','parakeet'], etc ]]\n",
    "\n",
    "print(f'First Key: {pet_keys[0]}') # 'Taq'\n",
    "print(f'First Value: {pet_values[0]}') # ['teacup pig','cat','cat']"
   ]
  },
  {
   "cell_type": "markdown",
   "metadata": {},
   "source": [
    "\n",
    "#### Isolating Key/Value Pairs\n",
    "\n",
    "This one will return a `dict_items` object.\n"
   ]
  },
  {
   "cell_type": "code",
   "execution_count": null,
   "metadata": {},
   "outputs": [],
   "source": [
    "pets = {\n",
    "  'Taq': ['teacup pig','cat','cat'],\n",
    "  'Francesca': ['llama','horse','dog'],\n",
    "  'Walter': ['ferret','iguana'],\n",
    "  'Caleb': ['dog','rabbit','parakeet']\n",
    "}\n",
    "\n",
    "pet_kv_pairs = pets.items() # [('Taq', ['teacup pig','cat','cat']), ('Francesca', [['llama','horse','dog']), etc]\n",
    "print(f'Key/Value Pairs: \\n{pet_kv_pairs}\\n{type(pet_kv_pairs)}')"
   ]
  },
  {
   "cell_type": "markdown",
   "metadata": {},
   "source": [
    "\n",
    "It looks like a list of tuples, right? Again, you'd think you could access each pair's tuple by index then, but you can't without first converting the `dict_items` object to a list like we did before.\n"
   ]
  },
  {
   "cell_type": "code",
   "execution_count": null,
   "metadata": {},
   "outputs": [],
   "source": [
    "pets = {\n",
    "  'Taq': ['teacup pig','cat','cat'],\n",
    "  'Francesca': ['llama','horse','dog'],\n",
    "  'Walter': ['ferret','iguana'],\n",
    "  'Caleb': ['dog','rabbit','parakeet']\n",
    "}\n",
    "\n",
    "pet_kv_pairs = list(pets.items())\n",
    "print(f'Key/Value Pairs: \\n{pet_kv_pairs}\\n{type(pet_kv_pairs)}\\n\\n')\n",
    "# [('Taq', ['teacup pig','cat','cat']), ('Francesca', [['llama','horse','dog']), etc]\n",
    "\n",
    "print(pet_kv_pairs[0])\n",
    "# ('Taq', ['teacup pig','cat','cat'])"
   ]
  },
  {
   "cell_type": "markdown",
   "metadata": {},
   "source": [
    "\n",
    "## Built-in Operators for Manipulating Dicts\n",
    "\n",
    "Just like lists, you can edit, analyze, and format your dicts. Some work the same for dicts and lists such as `len()` -- that will give you the number of key/value pairs in the dict. However, adding, deleting, and updating data requires a little more detail for dicts than for lists.\n",
    "\n",
    "### Add or Edit Dict Items\n",
    "\n",
    "You can add a single item to dict in two ways. The first way is similar to updating a list...\n"
   ]
  },
  {
   "cell_type": "code",
   "execution_count": null,
   "metadata": {},
   "outputs": [],
   "source": [
    "state_capitals = {\n",
    "\t'NY': 'Albany',\n",
    "\t'NJ': 'Trenton',\n",
    "\t'CT': 'Hartford',\n",
    "\t'MA': 'Boston'\n",
    "}\n",
    "\n",
    "state_capitals['CA'] = 'Sacramento'\n",
    "\n",
    "print(state_capitals) # {'NY': 'Albany', 'NJ': 'Trenton', 'CT': 'Hartford', 'MA': 'Boston', 'CA': 'Sacramento'}"
   ]
  },
  {
   "cell_type": "markdown",
   "metadata": {},
   "source": [
    "\n",
    "...but more likely you'll want to use the `.update(key, value)` method.\n"
   ]
  },
  {
   "cell_type": "code",
   "execution_count": null,
   "metadata": {},
   "outputs": [],
   "source": [
    "state_capitals = {\n",
    "\t'NY': 'Albany',\n",
    "\t'NJ': 'Trenton',\n",
    "\t'CT': 'Hartford',\n",
    "\t'MA': 'Boston'\n",
    "}\n",
    "\n",
    "state_capitals.update('CA': 'Sacramento')\n",
    "\n",
    "print(state_capitals) # {'NY': 'Albany', 'NJ': 'Trenton', 'CT': 'Hartford', 'MA': 'Boston', 'CA': 'Sacramento'}"
   ]
  },
  {
   "cell_type": "markdown",
   "metadata": {},
   "source": [
    "\n",
    "The `.update()` method also allows you to make bulk updates. In that case, you can simply pass it a variable containing another dict to add to the first one.\n"
   ]
  },
  {
   "cell_type": "code",
   "execution_count": null,
   "metadata": {},
   "outputs": [],
   "source": [
    "state_capitals = {\n",
    "\t'NY': 'Albany',\n",
    "\t'NJ': 'Trenton',\n",
    "\t'CT': 'Hartford',\n",
    "\t'MA': 'Boston',\n",
    "\t'CA': 'Sacramento'\n",
    "}\n",
    "more_states = {\n",
    "\t'WA': 'Olympia',\n",
    "\t'OR': 'Salem',\n",
    "\t'TX': 'Austin',\n",
    "\t'NJ': 'Hoboken',\n",
    "\t'AZ': 'Phoenix',\n",
    "\t'GA': 'Atlanta'\n",
    "}\n",
    "\n",
    "state_capitals.update(more_states)\n",
    "\n",
    "state_capitals = {\n",
    "\t'NY': 'Albany',\n",
    "\t'NJ': 'Hoboken',\n",
    "\t'CT': 'Hartford',\n",
    "\t'MA': 'Boston',\n",
    "\t'CA': 'Sacramento',\n",
    "\t'WA': 'Olympia',\n",
    "\t'OR': 'Salem',\n",
    "\t'TX': 'Austin',\n",
    "\t'AZ': 'Phoenix',\n",
    "\t'GA': 'Atlanta'\n",
    "}"
   ]
  },
  {
   "cell_type": "markdown",
   "metadata": {},
   "source": [
    "\n",
    "**Notice something?** It's easy to accidentally override items when you're merging datasets. *Oops, we just changed the capital of NJ to Hoboken!* Don't worry though - we'll learn an easy way to check for duplicate keys in the next section on loops.\n",
    "\n",
    "### Remove Items from a Dict\n",
    "\n",
    "#### `.clear()` simply empties the dict of all items.\n"
   ]
  },
  {
   "cell_type": "code",
   "execution_count": null,
   "metadata": {},
   "outputs": [],
   "source": [
    "state_capitals = {\n",
    "\t'NY': 'Albany',\n",
    "\t'NJ': 'Hoboken',\n",
    "\t'CT': 'Hartford',\n",
    "\t'MA': 'Boston',\n",
    "\t'CA': 'Sacramento',\n",
    "\t'WA': 'Olympia',\n",
    "\t'OR': 'Salem',\n",
    "\t'TX': 'Austin',\n",
    "\t'AZ': 'Phoenix',\n",
    "\t'GA': 'Atlanta'\n",
    "}\n",
    "\n",
    "state_capitals.clear()\n",
    "print(state_capitals) # {}"
   ]
  },
  {
   "cell_type": "markdown",
   "metadata": {},
   "source": [
    "\n",
    "#### `.pop(key, value)`:\n",
    "\n",
    "This removes an item, which you must specify by key. There are two things to note here -\n",
    "\n",
    "1. **First**, you *cannot delete a dict item by specifying a value*. Since values do not have to be unique the way keys are, trying to delete items by referencing values could cause issues.\n",
    "2. **Second**, just like we saw earlier with `.get(key, value)`, `.pop(key, value)` will raise a `KeyError` if you try to remove a key that does not exist in the dict. We avoid this in the same way, by setting a default value - typically `[]` - for the program to return in case of a missing key.\n",
    "\n",
    "Unfortunately, you *can't* use the same method as we did for `.update()` to delete larger portions of data. We'll learn a way to do that in the next section on loops as well.\n"
   ]
  },
  {
   "cell_type": "code",
   "execution_count": null,
   "metadata": {},
   "outputs": [],
   "source": [
    "state_capitals = {\n",
    "\t'NY': 'Albany',\n",
    "\t'NJ': 'Hoboken',\n",
    "\t'CT': 'Hartford',\n",
    "\t'MA': 'Boston',\n",
    "\t'CA': 'Sacramento',\n",
    "\t'WA': 'Olympia',\n",
    "\t'OR': 'Salem',\n",
    "\t'TX': 'Austin',\n",
    "\t'AZ': 'Phoenix',\n",
    "\t'GA': 'Atlanta'\n",
    "}\n",
    "\n",
    "state_capitals.pop('AZ', [])\n",
    "# removes 'AZ': 'Phoenix' from our dict"
   ]
  },
  {
   "cell_type": "markdown",
   "metadata": {},
   "source": [
    "\n",
    "#### `popitem()`:\n",
    "This one just removes an arbitrary key value pair from dict and returns it as a tuple. For instance, you might do this if you're randomly sampling your data for QA purposes.\n"
   ]
  },
  {
   "cell_type": "code",
   "execution_count": null,
   "metadata": {},
   "outputs": [],
   "source": [
    "state_capitals = {\n",
    "\t'NY': 'Albany',\n",
    "\t'NJ': 'Hoboken',\n",
    "\t'CT': 'Hartford',\n",
    "\t'MA': 'Boston',\n",
    "\t'CA': 'Sacramento',\n",
    "\t'WA': 'Olympia',\n",
    "\t'OR': 'Salem',\n",
    "\t'TX': 'Austin',\n",
    "\t'AZ': 'Phoenix',\n",
    "\t'GA': 'Atlanta'\n",
    "}\n",
    "\n",
    "seceded1 = state_capitals.popitem()\n",
    "# ^ removes a random item and returns it as a tuple\n",
    "print(seceded1) # ('GA': 'Atlanta') for example"
   ]
  },
  {
   "cell_type": "markdown",
   "metadata": {},
   "source": [
    "\n",
    "## Summary\n",
    "\n",
    "<img src=\"https://github.com/mottaquikarim/PYTH2/blob/master/assets/Dicts_Summary.png?raw=true\" width=\"100%\" align=\"left\"/>\n",
    "\n"
   ]
  }
 ],
 "metadata": {},
 "nbformat": 4,
 "nbformat_minor": 2
}
