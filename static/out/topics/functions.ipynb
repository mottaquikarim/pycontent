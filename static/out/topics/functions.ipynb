{
 "cells": [
  {
   "cell_type": "markdown",
   "metadata": {},
   "source": [
    "[![Open In Colab](https://colab.research.google.com/assets/colab-badge.svg)](https://colab.research.google.com/github/mottaquikarim/pycontent/blob/master/static/out/topics/functions.ipynb)"
   ]
  },
  {
   "cell_type": "markdown",
   "metadata": {},
   "source": [
    "<!---\n",
    "{\"next\":\"Topics/list_comprehensions.md\",\"title\":\"Functions\"}\n",
    "-->\n",
    "\n",
    "# Functions\n",
    "\n",
    "In Python, `functions` are your best friends! Let's say you need to perform some action or calculation multiple times for multiple values. For example, you might want to convert temperatures in Celsius to Fahrenheit like you did in the last chapter's exercises. It would be inefficient and messy to copy that code every time you need it. Instead, you can define a `function` to contain that code. Every time you call that function, it runs the whole block of code inside and saves you lots of time. Sweet!\n",
    "\n",
    "Python includes lots of built-in functions in its main library. We've seen lots of these already like `len()`, `sum()`, `.append()`, `.popitem`, etc. You can extend the range of built-in functions available to you by importing `modules`. We'll talk about those next!\n",
    "\n",
    "## Elements of a Function\n",
    "\n",
    "For now, let's start with the basics. Here's the skeleton of a function and a breakdown of each part.\n"
   ]
  },
  {
   "cell_type": "code",
   "execution_count": null,
   "metadata": {},
   "outputs": [],
   "source": [
    "def function_name(parameters):\n",
    "\t\"\"\"docstring\"\"\"\n",
    "\t# statement(s)"
   ]
  },
  {
   "cell_type": "markdown",
   "metadata": {},
   "source": [
    "\n",
    "* `def` shows you are \"defining\" a new function\n",
    "* A unique function name; same naming rules as  variables)\n",
    "* *Optional* parameters, or arguments, to be passed into the function when it is called.\n",
    "* `:` ends the function header\n",
    "* An *optional* `docstring`, i.e. a comment with documentation describing the function.\n",
    "* At least one statement make up the \"function body\"; this code achieves the purpose for calling the function.\n",
    "* An *optional* return statement, which exits the function and passes out some value from the body code.\n",
    "\n",
    "**NOTE!** *It is a best practice to always create notes and documentation. Other potential users of your functions - and maybe future YOU - will thank you for the extra info.*\n",
    "\n",
    "## Input/Output: Function Arguments & The `return` Statement\n",
    "\n",
    "When you create a function, you might need to feed it some input and have it give back some output. We call function input `arguments` and function output `return` values. Remember - both `arguments` and `return` values are *optional* depending on the purpose of your function.\n",
    "\n",
    "Let's say we want to create a function to get the square of a number. At the most basic level, there are three parts:\n",
    "1. Input the number we want to square\n",
    "2. Calculate the square of that number\n",
    "3. Output the square of that number\n",
    "\n",
    "Let's implement this in a function called `NumSquared()`.\n"
   ]
  },
  {
   "cell_type": "code",
   "execution_count": null,
   "metadata": {},
   "outputs": [],
   "source": [
    "def num_squared(num):\n",
    "\t\"\"\"Find the square of some number passed in\"\"\"\n",
    "\tsquare = num*num # code to find the square\n",
    "\treturn square"
   ]
  },
  {
   "cell_type": "markdown",
   "metadata": {},
   "source": [
    "\n",
    "1. Input the number we want to square \n",
    "\tWe create an *parameter* called `num` to represent the number we will past into our function as an argument. (p.s. Parameters are the names used when defining a function.) Remember that arguments should always be passed in the correct format and positional order, or the function will not be able to recognize them.\n",
    "2. Calculate the square of that number\n",
    "\tUsing the value of `num`, we write the formula for calculating a square and assign it to the variable `square`.\n",
    "3. Output the square of that number\n",
    "\tWe return `square` to pass out the numeric value we calculated. The return statement exits the function so the program can move on to the next block of code you've written. If you don't need to specify a value to return, the function will default to `return None` in order to exit the function.\n",
    "\n",
    "Once we've written this logic, we can call `NumSquared()` every time we want to use it. Let's say we want to find the value of 12 squared...\n"
   ]
  },
  {
   "cell_type": "code",
   "execution_count": null,
   "metadata": {},
   "outputs": [],
   "source": [
    "sq12 = num_squared(12)\n",
    "print(sq12) # 144"
   ]
  },
  {
   "cell_type": "markdown",
   "metadata": {},
   "source": [
    "\n",
    "**NOTE!** You should store the function call within a var so that the return value gets stored in the var. If you don't, how will you access the output you wanted??\n",
    "\n",
    "One last thing - you should know that the `return` statement can return multiple values *by using tuples*. Once you return the tuple from the function, you can *unpack* its values by simultaneously assigning each one to a new var as follows...\n"
   ]
  },
  {
   "cell_type": "code",
   "execution_count": null,
   "metadata": {},
   "outputs": [],
   "source": [
    "\t# some function...\n",
    "\treturn 3,'a',True\n",
    "\n",
    "x, y, z = (3,'a',True)\n",
    "print(x, type(x)) # 3 <class 'int'>\n",
    "print(y, type(y)) # a  <class 'str'>\n",
    "print(z, type(z)) # True <class 'bool'>"
   ]
  },
  {
   "cell_type": "markdown",
   "metadata": {},
   "source": [
    "\n",
    "## Argument Types\n",
    "\n",
    "#### Required Arguments\n",
    "If your function won't work without specific arguments, you can define the function with **required arguments**. In order for anyone to call the function, that user *must* always pass values for the required arguments in the correct positional order with the correct syntax you defined in advance. For example...\n"
   ]
  },
  {
   "cell_type": "code",
   "execution_count": null,
   "metadata": {},
   "outputs": [],
   "source": [
    "def plus(a,b):\n",
    "  return a + b\n",
    "\n",
    "c = plus(8,12)\n",
    "print(c) # 20"
   ]
  },
  {
   "cell_type": "markdown",
   "metadata": {},
   "source": [
    "\n",
    "#### Keyword Arguments\n",
    "Now switch perspectives. You're using a function that your colleague defined. If you want to make sure that you call all the required arguments in the right order, you can use the **keyword arguments** in your function call. Essentially, this means that you mention each argument's parameter name when you assign it a value during the function call. It works like this...\n"
   ]
  },
  {
   "cell_type": "code",
   "execution_count": null,
   "metadata": {},
   "outputs": [],
   "source": [
    "def plus(a,b):\n",
    "  return a + b\n",
    "\n",
    "c = plus(a=8,b=12)\n",
    "print(c) # 20"
   ]
  },
  {
   "cell_type": "markdown",
   "metadata": {},
   "source": [
    "\n",
    "#### Default Arguments\n",
    "Back to writing our own functions! If you want, you can give your function a **default argument**. Functions with default arguments take some pre-defined default value if no argument value is passed when you call the function. When defining your own function, you can assign this default value like this:\n"
   ]
  },
  {
   "cell_type": "code",
   "execution_count": null,
   "metadata": {},
   "outputs": [],
   "source": [
    "def plus(a,b = 12):\n",
    "  return a + b\n",
    "  \n",
    "# Only passing a value for `a`...\n",
    "c = plus(a=8)\n",
    "print(c) # 20\n",
    "\n",
    "# ...vs. passing values for `a` and `b`\n",
    "c = plus(8, 17)\n",
    "print(c) # 25"
   ]
  },
  {
   "cell_type": "markdown",
   "metadata": {},
   "source": [
    "\n",
    "#### Variable number of Arguments\n",
    "Even if you're not sure how many arguments you will need to pass to your function, you can still define it. To do this, you use the parameter `*args` as a stand-in. This signals to the function that it should expect any variety of arguments. Let's take a look at a few different ways to implement this.\n",
    "\n",
    "**Using integers** (as we did in the earlier examples)\n"
   ]
  },
  {
   "cell_type": "code",
   "execution_count": null,
   "metadata": {},
   "outputs": [],
   "source": [
    "def plus(*args):\n",
    "  return sum(args)\n",
    "\n",
    "c = plus(8,12,17)\n",
    "print(c) # 37"
   ]
  },
  {
   "cell_type": "markdown",
   "metadata": {},
   "source": [
    "\n",
    "**Using different data types**\n"
   ]
  },
  {
   "cell_type": "code",
   "execution_count": null,
   "metadata": {},
   "outputs": [],
   "source": [
    "def length(*args):\n",
    "  list1 = [*args]\n",
    "  return len(list1)\n",
    "\n",
    "c = length(8,'a',True)\n",
    "print(c) # 3"
   ]
  },
  {
   "cell_type": "markdown",
   "metadata": {},
   "source": [
    "\n",
    "**Using a variable**\n"
   ]
  },
  {
   "cell_type": "code",
   "execution_count": null,
   "metadata": {},
   "outputs": [],
   "source": [
    "var1 = 'h' + 'i'\n",
    "def print_all(*args):\n",
    "  list1 = [*args]\n",
    "  return list1\n",
    "\n",
    "c = print_all(8,'a',True,var1)\n",
    "print(c) # [8, 'a', True, 'hi']"
   ]
  },
  {
   "cell_type": "markdown",
   "metadata": {},
   "source": [
    "\n",
    "**NOTE!** If you use `*args`, your function will be more flexible, *but only if you write it that way*. If you expect different types of arguments, you will have to write the function such that it can handle every use case you expect could occur.\n",
    "\n",
    "## Variable Scope Recap\n",
    "\n",
    "* `global variable`: a variable declared outside a function; any function in your script can access this\n",
    "* `local variable`: a variable declared within a function's code block; you can only access this variable within the function where it is declard, otherwise you will get a `NameError` telling you that variable is not defined.\n",
    "\n"
   ]
  },
  {
   "cell_type": "code",
   "execution_count": null,
   "metadata": {},
   "outputs": [],
   "source": [
    "x = 'I\\'m a global variable.'\n",
    "\n",
    "def foo():\n",
    "\tx = 'I\\'m a local variable.'\n",
    "    print(x) # I'm a local variable.\n",
    "    return x\n",
    "\n",
    "y = foo()\n",
    "\n",
    "print(x) # I'm a global variable.\n",
    "print(y) # I'm a local variable."
   ]
  },
  {
   "cell_type": "markdown",
   "metadata": {},
   "source": [
    "\n",
    "Notice that even though the function `foo()` above says `return x`, it **only returns the value of the local variable `x`**. We assign this *value* to the variable `y` when we call foo().\n",
    "\n",
    "Look at the nuanced difference in this example though:\n"
   ]
  },
  {
   "cell_type": "code",
   "execution_count": null,
   "metadata": {},
   "outputs": [],
   "source": [
    "def foo():\n",
    "    x = 'I\\'m a local variable.'\n",
    "    print(x) # I'm a local variable.\n",
    "    return x\n",
    "\n",
    "foo()\n",
    "\n",
    "print(x) # NameError: name 'x' is not defined"
   ]
  },
  {
   "cell_type": "markdown",
   "metadata": {},
   "source": [
    "\n",
    "Even though we called the function `foo()`, we did not assign its return value to a variable outside the function. Therefore, trying to print `x` will output `NameError: name 'x' is not defined`. This is because `x` only exists within the function.\n",
    "\n",
    "## Practice Problems"
   ]
  }
 ],
 "metadata": {},
 "nbformat": 4,
 "nbformat_minor": 2
}
