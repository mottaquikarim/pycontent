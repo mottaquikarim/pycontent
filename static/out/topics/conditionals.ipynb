{
 "cells": [
  {
   "cell_type": "markdown",
   "metadata": {},
   "source": [
    "[![Open In Colab](https://colab.research.google.com/assets/colab-badge.svg)](https://colab.research.google.com/github/mottaquikarim/pycontent/blob/master/static/out/topics/conditionals.ipynb)"
   ]
  },
  {
   "cell_type": "markdown",
   "metadata": {},
   "source": [
    "# Conditionals\n",
    "\n",
    "In order for code to be useful, it is imperative to have the ability to make decisions. In most languages, we use the **conditional** statement to facilitate decision making. \n",
    "\n",
    "Before we dig deeper into conditionals, let us first examine the `Boolean` datatype.\n",
    "\n",
    "## Booleans & Their Operators\n",
    "\n",
    "In short, a boolean represents a \"yes\" or \"no\" value. In python, booleans are written as:\n"
   ]
  },
  {
   "cell_type": "code",
   "execution_count": null,
   "metadata": {},
   "outputs": [],
   "source": [
    "True # this is a boolean, for \"yes\"\n",
    "False # this is a boolean, for \"no\""
   ]
  },
  {
   "cell_type": "markdown",
   "metadata": {},
   "source": [
    "\n",
    "Because booleans are just datatypes, we can store them into variables.\n"
   ]
  },
  {
   "cell_type": "code",
   "execution_count": null,
   "metadata": {},
   "outputs": [],
   "source": [
    "is_it_summer = False\n",
    "will_it_be_summer_soon = True"
   ]
  },
  {
   "cell_type": "markdown",
   "metadata": {},
   "source": [
    "\n",
    "Moreover, because booleans are data types, certain operators will *evaluate* to booleans:\n"
   ]
  },
  {
   "cell_type": "code",
   "execution_count": null,
   "metadata": {},
   "outputs": [],
   "source": [
    "age = 13\n",
    "is_eligible_to_buy_lotto = age > 13\n",
    "\n",
    "# ^^ this will evaluate to False and then \n",
    "# that value, False, will be stored in variable\n",
    "# is_eligible_to_buy_lotto"
   ]
  },
  {
   "cell_type": "markdown",
   "metadata": {},
   "source": [
    "\n",
    "The operator above, `>` is called a **boolean** operator. Notice how we stored the evaluation of the `>` expression into a variable. Remember, booleans are just datatypes, therefore they work the same way we would expect numbers and strings to work - except that the operators look / do different things (but in principle they are one and the same!)\n",
    "\n",
    "Let's now explore the *boolean operators* available in python.\n",
    "\n",
    "## Boolean Comparison Operators\n",
    "\n",
    "**Comparison operators** make a statement about the relative value of two items and return a boolean based on whether that statement is True or False. These operators include:\n",
    "\n",
    "* Less than: <\n",
    "* Greater than: >\n",
    "* Less than or equal to: <= \n",
    "* Greater than or equal to: >=\n",
    "* Equal to: == or `is`\n",
    "* Not Equal to: != `is not`\n",
    "\n",
    "**Special note on \"equality operators\":** \n",
    "\n",
    "Because we use the `=` symbol for identity (i.e. to set a variable), it is not available for comparison operations. Instead, we must use the `==` and `!=` symbols.\n",
    "\n",
    "Now, let's walk through this contextual example where we'll compare a driver's speed to the speed limit.\n"
   ]
  },
  {
   "cell_type": "code",
   "execution_count": null,
   "metadata": {},
   "outputs": [],
   "source": [
    "# Speed Limit Example\n",
    "\n",
    "speed_limit = 65\n",
    "my_speed = 32\n",
    "\n",
    "\n",
    "# Less Than <\n",
    "under_speed_limit = my_speed < speed_limit # True\n",
    "\n",
    "\n",
    "# Less Than or Equal To <=\n",
    "at_or_under_speed_limit = my_speed <= speed_limit # True\n",
    "\n",
    "\n",
    "# Greater Than >\n",
    "above_speed_limit = my_speed > speed_limit # False\n",
    "\n",
    "\n",
    "# Greater Than or Equal To >=\n",
    "at_or_under_speed_limit = my_speed > speed_limit # False\n",
    "\n",
    "\n",
    "# Equals ==\n",
    "exactly_at_speed_limit = my_speed == speed_limit # False\n",
    "exactly_at_speed_limit = my_speed is speed_limit # also False\n",
    "\n",
    "# Not Equal To !=\n",
    "not_exactly_at_speed_limit = my_speed != speed_limit # True\n",
    "not_exactly_at_speed_limit = my_speed is not speed_limit # also True"
   ]
  },
  {
   "cell_type": "markdown",
   "metadata": {},
   "source": [
    "\n",
    "### Chaining Comparison Operators\n",
    "\n",
    "When you chain comparison operators, it's simply a way of succintly checking whether **BOTH** comparison expressions are `True` or `False`. \n",
    "\n",
    "Python checks each one separately from left to right. Both comparisons must be `True` for the result to evaluate to `True`. Even if only one of them is `False`, the whole expression will evaluate to `False`. Thus, if any comparisons are `False`, it stops before evaluating the rest of them. \n",
    "\n",
    "Let's see this in action...\n"
   ]
  },
  {
   "cell_type": "code",
   "execution_count": null,
   "metadata": {},
   "outputs": [],
   "source": [
    "x = 2\n",
    "\n",
    "# A)\n",
    "1 < x < 3 # True\n",
    "\n",
    "# B)\n",
    "10 < x < 20 # False\n",
    "\n",
    "# C)\n",
    "3 > x <= 2 # True\n",
    "\n",
    "# D)\n",
    "2 == x < 4 # True"
   ]
  },
  {
   "cell_type": "markdown",
   "metadata": {},
   "source": [
    "\n",
    "For the above examples, we check whether...\n",
    "\n",
    "* A) 1 is less than `x` **AND** `x` is less than 3.\n",
    "* B) 10 is less than `x` (*it is not) and we stop right there*\n",
    "* C) 3 is greater than `x` **AND** `x` is less than or equal to 2.\n",
    "* D) `x` is equal to 2 **AND** `x` is less than 4.\n",
    "\n",
    "## Boolean Logical Operators\n",
    "\n",
    "**Logical operators** ALSO make a statement about the relative value of two items and return a boolean based on whether that statement is True or False. The logical operators include `not`, `or`, and `and`.\n",
    "\n",
    "**The `not` operator** simply negates. The statement evaluates to `True` if item is False and vice versa. For instance,\n"
   ]
  },
  {
   "cell_type": "code",
   "execution_count": null,
   "metadata": {},
   "outputs": [],
   "source": [
    "sky_is_blue = True\n",
    "result = not sky_is_blue # False\n",
    "\n",
    "\n",
    "sky_is_green = False\n",
    "result = not sky_is_green # True"
   ]
  },
  {
   "cell_type": "markdown",
   "metadata": {},
   "source": [
    "\n",
    "A statement with **The `or` operator** evaluates to `True` if **AT LEASE ONE** of the items are `True.` For instance, \n"
   ]
  },
  {
   "cell_type": "code",
   "execution_count": null,
   "metadata": {},
   "outputs": [],
   "source": [
    "layla_is_maine_coon = True\n",
    "layla_is_black = False\n",
    "layla_is_female = True\n",
    "\n",
    "result = layla_is_maine_coon or layla_is_black or layla_is_female # True"
   ]
  },
  {
   "cell_type": "markdown",
   "metadata": {},
   "source": [
    "\n",
    "Because at least one of the items above is `True`, the full expression will evaluate to `True`.\n",
    "\n",
    "**The `and` operator** evaluates to `True` if **ALL** of the operands are true.\n"
   ]
  },
  {
   "cell_type": "code",
   "execution_count": null,
   "metadata": {},
   "outputs": [],
   "source": [
    "layla_is_maine_coon = True\n",
    "layla_is_white = True\n",
    "layla_is_orange = True\n",
    "layla_is_black = False\n",
    "\n",
    "result1 = layla_is_maine_coon and layla_is_orange and layla_is_female # True\n",
    "\n",
    "result2 = layla_is_maine_coon and layla_is_black and layla_is_female # False"
   ]
  },
  {
   "cell_type": "markdown",
   "metadata": {},
   "source": [
    "\n",
    "`result1` above will be true since **ALL** of the items are `True`. Conversely, `result2` above will be `False` because **at least one** of the items is `False`.\n",
    "\n",
    "### Chaining Logical Operators\n",
    "\n",
    "When you chain logical operators, it's simply a way of succintly checking whether **ALL** logical expressions are `True`. When you combine chains of logical operators, you have to pay close attention to the **order of operations**: `not` then `and` then `or`.\n",
    "\n",
    "Let's break down a few examples:\n",
    "\n",
    "A) **and THEN or**\n"
   ]
  },
  {
   "cell_type": "code",
   "execution_count": null,
   "metadata": {},
   "outputs": [],
   "source": [
    "layla_is_white = True\n",
    "layla_is_orange = True\n",
    "layla_is_black = False\n",
    "\n",
    "\n",
    "result1 = (layla_is_white and layla_is_orange) or layla_is_black\n",
    "# (True and True) or False evals to...\n",
    "### True or False evals to evals to...\n",
    "### True\n",
    "\n",
    "result2 = layla_is_white or (layla_is_black and layla_is_orange)\n",
    "# True or (False and True) evals to...\n",
    "### True or False evals to...\n",
    "### True\n",
    "\n",
    "result3 = (layla_is_white and (not layla_is_black)) or layla_is_orange\n",
    "# (True and (True)) or True\n",
    "# layla_is_white and (True) or layla_is_orange\n",
    "# True and True or True\n",
    "### True and True evals to True\n",
    "### True or True evals to True\n",
    "\n",
    "result4 = layla_is_white and layla_is_black or not layla_is_orange\n",
    "# True and False or not True\n",
    "# True and False or False\n",
    "# False\n",
    "# STOP! No need to eval rest\n",
    "\n",
    "result5 = layla_is_white or layla_is_black and not layla_is_orange\n",
    "# True or False and not True\n",
    "# True or False and False\n",
    "# True or False\n",
    "# True\n",
    "\n",
    "result6 = layla_is_white and layla_is_black and not layla_is_orange\n",
    "# True and False and not True\n",
    "# True and False and False\n",
    "# True and False\n",
    "# False"
   ]
  },
  {
   "cell_type": "markdown",
   "metadata": {},
   "source": [
    "\n",
    "Summarized, the results above are:\n",
    "\n",
    "* results1 = `True`\n",
    "* results2 = `True`\n",
    "* results3 = `True`\n",
    "* results4 = `False`\n",
    "* results5 = `True`\n",
    "* results6 = `False`\n",
    "\n",
    "## Boolean Membership Operators\n",
    "\n",
    "Membership operators are: `in` and `not in`. They are used to determine if a value is in a sequence, for instance:\n"
   ]
  },
  {
   "cell_type": "code",
   "execution_count": null,
   "metadata": {},
   "outputs": [],
   "source": [
    "line = 'a b c d e f g'\n",
    "\n",
    "result = 'a' in line # True\n",
    "result = 'z' in line # False\n",
    "result = 'k' not in line # True\n",
    "result = 'a' not in line # False"
   ]
  },
  {
   "cell_type": "markdown",
   "metadata": {},
   "source": [
    "\n",
    "🏋️‍♀️ **EXERCISES** 🏋️‍♀️ \n",
    "\n",
    "Try out the \"Weather\" PSET in the [Conditionals Practice notebook](https://colab.research.google.com/drive/18Hj2RdAlx-ewtIjR8KHW3PpVh89fvicB).\n",
    "\n",
    "## Conditional Statements\n",
    "\n",
    "A conditional statement will attempt to evaluate an expression down to a boolean value - either `True` or `False`. Based on the boolean evaluation, the program will then execute or skip a block of code.\n",
    "\n",
    "So for instance:\n"
   ]
  },
  {
   "cell_type": "code",
   "execution_count": null,
   "metadata": {},
   "outputs": [],
   "source": [
    "if True:\n",
    "\tprint(\"this will always run!\")\n",
    "\n",
    "if False:\n",
    "\tprint(\"this will NEVER run!\")"
   ]
  },
  {
   "cell_type": "markdown",
   "metadata": {},
   "source": [
    "\n",
    "However, since we know booleans to be data types, *any* of the operators discussed above can *also* be used:\n"
   ]
  },
  {
   "cell_type": "code",
   "execution_count": null,
   "metadata": {},
   "outputs": [],
   "source": [
    "temp = 43\n",
    "\n",
    "if temp < 65:\n",
    "\tprint(\"wear a jacket!\")"
   ]
  },
  {
   "cell_type": "markdown",
   "metadata": {},
   "source": [
    "\n",
    "The code above will only run if `temp` is less than 65.\n",
    "\n",
    "We can also do something like:\n"
   ]
  },
  {
   "cell_type": "code",
   "execution_count": null,
   "metadata": {},
   "outputs": [],
   "source": [
    "temp = 43\n",
    "is_it_raining = True\n",
    "\n",
    "if is_it_raining and temp < 65:\n",
    "\tprint('wear a jacket and bring an umbrella!')"
   ]
  },
  {
   "cell_type": "markdown",
   "metadata": {},
   "source": [
    "\n",
    "In the example above, we make use of comparison operators *and* logical operators in a compound statement.\n",
    "\n",
    "### `else`s and `elif`s\n",
    "\n",
    "If we have a condition that can only go two ways (ie: it will only be true or false), we can leverage the `else` statement:\n"
   ]
  },
  {
   "cell_type": "code",
   "execution_count": null,
   "metadata": {},
   "outputs": [],
   "source": [
    "temp = 43\n",
    "\n",
    "if temp < 65:\n",
    "\tprint('wear a coat!')\n",
    "else:\n",
    "\tprint('you will not need a coat!')"
   ]
  },
  {
   "cell_type": "markdown",
   "metadata": {},
   "source": [
    "\n",
    "But what if we wanted support for multiple possibilities? That's where the `elif` statement comes in:\n"
   ]
  },
  {
   "cell_type": "code",
   "execution_count": null,
   "metadata": {},
   "outputs": [],
   "source": [
    "temp = 43\n",
    "\n",
    "if temp < 30:\n",
    "\tprint('wear a heavy jacket')\n",
    "elif temp < 50:\n",
    "\tprint('wear a light jacket')\n",
    "elif temp < 60:\n",
    "\tprint('wear a sweater')\n",
    "else:\n",
    "\tprint('you do not need any layers!')"
   ]
  },
  {
   "cell_type": "markdown",
   "metadata": {},
   "source": [
    "\n",
    "In the example above, we print one of 4 possibilities - the elif allows us to go from 2 potential conditions to N potential conditions.\n",
    "\n",
    "\n",
    "🏋️‍♀️ **EXERCISES** 🏋️‍♀️ \n",
    "\n",
    "Complete the \"Logic\" PSET in the [Conditionals Practice notebook](https://colab.research.google.com/drive/18Hj2RdAlx-ewtIjR8KHW3PpVh89fvicB).\n",
    "\n",
    "### BONUS TOPIC: Random Numbers\n",
    "\n",
    "If you want to generate random numbers in your programs, you can import Python's `random` package ***at the top of your code***.\n",
    "\n",
    "The example below generates a random number from 1 to 100:\n"
   ]
  },
  {
   "cell_type": "code",
   "execution_count": null,
   "metadata": {},
   "outputs": [],
   "source": [
    "import random\n",
    "randn = random.randint(1, 100)"
   ]
  },
  {
   "cell_type": "markdown",
   "metadata": {},
   "source": [
    "\n",
    "Notice how you have to specify that randint function came from the random package by writing random.randint().\n",
    "\n",
    "**-- OR --**\n",
    "\n",
    "Alternatively, to avoid having to reference the `random` package every time you call the `randint()` function, you can import `randint()` specifically like this:\n"
   ]
  },
  {
   "cell_type": "code",
   "execution_count": null,
   "metadata": {},
   "outputs": [],
   "source": [
    "from random import randint\n",
    "randn = randint(1, 100)"
   ]
  },
  {
   "cell_type": "markdown",
   "metadata": {},
   "source": [
    "\n",
    "### Practice together!\n",
    "\n",
    "Randomly generate either a `0` or a `1` to represent the outcome of a coin flip. Let `0` represent 'Heads' and `1` represent 'Tails'. Print the appropriate winning outcome.\n"
   ]
  },
  {
   "cell_type": "code",
   "execution_count": null,
   "metadata": {},
   "outputs": [],
   "source": [
    "from random import randint\n",
    "\n",
    "flip = randint(0, 1)\n",
    "print(flip)\n",
    "\n",
    "if flip == 0:\n",
    "\tprint('Heads wins!')\n",
    "elif flip == 1:\n",
    "\tprint('Tails wins!')\n",
    "else:\n",
    "\tprint('I can\\'t believe it landed on its edge!')"
   ]
  }
 ],
 "metadata": {},
 "nbformat": 4,
 "nbformat_minor": 2
}
