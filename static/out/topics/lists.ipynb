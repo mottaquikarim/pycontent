{
 "cells": [
  {
   "cell_type": "markdown",
   "metadata": {},
   "source": [
    "[![Open In Colab](https://colab.research.google.com/assets/colab-badge.svg)](https://colab.research.google.com/github/mottaquikarim/pycontent/blob/master/static/out/topics/lists.ipynb)"
   ]
  },
  {
   "cell_type": "markdown",
   "metadata": {},
   "source": [
    "# Lists\n",
    "\n",
    "In order to begin to truly write dynamic programs, we need to be able to work with *dynamic* data where we do not know how much of a certain type of variable we have.\n",
    "\n",
    "The problem, essentially is, *variables hold only one item*.\n"
   ]
  },
  {
   "cell_type": "code",
   "execution_count": null,
   "metadata": {},
   "outputs": [],
   "source": [
    "my_color = 'red'\n",
    "my_peer = 'Brandi'"
   ]
  },
  {
   "cell_type": "markdown",
   "metadata": {},
   "source": [
    "\n",
    "**Lists** hold multiple items, called **elements**. List elements can represent any data type, and *a single list can hold any mix of different data types, including **other lists**.*\n",
    "\n",
    "## Creating lists\n",
    "\n",
    "To declare a new list varaible, you have two options -- `[]` or `list()`. The `[]` syntax is a bit more straightforward, as seen below.\n"
   ]
  },
  {
   "cell_type": "code",
   "execution_count": null,
   "metadata": {},
   "outputs": [],
   "source": [
    "blank = []\n",
    "print(f'Blank: {blank}\\n')\n",
    "\n",
    "colors = ['red', 'yellow', 'green']\n",
    "print(f'Strings: {colors}\\n')\n",
    "\n",
    "grades = [100, 99.5, 65, 54.1, 19]\n",
    "print(f'Numbers: {grades}\\n')\n",
    "\n",
    "coin_flips = [True, False, True, True]\n",
    "print(f'Booleans: {coin_flips}\\n')\n",
    "\n",
    "nested_lists = [['circus', 'clown'], ['trapeze', 'artist']]\n",
    "print(f'Nested Lists: {nested_lists}\\n')\n",
    "\n",
    "mix = [True, ['seal', 'spider monkey'], 22, 'lion', [False, 13]]\n",
    "print(f'Mixed Data Types: {mix}\\n')"
   ]
  },
  {
   "cell_type": "markdown",
   "metadata": {},
   "source": [
    "\n",
    "If you choose to use the `list()` method, there are a couple things to remember. First, you can only add **one** parameter into `list()`. So if you want to add multiple items, you have to pass them to `list()` within the `[]` syntax anyway.\n"
   ]
  },
  {
   "cell_type": "code",
   "execution_count": null,
   "metadata": {},
   "outputs": [],
   "source": [
    "blank = list() # blank list\n",
    "print(blank)\n",
    "\n",
    "colors = list(['red', 'yellow', 'green']) # strings\n",
    "print(colors)\n",
    "\n",
    "# etc...\n",
    "\n",
    "mix = list([True, ['seal', 'spider monkey'], 22, 'lion', [False, 13]])\n",
    "print(f'Mixed Data Types: {mix}\\n')"
   ]
  },
  {
   "cell_type": "markdown",
   "metadata": {},
   "source": [
    "\n",
    "Take a look at what happens if you don't pass your desired item or items using the `[]` for list syntax.\n"
   ]
  },
  {
   "cell_type": "code",
   "execution_count": null,
   "metadata": {},
   "outputs": [],
   "source": [
    "colors = list('red', 'yellow', 'green')\n",
    "print(colors)\n",
    "### TypeError: list() takes at most 1 argument (3 given)\n",
    "\n",
    "grades = list(100) # or any float e.g. 100.0\n",
    "print(grades)\n",
    "### TypeError: 'int' object is not iterable\n",
    "\n",
    "coin_flips = list(True) # booleans\n",
    "print(coin_flips)\n",
    "### TypeError: 'bool' object is not iterable"
   ]
  },
  {
   "cell_type": "markdown",
   "metadata": {},
   "source": [
    "\n",
    "The one use case that does not throw an error is if you pass a single string value. Still, this doesn't have the intended output of adding a single names to a list of names!\n"
   ]
  },
  {
   "cell_type": "code",
   "execution_count": null,
   "metadata": {},
   "outputs": [],
   "source": [
    "names = list('Julianna')\n",
    "print(names)\n",
    "# ['J', 'u', 'l', 'i', 'a', 'n', 'n', 'a']"
   ]
  },
  {
   "cell_type": "markdown",
   "metadata": {},
   "source": [
    "\n",
    "And if you think it works for sentences by parsing a new list element at each space character...*nope!*\n"
   ]
  },
  {
   "cell_type": "code",
   "execution_count": null,
   "metadata": {},
   "outputs": [],
   "source": [
    "sentence = list('I like to sing!')\n",
    "print(sentence)\n",
    "# ['I', ' ', 'l', 'i', 'k', 'e', ' ', 't', 'o', ' ', 's', 'i', 'n', 'g', '!']"
   ]
  },
  {
   "cell_type": "markdown",
   "metadata": {},
   "source": [
    "\n",
    "## Accessing Elements in the List\n",
    "\n",
    "The **list index** means the location of something (an *element*) in the list.\n",
    "\n",
    "List indexes start counting at 0!\n",
    "\n",
    "|  List | \"Brandi\" | \"Zoe\" | \"Steve\" | \"Aleksander\" | \"Dasha\" |\n",
    "|:-----:|:--------:|:-----:|:-------:|:------:|:------:|\n",
    "| Index |     0    |   1   |    2    |    3   |    4   |\n",
    "\n"
   ]
  },
  {
   "cell_type": "code",
   "execution_count": null,
   "metadata": {},
   "outputs": [],
   "source": [
    "\"\"\"list_name[index]\"\"\"\n",
    "\n",
    "my_class = ['Brandi', 'Zoe', 'Steve', 'Aleksander', 'Dasha']\n",
    "print(my_class[0]) # Prints \"Brandi\"\n",
    "print(my_class[1]) # Prints \"Zoe\"\n",
    "print(my_class[4]) # Prints \"Dasha\""
   ]
  },
  {
   "cell_type": "markdown",
   "metadata": {},
   "source": [
    "\n",
    "To select multiple items from a list, simply pass the range of indeces which hold the desired elements, e.g. `[2:7]`.\n",
    "\n",
    "**NOTE!** It's important to remember that the upper bound is NOT inclusive. If you want the elements and index 1 through at including index 4, you have to write `[2:5]`. See this in action below:\n"
   ]
  },
  {
   "cell_type": "code",
   "execution_count": null,
   "metadata": {},
   "outputs": [],
   "source": [
    "\"\"\"list_name[start_index:end_index_+1]\"\"\"\n",
    "\n",
    "my_class = ['Brandi', 'Zoe', 'Steve', 'Aleksander', 'Dasha']\n",
    "print(my_class[1:4])"
   ]
  },
  {
   "cell_type": "markdown",
   "metadata": {},
   "source": [
    "\n",
    "Here are a few examples that illustrate what happens when you don't specify a bound:\n"
   ]
  },
  {
   "cell_type": "code",
   "execution_count": null,
   "metadata": {},
   "outputs": [],
   "source": [
    "my_class = ['Brandi', 'Zoe', 'Steve', 'Aleksander', 'Dasha']\n",
    "\n",
    "my_class = ['Brandi', 'Zoe', 'Steve', 'Aleksander', 'Dasha']\n",
    "\n",
    "print('[:2] -- ', my_class[:2]) # All indeces up to, but NOT including index 2\n",
    "\n",
    "print('[2:] -- ', my_class[2:]) # Index 2 through end of list\n",
    "\n",
    "print('[:] -- ', my_class[:]) # Prints WHOLE LIST\n",
    "\n",
    "print('[1:1] -- ', my_class[1:1]) # Prints NOTHING"
   ]
  },
  {
   "cell_type": "markdown",
   "metadata": {},
   "source": [
    "\n",
    "If you have nested lists, you simply add another level of index selection, like so:\n"
   ]
  },
  {
   "cell_type": "code",
   "execution_count": null,
   "metadata": {},
   "outputs": [],
   "source": [
    "nested_lists = list([['circus', 'clown'], ['trapeze', 'artist']])\n",
    "print(nested_lists[0][0]) # circus"
   ]
  },
  {
   "cell_type": "markdown",
   "metadata": {},
   "source": [
    "\n",
    "#### Practice together!\n"
   ]
  },
  {
   "cell_type": "code",
   "execution_count": null,
   "metadata": {},
   "outputs": [],
   "source": [
    "pets = ['dog', 'cat', 'guinea pig', 'ferret', 'bird', 'lizard']\n",
    "\n",
    "# Print index 1:\n",
    "\n",
    "\n",
    "# Print ['guinea pig', 'ferret']:\n",
    "\n",
    "\n",
    "# Print the 5th element:\n",
    "\n",
    "\n",
    "# Print all elements up to and INCLUDING 'ferret':\n",
    "\n",
    "\n",
    "# Print 'dog':\n",
    "\n",
    "\n",
    "# Print all elements from 'ferret' onwards:\n",
    "\n"
   ]
  },
  {
   "cell_type": "markdown",
   "metadata": {},
   "source": [
    "\n",
    "🏋️‍♀️ **EXERCISES** 🏋️‍♀️ \n",
    "\n",
    "Complete the \"?????\" PSET in the [Conditionals Practice notebook]().\n",
    "\n",
    "\n",
    "## Built-In Operations for Manipulating Lists\n",
    "\n",
    "### Add Items to a List\n",
    "If you want to extend the content of a single list, you can use `.append()`, `.extend()` `.insert()` to add elements of any data type.\n",
    "\n",
    "#### `.append()` vs. `.extend()`\n",
    "These methods both add items to the end of the list. The difference here is that `.append()` will add whatever value or group of values you pass it *in one chunk*. In contrast, if you pass a group of values into `.extend()`, it will add each element of the group *individually*. Here are a few examples to show you the difference in outcomes.\n"
   ]
  },
  {
   "cell_type": "code",
   "execution_count": null,
   "metadata": {},
   "outputs": [],
   "source": [
    "\"\"\" Passing direct argument \"\"\"\n",
    "# Append..\n",
    "x = ['a', 'b', 'c', 'd']\n",
    "x.append(['e', 'f', 'g'])\n",
    "print(x)\n",
    "# ['a', 'b', 'c', 'd', ['e', 'f', 'g']]\n",
    "\n",
    "# ... vs. extend\n",
    "x = ['a', 'b', 'c', 'd']\n",
    "x.extend(['e', 'f', 'g'])\n",
    "print(x)\n",
    "# ['a', 'b', 'c', 'd', 'e', 'f', 'g']"
   ]
  },
  {
   "cell_type": "markdown",
   "metadata": {},
   "source": [
    "\n",
    "Notice in this next example how `.extend()` only considers individual values of the parent list. It still adds the tuple and list - `('f', 'g')` and `['h', 'i']` - to our list `x` as their own items.\n"
   ]
  },
  {
   "cell_type": "code",
   "execution_count": null,
   "metadata": {},
   "outputs": [],
   "source": [
    "\"\"\" Passing argument within a var\"\"\"\n",
    "# Append..\n",
    "x = ['a', 'b', 'c', 'd']\n",
    "y = ['e', ('f', 'g'), ['h', 'i'], 'j']\n",
    "x.append(y)\n",
    "print(y)\n",
    "# ['a', 'b', 'c', 'd', ['e', ('f', 'g'), ['h', 'i'], 'j']]\n",
    "\n",
    "# ... vs. extend\n",
    "x = ['a', 'b', 'c', 'd']\n",
    "y = ['e', ('f', 'g'), ['h', 'i'], 'j']\n",
    "x.extend(y)\n",
    "print(x)\n",
    "# ['a', 'b', 'c', 'd', 'e', ('f', 'g'), ['h', 'i'], 'j']"
   ]
  },
  {
   "cell_type": "markdown",
   "metadata": {},
   "source": [
    "\n",
    "#### `.insert(index, value)`\n",
    "If you want to add an item to a specific point in your list, you can pass the desired index and value into `.insert()` as follows.\n"
   ]
  },
  {
   "cell_type": "code",
   "execution_count": null,
   "metadata": {},
   "outputs": [],
   "source": [
    "\"\"\"your_list.insert(index, item)\"\"\"\n",
    "\n",
    "my_class = ['Brandi', 'Zoe', 'Steve', 'Aleksander', 'Dasha', 'Sonyl']\n",
    "my_class.insert(1, 'Sanju')\n",
    "print(my_class)\n",
    "# ['Brandi', 'Sanju', 'Zoe', 'Steve', 'Aleksander', 'Dasha', 'Sonyl']"
   ]
  },
  {
   "cell_type": "markdown",
   "metadata": {},
   "source": [
    "\n",
    "### Remove Items from a List\n",
    "Likewise, you can use `.pop()` or `.pop(index)` to remove any type of element from a list.\n",
    "\n",
    "#### `.pop()`\n",
    "- Removes an item from the end of the list.\n"
   ]
  },
  {
   "cell_type": "code",
   "execution_count": null,
   "metadata": {},
   "outputs": [],
   "source": [
    "\"\"\"your_list.pop()\"\"\"\n",
    "\n",
    "my_class = ['Brandi', 'Zoe', 'Steve', 'Aleksander', 'Dasha', 'Sonyl']\n",
    "student_that_left = my_class.pop()\n",
    "print(\"The student\", student_that_left, \"has left the class.\")\n",
    "# Sonyl\n",
    "print(my_class)\n",
    "# ['Brandi', 'Zoe', 'Steve', 'Aleksander', 'Dasha']"
   ]
  },
  {
   "cell_type": "markdown",
   "metadata": {},
   "source": [
    "\n",
    "#### `.pop(index)`\n",
    "\n",
    "- Removes an item from the list.\n",
    "- Can take an index.\n"
   ]
  },
  {
   "cell_type": "code",
   "execution_count": null,
   "metadata": {},
   "outputs": [],
   "source": [
    "\"\"\"your_list.pop(index)\"\"\"\n",
    "\n",
    "my_class = ['Brandi', 'Zoe', 'Steve', 'Aleksander', 'Dasha']\n",
    "student_that_left = my_class.pop(2) # Remember to count from 0!\n",
    "print('The student', student_that_left, 'has left the class.')\n",
    "# 'Steve'\n",
    "print(my_class)\n",
    "# => ['Brandi', 'Zoe', 'Aleksander', 'Dasha']"
   ]
  },
  {
   "cell_type": "markdown",
   "metadata": {},
   "source": [
    "\n",
    "### Edit Items in a List\n",
    "\n",
    "#### Update/Replace Items\n",
    "\n",
    "To replace items in a list, you reference them by their index value and simply declare a new value for that element.\n"
   ]
  },
  {
   "cell_type": "code",
   "execution_count": null,
   "metadata": {},
   "outputs": [],
   "source": [
    "x = ['Brandi', 'Sanju', 'Zoe', 'Steve', 'Aleksander', 'Dasha', 'Sonyl']\n",
    "\n",
    "x[1] = 'Raju'\n",
    "x[4:] = ['Chloe', 'Phoebe']\n",
    "print(x)"
   ]
  },
  {
   "cell_type": "markdown",
   "metadata": {},
   "source": [
    "\n",
    "#### Join Items\n",
    "\n",
    "If you need to, you can compile your list items into a single string using `.join()`. You CANNOT do this with lists of numbers, booleans, or a list containing a mix of strings and other data types though.\n"
   ]
  },
  {
   "cell_type": "code",
   "execution_count": null,
   "metadata": {},
   "outputs": [],
   "source": [
    "letters = ['j', 'u', 'l', 'i', 'a', 'n', 'n', 'a']\n",
    "name = ''.join(letters)\n",
    "print(name) # 'julianna'\n",
    "\n",
    "words = ['this', 'is', 'fun']\n",
    "sentence = ' '.join(words)\n",
    "print(f'{sentence}.') # 'this is fun.'"
   ]
  },
  {
   "cell_type": "markdown",
   "metadata": {},
   "source": [
    "\n",
    "#### Split Items\n",
    "\n",
    "Conversely, you can separate a string using `.split('by_char')`, which will parse values out of a string and turn each value into a list item. This one doesn't work for single words you might want to split into individual characters. That said, you *can* specify what character should convey to the method when to split out a new item. By default, `.split('by_char')` will use a space character to split the string.\n"
   ]
  },
  {
   "cell_type": "code",
   "execution_count": null,
   "metadata": {},
   "outputs": [],
   "source": [
    "x = 'this is fun'\n",
    "sentence = x.split() # note - using default split char at space\n",
    "print(sentence) # ['this', 'is', 'fun']\n",
    "\n",
    "y = 'Sandra,hi@email.com,646-212-1234,8 Cherry Lane,Splitsville,FL,58028'\n",
    "data = y.split(',')\n",
    "print(data) # ['Sandra', 'hi@email.com', '646-212-1234', '8 Cherry Lane', 'Splitsville', 'FL', '58028']"
   ]
  },
  {
   "cell_type": "markdown",
   "metadata": {},
   "source": [
    "\n",
    "## Built-in Operators for Analyzing Lists\n",
    "\n",
    "Python has some built-in operations that allow you to analyze the content of a list. Some basic ones include:\n",
    "\n",
    "#### `len()`\n",
    "\n",
    "This counts the numbers of elements in the list, or its *length*, regardless of data type.\n"
   ]
  },
  {
   "cell_type": "code",
   "execution_count": null,
   "metadata": {},
   "outputs": [],
   "source": [
    "# length_variable = len(your_list)\n",
    "\n",
    "my_class = ['Brandi', 'Zoe', 'Aleksander', 'Dasha']\n",
    "num_students = len(my_class)\n",
    "print(f'There are {num_students} students in the class')\n",
    "# => 5"
   ]
  },
  {
   "cell_type": "markdown",
   "metadata": {},
   "source": [
    "\n",
    "Aside from merely finding the length, `len()` comes in handy during a number of other use cases. For example, you can use `len()` to dynamically select the last element of a list. If you find the list's length then subtract 1, you will have the index of the last list element. Watch this:\n"
   ]
  },
  {
   "cell_type": "code",
   "execution_count": null,
   "metadata": {},
   "outputs": [],
   "source": [
    "my_class = ['Brandi', 'Zoe', 'Steve', 'Aleksander', 'Dasha']\n",
    "num_students = len(my_class)\n",
    "last_student_index = num_students - 1\n",
    "print(my_class[last_student_index]) # Dasha\n",
    "\n",
    "# You can do this all in one line if you want!\n",
    "# print(my_class[(len(my_class)-1)])"
   ]
  },
  {
   "cell_type": "markdown",
   "metadata": {},
   "source": [
    "\n",
    "Here it is with a nested list:\n"
   ]
  },
  {
   "cell_type": "code",
   "execution_count": null,
   "metadata": {},
   "outputs": [],
   "source": [
    "nested_lists = [['circus', 'clown'], ['trapeze', 'artist']]\n",
    "last_index_nested_lists = len(nested_lists) - 1\n",
    "print(last_index_nested_lists)\n",
    "\n",
    "last_index_last_nested_list = len(nested_lists[last_index_nested_lists]) - 1\n",
    "print(last_index_last_nested_list)\n",
    "\n",
    "last_element_last_nested_list = nested_lists[last_index_nested_lists][last_index_last_nested_list]\n",
    "\n",
    "print(last_element_last_nested_list) # artist"
   ]
  },
  {
   "cell_type": "markdown",
   "metadata": {},
   "source": [
    "\n",
    "#### `sum()`\n",
    "\n",
    "This returns the sum of all items in *numerical lists*.\n"
   ]
  },
  {
   "cell_type": "code",
   "execution_count": null,
   "metadata": {},
   "outputs": [],
   "source": [
    "\"\"\"sum_variable = sum(your_numeric_list)\"\"\"\n",
    "\n",
    "team_batting_avgs = [.328, .299, .208, .301, .275, .226, .253, .232, .287]\n",
    "sum_avgs = sum(team_batting_avgs)\n",
    "print(f'The total of all the batting averages is {sum_avgs}.')"
   ]
  },
  {
   "cell_type": "markdown",
   "metadata": {},
   "source": [
    "\n",
    "#### `min()` & `max()`\n",
    "\n",
    "Return the smallest or largest number *in a numerical list*.\n"
   ]
  },
  {
   "cell_type": "code",
   "execution_count": null,
   "metadata": {},
   "outputs": [],
   "source": [
    "\"\"\"\n",
    "max(your_numeric_list)\n",
    "min(your_numeric_list)\n",
    "\"\"\"\n",
    "\n",
    "team_batting_avgs = [.328, .299, .208, .301, .275, .226, .253, .232, .287]\n",
    "print(f'The highest batting average is {max(team_batting_avgs}')\n",
    "# ... 0.328\n",
    "print(f'The lowest batting average is {min(team_batting_avgs)}')\n",
    "# ... 0.208"
   ]
  },
  {
   "cell_type": "markdown",
   "metadata": {},
   "source": [
    "\n",
    "#### `.index()`\n",
    "\n",
    "Given a list element's value, return its index.\n"
   ]
  },
  {
   "cell_type": "code",
   "execution_count": null,
   "metadata": {},
   "outputs": [],
   "source": [
    "sentence = ['a', 'purple', 'pig', 'and', 'a', 'green', 'donkey', 'flew', 'a', 'kite', 'in', 'the', 'middle','of', 'the', 'night', 'and', 'ended', 'up', 'sunburnt']\n",
    "\n",
    "pig_index = sentence.index('pig')\n",
    "print(pig_index)"
   ]
  },
  {
   "cell_type": "code",
   "execution_count": null,
   "metadata": {},
   "outputs": [],
   "source": [
    "\n",
    "If the element occurs multiple times in the list, `.index()` will only return the index of its *first* occurrence!\n"
   ]
  },
  {
   "cell_type": "code",
   "execution_count": null,
   "metadata": {},
   "outputs": [],
   "source": [
    "sentence = ['a', 'purple', 'pig', 'AND', 'a', 'green', 'donkey', 'flew', 'a', 'kite', 'in', 'the', 'middle','of', 'the', 'night', 'AND', 'ended', 'up', 'sunburnt']\n",
    "\n",
    "and_index = sentence.index('AND')\n",
    "print(and_index) # 3"
   ]
  },
  {
   "cell_type": "markdown",
   "metadata": {},
   "source": [
    "\n",
    "#### `.count()`\n",
    "\n",
    "This returns the number of occurrences of a *single, distinct element* within a list. That means for example, if you're searching a list of words (i.e. strings) for the occurrences of a single letter, only instances where that single letter appears as its own list item will be counted.\n"
   ]
  },
  {
   "cell_type": "code",
   "execution_count": null,
   "metadata": {},
   "outputs": [],
   "source": [
    "nums = [84, 8, 18, 8, 28, 6, 10, 8, 78, 9]\n",
    "print(nums.count(8)) # 3\n",
    "\n",
    "\n",
    "sentence = ['a', 'purple', 'pig', 'and', 'a', 'green', 'donkey', 'flew', 'a', 'kite', 'in', 'the', 'middle','of', 'the', 'night', 'and', 'ended', 'up', 'sunburnt']\n",
    "print(sentence.count('a')) # 3"
   ]
  },
  {
   "cell_type": "markdown",
   "metadata": {},
   "source": [
    "\n",
    "If you want to count the occurrences of a single character within a larger value, you can still use `.count()`...\n"
   ]
  },
  {
   "cell_type": "code",
   "execution_count": null,
   "metadata": {},
   "outputs": [],
   "source": [
    "word = 'sunburnt'\n",
    "print(word.count('u')) # 2"
   ]
  },
  {
   "cell_type": "markdown",
   "metadata": {},
   "source": [
    "\n",
    "*...BUT only on **strings**.* Notice how `.count()` throws an error if you try to count the number of times the digit \"2\" appears in the number below. And remember, you CANNOT use the `.split()` method as a workaround because `.split()` only works on strings!\n"
   ]
  },
  {
   "cell_type": "code",
   "execution_count": null,
   "metadata": {},
   "outputs": [],
   "source": [
    "num = 22384232348\n",
    "print(num.count(2))"
   ]
  },
  {
   "cell_type": "markdown",
   "metadata": {},
   "source": [
    "\n",
    "#### Practice Together!\n",
    "\n",
    "Now, take a look at how these list operations work together in this contextual example. Let's say we're conducting a probability experiment with coin tosses. We conduct some number of trials (i.e. the coin tosses) and record the outcomes. Based on the sample below, here's one way to find the probabilities of a \"Heads\" or \"Tails\" outcome.\n"
   ]
  },
  {
   "cell_type": "code",
   "execution_count": null,
   "metadata": {},
   "outputs": [],
   "source": [
    "coin_toss = [True, False, False, False, True, False, True, True, False, False, True, True, False, True]\n",
    "\n",
    "num_tosses = len(coin_toss)\n",
    "\n",
    "heads = coin_toss.count(True)\n",
    "tails = coin_toss.count(False)\n",
    "print(f'# Heads: {heads} vs. # Tails: {tails}\\n')\n",
    "\n",
    "P_heads = heads / num_tosses\n",
    "P_tails = tails / num_tosses\n",
    "\n",
    "print(f'P(Heads) = {P_heads} vs. P(Tails) = {P_tails}')"
   ]
  },
  {
   "cell_type": "markdown",
   "metadata": {},
   "source": [
    "\n",
    "## Sorting Lists\n",
    "\n",
    "If you want to organize your lists better, you can sort them with the `.sort()` or `sorted()` functions. You can sort:\n",
    "\n",
    "* Numbers: ascending and descending order\n",
    "* Strings: alphabetically and reverse alphabetically\n",
    "* You **cannot** sort a list that includes different data types. \n",
    "\n",
    "It's important to remember that the `.sort()` function modifies the list *in place*, while the `sorted()` function requires you to assign its result back to the variable.\n",
    "\n",
    "#### `.sort()`\n",
    "\n",
    "The first two examples below illustrate how to sort lists in ascending order/alphabetically using `.sort()`.\n"
   ]
  },
  {
   "cell_type": "code",
   "execution_count": null,
   "metadata": {},
   "outputs": [],
   "source": [
    "numbers = [1, 3, 7, 5, 2, 4, 6]\n",
    "numbers.sort()\n",
    "print(numbers) # [1, 2, 3, 4, 5, 6, 7]\n",
    "\n",
    "\n",
    "letters = ['b', 'e', 'c', 'a', 'd']\n",
    "letters.sort()\n",
    "print(letters) # ['a', 'b', 'c', 'd', 'e']"
   ]
  },
  {
   "cell_type": "markdown",
   "metadata": {},
   "source": [
    "\n",
    "To do this in descending order, simply add `reverse=True` as an argument in `.sort()` like this:\n"
   ]
  },
  {
   "cell_type": "code",
   "execution_count": null,
   "metadata": {},
   "outputs": [],
   "source": [
    "numbers = [1, 3, 7, 5, 2, 4, 6]\n",
    "numbers.sort(reverse = True)\n",
    "print(numbers) # [7, 6, 5, 4, 3, 2, 1]\n",
    "\n",
    "letters = ['b', 'e', 'c', 'a', 'd']\n",
    "letters.sort(reverse = True)\n",
    "print(letters) # ['e', 'd', 'c', 'b', 'a']"
   ]
  },
  {
   "cell_type": "markdown",
   "metadata": {},
   "source": [
    "\n",
    "#### `sorted()`\n",
    "\n",
    "The first two examples below illustrate how to sort lists in **ascending order**/alphabetically using `sorted()`.\n"
   ]
  },
  {
   "cell_type": "code",
   "execution_count": null,
   "metadata": {},
   "outputs": [],
   "source": [
    "numbers = [1, 3, 7, 5, 2, 4, 6]\n",
    "ascending = sorted(numbers)\n",
    "print(ascending) # [1, 2, 3, 4, 5, 6, 7]\n",
    "\n",
    "\n",
    "letters = ['b', 'e', 'c', 'a', 'd']\n",
    "ascending = sorted(letters)\n",
    "print(ascending) # ['a', 'b', 'c', 'd', 'e']"
   ]
  },
  {
   "cell_type": "markdown",
   "metadata": {},
   "source": [
    "\n",
    "To do this in **descending order**, simply add `reverse=True` as an argument in `.sorted()` like this:\n"
   ]
  },
  {
   "cell_type": "code",
   "execution_count": null,
   "metadata": {},
   "outputs": [],
   "source": [
    "numbers = [1, 3, 7, 5, 2, 4, 6]\n",
    "descending = sorted(numbers, reverse=True)\n",
    "print(descending) # [7, 6, 5, 4, 3, 2, 1]\n",
    "\n",
    "\n",
    "letters = ['b', 'e', 'c', 'a', 'd']\n",
    "descending = sorted(letters, reverse=True)\n",
    "print(descending) # ['e', 'd', 'c', 'b', 'a']"
   ]
  },
  {
   "cell_type": "markdown",
   "metadata": {},
   "source": [
    "\n",
    "## Tuples\n",
    "\n",
    "Tuples are a special subset of lists - they are *immutable* - in that they cannot be changed after creation. Tuples are denoted with `()` as opposed to `[]`.\n",
    "\n",
    "You can declare sets in two ways:\n"
   ]
  },
  {
   "cell_type": "code",
   "execution_count": null,
   "metadata": {},
   "outputs": [],
   "source": [
    "score1 = ('Taq', 100)\n",
    "print(score1) # ('Taq', 100)\n",
    "\n",
    "# OR\n",
    "\n",
    "score2 = 'Sue', 101 # ('Sue', 101)\n",
    "print(score2)"
   ]
  },
  {
   "cell_type": "markdown",
   "metadata": {},
   "source": [
    "\n",
    "We read tuples just like we would read a list:\n"
   ]
  },
  {
   "cell_type": "code",
   "execution_count": null,
   "metadata": {},
   "outputs": [],
   "source": [
    "dna = ('A', 'T'), ('G', 'C')\n",
    "print(dna) # (('A', 'T'), ('G', 'C'))\n",
    "\n",
    "\n",
    "print(dna[0]) # ('A', 'T')\n",
    "print(dna[1][0]) # G"
   ]
  },
  {
   "cell_type": "markdown",
   "metadata": {},
   "source": [
    "\n",
    "You can do SOME of the same operations on tuples despite their immutability. For example:\n"
   ]
  },
  {
   "cell_type": "code",
   "execution_count": null,
   "metadata": {},
   "outputs": [],
   "source": [
    "tuple1 = (1, 3, 7, 5, 2, 4, 6)\n",
    "\n",
    "len_tuple1 = len(tuple1) # 7\n",
    "sum_tuple1 = sum(tuple1) # 28\n",
    "min_tuple1 = min(tuple1) # 1\n",
    "max_tuple1 = max(tuple1) # 7\n",
    "\n",
    "count_val4 = tuple1.count(4) # 1\n",
    "index_val2 = tuple1.index(2) # 4\n",
    "\n",
    "print(f'''\n",
    "Length: {len_tuple1}\n",
    "Sum: {sum_tuple1}\n",
    "Min: {min_tuple1}\n",
    "Max: {max_tuple1}\n",
    "Occurrences of \"4\": {count_val4}\n",
    "Index of \"2\": {index_val2}\n",
    "''')"
   ]
  },
  {
   "cell_type": "markdown",
   "metadata": {},
   "source": [
    "\n",
    "You *can sort, join, or split* a tuple the same as a list, **BUT** because you can't edit a tuple:\n",
    "* You can't use `.sort()` because that edits the object in place\n",
    "* Each of these will return a *new list object*\n"
   ]
  },
  {
   "cell_type": "code",
   "execution_count": null,
   "metadata": {},
   "outputs": [],
   "source": [
    "tuple2 = ('b', 'e', 'c', 'a', 'd')\n",
    "\n",
    "sort_asc = sorted(tuple2)\n",
    "print(sort_asc, type(sort_asc)) # ['a', 'b', 'c', 'd', 'e'] <class 'list'>\n",
    "\n",
    "sort_desc = sorted(tuple2, reverse = True)\n",
    "print(sort_desc, type(sort_desc)) # ['e', 'd', 'c', 'b', 'a'] <class 'list'>\n",
    "\n",
    "print('\\n')\n",
    "\n",
    "joined = ', '.join(tuple2) # Joined: b, e, c, a, d <class 'str'>\n",
    "print('Joined:', joined, type(joined))\n",
    "\n",
    "split_up = joined.split(',') # Split: ['b', ' e', ' c', ' a', ' d'] <class 'list'>\n",
    "print('Split:', split_up, type(split_up))"
   ]
  },
  {
   "cell_type": "markdown",
   "metadata": {},
   "source": [
    "\n",
    "## Sets\n",
    "\n",
    "Sets are special lists in that they can only have **unique** elements. They are denoted with `{}`.\n"
   ]
  },
  {
   "cell_type": "code",
   "execution_count": null,
   "metadata": {},
   "outputs": [],
   "source": [
    "set_1 = {1,2,3,4,5} # this is a set, notice the {}\n",
    "set_2 = {1,1,1,2,2,3,4,5,5,5} # this is still a set\n",
    "print(set_2) # {1,2,3,4,5}\n",
    "\n",
    "print(set_1 == set_2) # True"
   ]
  },
  {
   "cell_type": "markdown",
   "metadata": {},
   "source": [
    "\n",
    "Sets are also not indexed, so you cannot access, say, the 3rd element in a set. Instead, you can use *boolean membership operators* to check for a value's existence in the set. Remember those?\n"
   ]
  },
  {
   "cell_type": "code",
   "execution_count": null,
   "metadata": {},
   "outputs": [],
   "source": [
    "set_1 = {1,2,3,4,5}\n",
    "\n",
    "print(2 in set_1) # True\n",
    "print(8 in set_1) # False\n",
    "\n",
    "print(2 and 8 in set_1) # False\n",
    "print(2 and 3 in set_1) # True"
   ]
  },
  {
   "cell_type": "markdown",
   "metadata": {},
   "source": [
    "\n",
    "That said, you can still perform mathmetical operations on sets. These are the same examples we used for tuples, and they have the same results. Notice how you can't find the index of an element for the reasons we just discussed!\n"
   ]
  },
  {
   "cell_type": "code",
   "execution_count": null,
   "metadata": {},
   "outputs": [],
   "source": [
    "set1 = (1, 3, 7, 5, 2, 4, 6)\n",
    "\n",
    "len_set1 = len(set1) # 7\n",
    "sum_set1 = sum(set1) # 28\n",
    "min_set1 = min(set1) # 1\n",
    "max_set1 = max(set1) # 7\n",
    "\n",
    "count_val4 = set1.count(4) # 1\n",
    "\n",
    "print(f'''\n",
    "Length: {len_set1}\n",
    "Sum: {sum_set1}\n",
    "Min: {min_set1}\n",
    "Max: {max_set1}\n",
    "Occurrences of \"4\": {count_val4}\n",
    "''')"
   ]
  },
  {
   "cell_type": "markdown",
   "metadata": {},
   "source": [
    "\n",
    "You *can also sort, join, or split* a set, **BUT** you have the same limitations as you do with a tuple:\n",
    "* You can't use `.sort()` because that edits the object in place\n",
    "* Each of these will return a *new list object*\n"
   ]
  },
  {
   "cell_type": "code",
   "execution_count": null,
   "metadata": {},
   "outputs": [],
   "source": [
    "set2 = {'b', 'e', 'c', 'a', 'd'}\n",
    "\n",
    "sort_asc = sorted(set2)\n",
    "print(sort_asc, type(sort_asc)) # ['a', 'b', 'c', 'd', 'e'] <class 'list'>\n",
    "\n",
    "sort_desc = sorted(set2, reverse = True)\n",
    "print(sort_desc, type(sort_desc)) # ['e', 'd', 'c', 'b', 'a'] <class 'list'>\n",
    "\n",
    "print('\\n')\n",
    "\n",
    "joined = ', '.join(set2) # Joined: b, e, c, a, d <class 'str'>\n",
    "print('Joined:', joined, type(joined))\n",
    "\n",
    "split_up = joined.split(',') # Split: ['b', ' e', ' c', ' a', ' d'] <class 'list'>\n",
    "print('Split:', split_up, type(split_up))"
   ]
  },
  {
   "cell_type": "markdown",
   "metadata": {},
   "source": [
    "\n",
    "**Pro Tip**: Sets give a great way to remove duplicates from a list!\n"
   ]
  },
  {
   "cell_type": "code",
   "execution_count": null,
   "metadata": {},
   "outputs": [],
   "source": [
    "my_list = [1,2,4,5,2,3,1,4,5,1,5,3]\n",
    "\n",
    "uniques_in_my_list = set(my_list)\n",
    "print(uniques_in_my_list) # {1, 2, 3, 4, 5}\n",
    "\n",
    "my_list = list(uniques_in_my_list)\n",
    "print(my_list) # [1, 2, 3, 4, 5]"
   ]
  },
  {
   "cell_type": "markdown",
   "metadata": {},
   "source": [
    "\n",
    "Here's a **[helpful list](https://snakify.org/en/lessons/sets/#section_4)** of other set operations.\n",
    "\n",
    "## Summary\n",
    "\n",
    "<img src=\"https://github.com/mottaquikarim/PYTH2/blob/master/assets/Lists_Summary.png?raw=true\" width=\"100%\" align=\"left\"/>\n",
    "\n",
    "### Class Practice PSETs\n",
    "\n",
    "[Lists](https://github.com/mottaquikarim/PYTH2/blob/master/src/PSETS/nb/lists_inclass_psets.ipynb)\n",
    "[Lists - CHALLENGES](https://github.com/mottaquikarim/PYTH2/blob/master/src/PSETS/nb/list_challenges.ipynb)\n",
    "\n",
    "## Additional Resources\n",
    "\n",
    "- [Python Lists - Khan Academy Video](https://www.youtube.com/watch?v=zEyEC34MY1A)\n",
    "- [Google For Education: Python Lists](https://developers.google.com/edu/python/lists)\n",
    "- [Python-Lists](https://www.tutorialspoint.com/python/python_lists.htm)\n",
    "- [Python List Methods](https://www.programiz.com/python-programming/methods/list/)\n",
    "- [Python Data Structures: Lists, Tuples, Sets, and Dictionaries Video](https://www.youtube.com/watch?v=R-HLU9Fl5ug)"
   ]
  }
 ],
 "metadata": {},
 "nbformat": 4,
 "nbformat_minor": 2
}
