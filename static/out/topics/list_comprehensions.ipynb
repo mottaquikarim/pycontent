{
 "cells": [
  {
   "cell_type": "markdown",
   "metadata": {},
   "source": [
    "[![Open In Colab](https://colab.research.google.com/assets/colab-badge.svg)](https://colab.research.google.com/github/mottaquikarim/pycontent/blob/master/static/out/topics/list_comprehensions.ipynb)"
   ]
  },
  {
   "cell_type": "markdown",
   "metadata": {},
   "source": [
    "# List Comprehensions\n",
    "\n",
    "At their core, **list comprehensions** are a short-cut for transforming lists into other lists. Essentially, you can iterate through my_list using a condensed for-loop syntax. Till now, we've been fine using for loops to transform lists, but as your code gets more complicated, you'll be thankful for any short-cut!\n",
    "\n",
    "Here's a one-to-one comparison of the general syntax for creating a list with a `for loop` versus a `list comprehension`. We'll use pseudo-code here for better initial context. These are the key elements to note in the list comprehension:\n",
    "\n",
    "* The square brackets, a signature of Python lists;\n",
    "* The `for` keyword, followed by an arbitrary variable to represent the list items\n",
    "* The `in` keyword, followed by a list variable\n"
   ]
  },
  {
   "cell_type": "code",
   "execution_count": null,
   "metadata": {},
   "outputs": [],
   "source": [
    "# for loop\n",
    "<variable_for_values> = []\n",
    "for <item> in <iterable>:\n",
    "    <variable_for_values>.append(<expression>)\n",
    "\n",
    "# list comprehension\n",
    "<variable_for_values> = [<expression> for <item> in <iterable>]"
   ]
  },
  {
   "cell_type": "markdown",
   "metadata": {},
   "source": [
    "\n",
    "The examples below also achieve the same outcome, but with actual code...\n"
   ]
  },
  {
   "cell_type": "code",
   "execution_count": null,
   "metadata": {},
   "outputs": [],
   "source": [
    "# for loop\n",
    "squares = []\n",
    "for x in range(8):\n",
    "\tsquares.append(x*x)\n",
    "print(squares) # [0, 1, 4, 9, 16, 25, 36, 49]\n",
    "\n",
    "# list comprehension\n",
    "squares = [x*x for x in range(8)]\n",
    "print(squares) # [0, 1, 4, 9, 16, 25, 36, 49]"
   ]
  },
  {
   "cell_type": "markdown",
   "metadata": {},
   "source": [
    "\n",
    "## Incorporating Conditionals\n",
    "\n",
    "Just like iterating through list items with a for loop, you might want to access only items adhering to one or more specific conditions. Let's walk through these use cases.\n",
    "\n",
    "**Modify a List's Existing Items**\n"
   ]
  },
  {
   "cell_type": "code",
   "execution_count": null,
   "metadata": {},
   "outputs": [],
   "source": [
    "grades = [100, 33, 98, 76, 54, 98, 89, 49]\n",
    "curved_grades = []\n",
    "\n",
    "# for loop\n",
    "for grade in grades:\n",
    "  curved_grades.append(grade + 10)\n",
    "\n",
    "print(curved_grades) # [110, 43, 108, 86, 64, 108, 99, 59]\n",
    "\n",
    "# list comprehension\n",
    "curved_grades2 = [(grade + 10) for grade in grades]\n",
    "\n",
    "print(curved_grades2) # [110, 43, 108, 86, 64, 108, 99, 59]"
   ]
  },
  {
   "cell_type": "markdown",
   "metadata": {},
   "source": [
    "\n",
    "**Create a New List w. a Specific Subset of the Original List Items**\n"
   ]
  },
  {
   "cell_type": "code",
   "execution_count": null,
   "metadata": {},
   "outputs": [],
   "source": [
    "grades = [100, 33, 98, 76, 54, 98, 89, 49]\n",
    "failing_grades = []\n",
    "\n",
    "# for loop\n",
    "failing_grades = []\n",
    "for grade in grades:\n",
    "  if grade < 65:\n",
    "    failing_grades.append(grade)\n",
    "  \n",
    "print(failing_grades) # [33, 54, 49]\n",
    "\n",
    "# list comprehension\n",
    "failing_grades = [grade for grade in grades if grade < 65]\n",
    "\n",
    "print(failing_grades) # [33, 54, 49]"
   ]
  },
  {
   "cell_type": "markdown",
   "metadata": {},
   "source": [
    "\n"
   ]
  }
 ],
 "metadata": {},
 "nbformat": 4,
 "nbformat_minor": 2
}
