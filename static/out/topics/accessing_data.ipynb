{
 "cells": [
  {
   "cell_type": "markdown",
   "metadata": {},
   "source": [
    "[![Open In Colab](https://colab.research.google.com/assets/colab-badge.svg)](https://colab.research.google.com/github/mottaquikarim/pycontent/blob/master/static/out/topics/accessing_data.ipynb)"
   ]
  },
  {
   "cell_type": "markdown",
   "metadata": {},
   "source": [
    "# Accessing Data\n",
    "\n",
    "Before we get into any sort of data analysis, we need to understand the most basic code for loading, summarizing, and selecting data. This is a lot of individual examples. But! Once we get past that, we will have the flexibility to learn via a contextual analysis. First, let's get familiar with the data we've chosen.\n",
    "\n",
    "## Data Dictionaries\n",
    "\n",
    "When you analyze a set of data, always include a `data dictionary`, or a list of variable definitions, alongside your notebook. It can serve as a contextual overview of the variables in the dataset as well as share information about how certain variables are formatted. If you're looking to study a dataset yourself, the data dictionary can also give you high-level ideas for what you might want to analyze and how.\n",
    "\n",
    "Our dataset contains movie metadata that we pulled from the [OMDb API](http://www.omdbapi.com/). Below is the data dictionary for the *unaltered OMDb data*. If it seems disorganized and convoluted... that's because it is! The fields and formats here are the original ones obtained straight from the OMDB API. In order to wrangle this data for our purposes, we have to first clean it ourselves. (That said, the OMDb dataset does have a few pretty self-explanatory variables, so we've left some definitions blank.)\n",
    "\n",
    "* **Title**\n",
    "* **Year**: Year the movie was made\n",
    "* **Rated**: MPAA content rating (e.g. PG, NC17, R, etc.)\n",
    "* **Released**: Date the movie was released to theaters\n",
    "* **Runtime**: How long in number of minutes \n",
    "* **Genre**: One or more genres that describe the movie* \n",
    "* **Director**\n",
    "* **Writer**\n",
    "* **Actors**\n",
    "* **Plot**\n",
    "* **Language**\n",
    "* **Country**\n",
    "* **Awards**: # of nominations and # of wins for one or more types of awards\n",
    "* **Poster**: Amazon-hosted image url for the poster of the movie\n",
    "* **Ratings**: Series containing ratings from multiple sources (e.g. Rotten Tomatoes)\n",
    "* **Metascore**: Metacritic rating from critics\n",
    "* **imdbRating**: Crowd-sourced audience rating from IMDb\n",
    "* **imdbVotes**: Number of user ratings from IMDb\n",
    "* **imdbID**: Unique movie ID from IMDb\n",
    "* **Type**: Content category ==(e.g. movie, tv, etc.)==\n",
    "* **DVD**: Date the movie was released to DVD\n",
    "* **BoxOffice**: Box office earnings in US dollars\n",
    "* **Production**: Production company\n",
    "* **Website**: URL\n",
    "* **Response**: Boolean stored as string, indicates whether the API response was valid\n",
    "* **Internet Movie Database**: Crowd-sourced audience rating from IMDb out of 10\n",
    "* **Rotten Tomatoes**: Rotten Tomatoes rating from critics \n",
    "* **Metacritic**: Metacritic rating from critics\n",
    "* **totalSeasons**: Number of seasons, if applicable\n",
    "\n",
    "## Reading & Writing Data\n",
    "\n",
    "Before we load any data, we have to import all the libraries we'll use throughout the next few units.\n"
   ]
  },
  {
   "cell_type": "code",
   "execution_count": null,
   "metadata": {},
   "outputs": [],
   "source": [
    "import numpy as np\n",
    "import pandas as pd\n",
    "import matplotlib.pyplot as plt\n",
    "import seaborn as sns"
   ]
  },
  {
   "cell_type": "markdown",
   "metadata": {},
   "source": [
    "Reading and writing data to and from your notebook primarily relies on the format and location of your data. The general syntax is:\n",
    "\n",
    "* **Read:** `pd.read_<format>(<path>)`\n",
    "* **Write:** `pd.to_<format>(<path>)`\n",
    "\n",
    "*Notice how saving your data uses pd.to_<format> and NOT pd.write_.* For the syntax of how to load the most common data types, you can reference ==**this (URL TBD) section**== of our Pandas Cheat Sheet. \n",
    "\n",
    "There are a number of optional parameters you might want or need to use. A quick exaplanation of the most useful ones are:\n",
    "\n",
    "* `sep`: By default, ','\n",
    "You can specify the character that delimits the values so that Pandas can recognize it.\n",
    "* `header`: By default, Pandas infers the headers.\n",
    "If you know there is no header row, you should pass `False` and pass a list of column names to the `names` parameter.\n",
    "* `names`: (see \"header\t\" above)\n",
    "* `index_col`: By default, `None` and Pandas will use a 0-based numerical index for the `Index` labels. If you want to use one (or more) of the columns as the index for axis 0 (the rows), specify them here.\n",
    "* `usecols`: If you want only a subset of columns loaded, indicate which ones here.\n",
    "* `nrows`: By default, Pandas loads the full file. If you want only a subset of the data, you can specify a number of rows to load.\n",
    "\n",
    "#### Loading the OMDb Dataset\n",
    "\n",
    "Since this is our first time looking at it, let's load the OMDb dataset as is. \n"
   ]
  },
  {
   "cell_type": "code",
   "execution_count": null,
   "metadata": {},
   "outputs": [],
   "source": [
    "omdb_orig = pd.read_csv('omdb_5000.csv')\n",
    "movies = omdb_orig.copy()"
   ]
  },
  {
   "cell_type": "markdown",
   "metadata": {},
   "source": [
    "It's also a helpful practice to immediately make a hard copy of the dataset so that, at any time, you can your data to the original dataset. You can make a shallow copy (see below), but it's always better to the `.copy()` method.\n",
    "\n",
    ">> Warning! [SettingWithCopyWarning](https://www.dataquest.io/blog/settingwithcopywarning/) ==<-- **important article to read!!**==\n",
    "\n",
    "## Summarizing Data\n",
    "\n",
    "#### Metadata\n",
    "\n",
    "Typically, the first thing you'll want to do is use the `.info()` method to see a summary of the data in your dataframe. This will tell you things like how many rows there are, what datatype each column Series contains, and how many non-null values are in each column.\n"
   ]
  },
  {
   "cell_type": "code",
   "execution_count": null,
   "metadata": {},
   "outputs": [],
   "source": [
    "movies.info()"
   ]
  },
  {
   "cell_type": "markdown",
   "metadata": {},
   "source": [
    "Sometimes you'll want to grab some of this information individually though. To return all the column names, you can use `.columns`... \n"
   ]
  },
  {
   "cell_type": "code",
   "execution_count": null,
   "metadata": {},
   "outputs": [],
   "source": [
    "movies.columns"
   ]
  },
  {
   "cell_type": "markdown",
   "metadata": {},
   "source": [
    "...and `len(df)` returns the number of rows in a dataframe. For a Series, `len(series)` gives the number of items in the array. Similarly, `.size` and `.shape` give the number of elements in the object and the dimensions of the object. Check these out:\n"
   ]
  },
  {
   "cell_type": "code",
   "execution_count": null,
   "metadata": {},
   "outputs": [],
   "source": [
    "print(\n",
    "'Length:', len(movies), \n",
    "'\\nSize:', movies.size, \n",
    "'\\nShape:', movies.shape\n",
    ")"
   ]
  },
  {
   "cell_type": "markdown",
   "metadata": {},
   "source": [
    "By now, you'll probably want to preview the data itself\n",
    "\n",
    "#### Data Preview\n",
    "\n",
    "`.head(n)` and `.tail(n)` will return the first and last *n* rows of data respectively. If you don't pass in a number, they will both return 5 rows by default.\n"
   ]
  },
  {
   "cell_type": "code",
   "execution_count": null,
   "metadata": {},
   "outputs": [],
   "source": [
    "movies.head() "
   ]
  },
  {
   "cell_type": "markdown",
   "metadata": {},
   "source": []
  },
  {
   "cell_type": "code",
   "execution_count": null,
   "metadata": {},
   "outputs": [],
   "source": [
    "movies.tail(3) "
   ]
  },
  {
   "cell_type": "markdown",
   "metadata": {},
   "source": [
    "\n",
    "In this column, we can see that we have an existing unique ID for each movie - the IMDb ID. Especially because IMDb is the most well-known movie database, we should make `imdbID` the index.\n"
   ]
  },
  {
   "cell_type": "code",
   "execution_count": null,
   "metadata": {},
   "outputs": [],
   "source": [
    "movies.set_index(['imdbID'], inplace=True)\n",
    "movies.head(3)"
   ]
  },
  {
   "cell_type": "markdown",
   "metadata": {},
   "source": [
    "By default, the `drop` parameter in the `.set_index()` function is `True`. As you can see above, `imdbID` no longer exists as a column in the dataframe. It has been converted into an `Index` object.\n",
    "\n",
    "If you ever want to go back to the default numerical `Index` labels, you can use `.reset_index()`. It will simply add the custom `Index` object back to the dataframe as a column Series.\n"
   ]
  },
  {
   "cell_type": "code",
   "execution_count": null,
   "metadata": {},
   "outputs": [],
   "source": [
    "movies.reset_index(inplace=True)\n",
    "movies.tail()"
   ]
  },
  {
   "cell_type": "markdown",
   "metadata": {},
   "source": [
    ">>Warning!\n",
    "\n",
    ">>Be careful with `.reset_index()`. If you accidentally rerun this cell, it will add the generic 0-based index to the dataframe as a *column*.\n",
    "\n",
    "Now, let's set the index back to `imdbID`.\n"
   ]
  },
  {
   "cell_type": "code",
   "execution_count": null,
   "metadata": {},
   "outputs": [],
   "source": [
    "movies.set_index(['imdbID'], inplace=True)"
   ]
  },
  {
   "cell_type": "markdown",
   "metadata": {},
   "source": [
    "\n",
    "## Selecting Data\n",
    "\n",
    "Dataframe columns are the easiest and most flexible pieces of data to select and maneuver...\n",
    "\n",
    "Returns a single column as a Series\n"
   ]
  },
  {
   "cell_type": "code",
   "execution_count": null,
   "metadata": {},
   "outputs": [],
   "source": [
    "print(type(movies['Title']), '\\n')\n",
    "titles = movies['Title']\n",
    "titles"
   ]
  },
  {
   "cell_type": "markdown",
   "metadata": {},
   "source": [
    "\n",
    "Returns multiple columns (in any order) as a new DataFrame\n"
   ]
  },
  {
   "cell_type": "code",
   "execution_count": null,
   "metadata": {},
   "outputs": [],
   "source": [
    "movies[['Title', 'Genre', 'Director', 'Actors']]"
   ]
  },
  {
   "cell_type": "markdown",
   "metadata": {},
   "source": [
    "\n",
    "...For most other pieces of data that you want to select, you will use some variation of `.loc[]` or `.iloc[]`. Before we go into specific examples, it's important to understand the difference between these two functions: \n",
    "\n",
    "* **`.loc[]`** selects and returns data by passing index **LABELS** as arguments\n",
    "* **`.iloc[]`** selects and returns data by passing index **POSITIONS** as arguments\n",
    "\n",
    "### Single Values\n",
    "\n",
    "Select a single value in a Series by its index label\n"
   ]
  },
  {
   "cell_type": "code",
   "execution_count": null,
   "metadata": {},
   "outputs": [],
   "source": [
    "titles.loc['tt0088763']"
   ]
  },
  {
   "cell_type": "markdown",
   "metadata": {},
   "source": [
    "\n",
    "Select a single value in a Series by its index position\n"
   ]
  },
  {
   "cell_type": "code",
   "execution_count": null,
   "metadata": {},
   "outputs": [],
   "source": [
    "titles.iloc[478]"
   ]
  },
  {
   "cell_type": "markdown",
   "metadata": {},
   "source": [
    "\n",
    "\n",
    "\n",
    "\n",
    "\n",
    "* Select a single value in a DataFrame...\n",
    "    * **`df.loc[row_label, col_label]`** -- by row & column index label\n",
    "    * **`df.iloc[row_idx, col_idx]`** -- by row & column index label position\n",
    "\n",
    "\n",
    "#### Single Row\n",
    "\n",
    "Select a single row by its label\n"
   ]
  },
  {
   "cell_type": "code",
   "execution_count": null,
   "metadata": {},
   "outputs": [],
   "source": [
    "movies.loc['tt0088763']"
   ]
  },
  {
   "cell_type": "markdown",
   "metadata": {},
   "source": [
    "\n",
    "Select a single row by its index position\n"
   ]
  },
  {
   "cell_type": "code",
   "execution_count": null,
   "metadata": {},
   "outputs": [],
   "source": [
    "movies.iloc[478]"
   ]
  },
  {
   "cell_type": "markdown",
   "metadata": {},
   "source": [
    "\n",
    "#### Single DataFrame Cell\n",
    "\n",
    "Select a single cell in a DataFrame by row & column labels\n"
   ]
  },
  {
   "cell_type": "code",
   "execution_count": null,
   "metadata": {},
   "outputs": [],
   "source": [
    "movies.loc['tt0088763', 'Year']"
   ]
  },
  {
   "cell_type": "markdown",
   "metadata": {},
   "source": [
    "\n",
    "Select a single cell in a DataFrame by row & column index positions\n"
   ]
  },
  {
   "cell_type": "code",
   "execution_count": null,
   "metadata": {},
   "outputs": [],
   "source": [
    "movies.iloc[478, 1]"
   ]
  },
  {
   "cell_type": "markdown",
   "metadata": {},
   "source": [
    "\n",
    "#### Subset of a Series\n",
    "\n",
    "Returns a subset of a Series by entering a range of labels\n"
   ]
  },
  {
   "cell_type": "code",
   "execution_count": null,
   "metadata": {},
   "outputs": [],
   "source": [
    "titles.loc['tt0088763':'tt0079641']"
   ]
  },
  {
   "cell_type": "markdown",
   "metadata": {},
   "source": [
    "\n",
    "Returns a subset of a Series by entering a range of index positions\n"
   ]
  },
  {
   "cell_type": "code",
   "execution_count": null,
   "metadata": {},
   "outputs": [],
   "source": [
    "titles.iloc[478:500]"
   ]
  },
  {
   "cell_type": "markdown",
   "metadata": {},
   "source": [
    "\n",
    "#### Slice of Rows\n",
    "\n",
    "Returns a *slice* of rows as a new DataFrame by entering a range of labels\n"
   ]
  },
  {
   "cell_type": "code",
   "execution_count": null,
   "metadata": {},
   "outputs": [],
   "source": [
    "movies.loc['tt0088763':'tt0079641']"
   ]
  },
  {
   "cell_type": "markdown",
   "metadata": {},
   "source": [
    "\n",
    "Returns a *slice* of rows as a new DataFrame by entering a range of index positions\n"
   ]
  },
  {
   "cell_type": "code",
   "execution_count": null,
   "metadata": {},
   "outputs": [],
   "source": [
    "movies.iloc[478:500]"
   ]
  },
  {
   "cell_type": "markdown",
   "metadata": {},
   "source": [
    "\n",
    "#### Chunk of a Dataframe\n",
    "\n",
    "* Slice of Rows\n",
    "* Slice of Series values\n",
    "\n",
    "Select a slice of a DataFrame by entering a range of row and column labels\n"
   ]
  },
  {
   "cell_type": "code",
   "execution_count": null,
   "metadata": {},
   "outputs": [],
   "source": [
    "movies.loc['tt0203009':'tt2674426','Title':'Runtime']"
   ]
  },
  {
   "cell_type": "markdown",
   "metadata": {},
   "source": [
    "\n",
    "Select a slice of a DataFrame by entering a range of row and column index positions\n"
   ]
  },
  {
   "cell_type": "code",
   "execution_count": null,
   "metadata": {},
   "outputs": [],
   "source": [
    "movies.iloc[625:631,0:5]"
   ]
  }
 ],
 "metadata": {},
 "nbformat": 4,
 "nbformat_minor": 2
}
