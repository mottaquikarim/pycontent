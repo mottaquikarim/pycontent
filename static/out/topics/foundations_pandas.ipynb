{
 "cells": [
  {
   "cell_type": "markdown",
   "metadata": {},
   "source": [
    "[![Open In Colab](https://colab.research.google.com/assets/colab-badge.svg)](https://colab.research.google.com/github/mottaquikarim/pycontent/blob/master/static/out/topics/foundations_pandas.ipynb)"
   ]
  },
  {
   "cell_type": "markdown",
   "metadata": {},
   "source": [
    "# Foundations of Pandas\n",
    "\n",
    "<img src=\"https://media.giphy.com/media/EatwJZRUIv41G/giphy.gif\" style=\"margin: 0 auto; float: right;\"/>\n",
    "\n",
    "**Pandas** is an open-source Python library of data structures and tools for exploratory data analysis (EDA). Pandas primarily facilitates acquisition, cleaning, formatting, and manipulating. Used in tandem with NumPy, Matplotlib, SciPy, and other Python libraries, Pandas is an integral part of practicing data science. Its core capabilities include: \n",
    "\n",
    "* Robust IO tools to read from flat files (CSV and TXT), JSON, XML, Excel files, SQL tables, and other databases.\n",
    "* Axis reindexing and hierarchical labeling of matrix-like `dataframes`\n",
    "* Data manipulation, by applying `vectorized operations` or by iterating through datasets\n",
    "* Handling duplicates and missing data\n",
    "* Conditional queries for sorting, filtering, & subsetting\n",
    "* Merging & joining datasets\n",
    "* Reshaping, transforming, & pivoting datasets\n",
    "* Basics statistics\n",
    "* Time-series functionality, e.g. date shifting, frequency conversions, & moving window statistics\n",
    "\n",
    "## Importing Data Science Libraries\n",
    "\n",
    "The first thing you have to do start a new analysis is import whichever data science libraries you plan to use. Pandas is built on top of NumPy, so you have to import that separately every time you plan to use pandas. Notice the standard abbreviations used for later references of the libraries.\n"
   ]
  },
  {
   "cell_type": "code",
   "execution_count": null,
   "metadata": {},
   "outputs": [],
   "source": [
    "import numpy as np \n",
    "import pandas as pd\n",
    "import matplotlib.pyplot as plt\n",
    "import seaborn as sns"
   ]
  },
  {
   "cell_type": "markdown",
   "metadata": {},
   "source": [
    "*As a bonus, I've added the notation for importing the other two libraries to be used in this class - matplotlib and seaborn. More to come on these later!*\n",
    "\n",
    "## NumPy ndarray Objects\n",
    "\n",
    "Pandas is built on top of NumPy, so before  new users should first understand one NumPy data object that often appears within Pandas objects - the **ndarray, or N-dimensional array**.\n",
    "\n",
    "`Ndarrays` are deceptively similar to the more general Python `list` type we've been working with. An `ndarray` type is a group of elements, which can be accessed and updated using a zero-based index. Sounds exactly like a `list`, right? \n"
   ]
  },
  {
   "cell_type": "code",
   "execution_count": null,
   "metadata": {},
   "outputs": [],
   "source": [
    "import numpy as np\n",
    "\n",
    "listA = [1, 2, 3]\n",
    "listB = ['a', 'b', 'c']\n",
    "\n",
    "arrayA = np.array([1, 2, 3])\n",
    "print(listA) # [1, 2, 3]\n",
    "print(arrayA) # [1 2 3]\n",
    "\n",
    "listB = ['a', 'b', 'c']\n",
    "arrayB = np.array(listB)\n",
    "print(listB) # ['a', 'b', 'c']\n",
    "print(arrayB) # ['a' 'b' 'c']"
   ]
  },
  {
   "cell_type": "markdown",
   "metadata": {},
   "source": [
    "\n",
    "Wrong. You don't need to get caught up on the syntactical details of ndarrays for this course. However, you should understand the three key differences between ndarrays and lists: \n",
    "\n",
    "### 1) All ndarrays must be homogenous.\n",
    "\n",
    "All elements in an ndarray must be the same data type (e.g. integers, floats, strings, booleans, etc.). If you try to enter data that is not homogenous, the `.array()` function will force unity of data type.\n"
   ]
  },
  {
   "cell_type": "code",
   "execution_count": null,
   "metadata": {},
   "outputs": [],
   "source": [
    "import numpy as np\n",
    "\n",
    "bad_array1 = np.array([1, 'b', True])\n",
    "print(bad_array1) # ['1', 'b', 'True']\n",
    "\n",
    "bad_array2 = np.array([1, False])\n",
    "print(bad_array2) # [1 0]"
   ]
  },
  {
   "cell_type": "markdown",
   "metadata": {},
   "source": [
    "\n",
    "### 2) An ndarray can have multiple dimensions.\n",
    "\n",
    "<img src=\"../images/ndarray_axes.png\" style=\"margin: 0 auto; display: block;\"/>\n",
    "\n",
    "ndarrays have a parameter called `ndmin`, which allows you to specify the number of dimensions you want for your array when you create it. Each dimension prints on its own line, so the ndarray looks more like a *grid* than a single list. Having n-dimensions also means that when you reference ndarray values by index, you need to use multiple index positions.\n",
    "\n",
    "**2-D array: 3x3**\n"
   ]
  },
  {
   "cell_type": "code",
   "execution_count": null,
   "metadata": {},
   "outputs": [],
   "source": [
    "dim1 = np.array([1, 2, 3]) \n",
    "dim2 = np.array([4, 5, 6])\n",
    "dim3 = np.array([7, 8, 9])\n",
    "\n",
    "arrayC = np.array((dim1, dim2, dim3))\n",
    "print(arrayC) \n",
    "\"\"\"\n",
    "[[1 2 3]\n",
    " [4 5 6]\n",
    " [7 8 9]]\n",
    "\"\"\""
   ]
  },
  {
   "cell_type": "markdown",
   "metadata": {},
   "source": [
    "\n",
    "**3-D array: 2x3x3**\n"
   ]
  },
  {
   "cell_type": "code",
   "execution_count": null,
   "metadata": {},
   "outputs": [],
   "source": [
    "arrayD = np.array((([1, 2, 3], [4, 5, 6], [7, 8, 9]), ([1, 2, 3], [4, 5, 6], [7, 8, 9])), ndmin = 3)\n",
    "print(arrayD)\n",
    "\"\"\"\n",
    "[[[1 2 3]\n",
    "  [4 5 6]\n",
    "  [7 8 9]]\n",
    "\n",
    " [[1 2 3]\n",
    "  [4 5 6]\n",
    "  [7 8 9]]]\n",
    "\"\"\""
   ]
  },
  {
   "cell_type": "markdown",
   "metadata": {},
   "source": [
    "\n",
    "### 3) ndarrays are designed to handle `vectorized` operations\n",
    "\n",
    "In other words, if you apply a function to an ndarray object, the program will perform said function on *each* item in the array individually. Depending on the operand, if you apply a function to a list, either the function will be performed on the list object *as a whole* or you will get a TypeError. As a bonus, these vectorization capabilities also allow ndarrays take up less memory space and run faster.\n"
   ]
  },
  {
   "cell_type": "code",
   "execution_count": null,
   "metadata": {},
   "outputs": [],
   "source": [
    "list1 = [3, 5, 7]\n",
    "array1 = np.array([3, 5, 7])\n",
    "\n",
    "print(list1 * 10) # [3, 5, 7, 3, 5, 7, 3, 5, 7, 3, 5, 7, 3, 5, 7, 3, 5, 7, 3, 5, 7, 3,5, 7, 3, 5, 7, 3, 5, 7]\n",
    "print(array1 * 10) # [30 50 70]\n",
    "\n",
    "# print(list1 + 1) # TypeError\n",
    "print(array1 + 1) # [4 6 8]"
   ]
  },
  {
   "cell_type": "markdown",
   "metadata": {},
   "source": [
    "## Pandas Series Objects\n",
    "\n",
    "A **Series** object from the Pandas library is a 1-D ndarray that has been streamlined for data processing.\n",
    "\n",
    "* All the values in a Series must homogenous.\n",
    "* A Series is always 1-D.\n",
    "* Series support vectorized operations\n",
    "* By default, the `index` parameter assigns an zero-based index. Alternatively, you can assign custom index labels to a Series. On this front, you can think of a Series kind of like a dict.\n",
    "\n",
    "The general syntax for creating a Series is `s = pd.Series(data, index, dtype)`. Using this syntax, you can instantiate a Series from a single scalar or boolean value, a list, an ndarray, or a dict.\n",
    "\n",
    "**Series from a single scalar/boolean value, using a custom index**\n"
   ]
  },
  {
   "cell_type": "code",
   "execution_count": null,
   "metadata": {},
   "outputs": [],
   "source": [
    "\n",
    "s_scalar = pd.Series(1, index=['a', 'b', 'c', 'd', 'e'])\n",
    "ubstitute \n",
    "s_boolean = pd.Series(False, index=['a', 'b', 'c', 'd', 'e'])\n",
    "\n",
    "print(s_scalar)\n",
    "print(s_boolean)"
   ]
  },
  {
   "cell_type": "markdown",
   "metadata": {},
   "source": [
    "\n",
    "**Series from a list, using default indexing**\n"
   ]
  },
  {
   "cell_type": "code",
   "execution_count": null,
   "metadata": {},
   "outputs": [],
   "source": [
    "s_list = pd.Series(['red','orange','yellow','green','blue','purple'])\n",
    "print(s_list)"
   ]
  },
  {
   "cell_type": "markdown",
   "metadata": {},
   "source": [
    "\n",
    "**Series from an ndarray, using default indexing**\n"
   ]
  },
  {
   "cell_type": "code",
   "execution_count": null,
   "metadata": {},
   "outputs": [],
   "source": [
    "s_ndarray = pd.Series(np.ndarray(['red', 'orange' 'yellow','green','blue','purple']))\n",
    "print(s_ndarray)"
   ]
  },
  {
   "cell_type": "markdown",
   "metadata": {},
   "source": [
    "\n",
    "**Series from a dict, using implicit custom index**\n"
   ]
  },
  {
   "cell_type": "code",
   "execution_count": null,
   "metadata": {},
   "outputs": [],
   "source": [
    "my_dict = {'c': 15, 'B': 20, 'a': 10}\n",
    "s_dict = pd.Series(my_dict)\n",
    "print(s_dict)"
   ]
  },
  {
   "cell_type": "markdown",
   "metadata": {},
   "source": [
    "\n",
    "## Pandas DataFrame Objects\n",
    "\n",
    "<img src=\"../images/df_components.png\" style=\"margin: 0 auto; display: block;\"/>\n",
    "\n",
    "A **DataFrame** is a 2-D ndarray that has been streamlined for data processing. It's like a more dynamic spreadsheet. It accepts many different data types as values, including strings, arrays (lists), dicts, Series, and even other dataframes. Most of the time, you'll create a dataframe indirectly in one of two ways. First, you could import data from a file or database. Alternatively, you could manipulate an existing dataframe and store that new version in its own variable. \n",
    "\n",
    "The syntx for creating a dataframe manually is `df = pd.DataFrame(data, index, columns)`. This is syntactically similar to creating a series, with two notable differences. First, there is no `dtype` parameter for a dataframe, since each column could contain data of a different type. Second, a series is 1-D, so it only needs an index for axis 0. Since a dataframe is 2-D, it includes another parameter called `columns` for labeling axis 1.\n",
    "\n",
    "Constructing a DataFrame manually is a little more complex because you have to ensure the values for the rows and columns align correctly. The examples below illustrate multiple different ways to create the same dataframe. \n",
    "\n",
    "1) Specify column labels directly within the `data` parameter by passing in a **dict of lists and/or ndarrays**. \n",
    "\n"
   ]
  },
  {
   "cell_type": "code",
   "execution_count": null,
   "metadata": {},
   "outputs": [],
   "source": [
    "d1 = {\n",
    "'a': [4, 5, 6], \n",
    "'b': np.array([7, 8, 9]), \n",
    "'c': [10, 11, 12]}\n",
    "\n",
    "df1 = pd.DataFrame(data = d1, index = ['foo', 'bar', 'baz'])\n",
    "df1"
   ]
  },
  {
   "cell_type": "markdown",
   "metadata": {},
   "source": [
    "\n",
    "2) Specify both the index AND column labels directly within the `data` parameter by passing in a **dict of Series**. \n"
   ]
  },
  {
   "cell_type": "code",
   "execution_count": null,
   "metadata": {},
   "outputs": [],
   "source": [
    "d2 = {\n",
    "'a': pd.Series([4, 5, 6,], index = ['foo', 'bar', 'baz']), \n",
    "'b': pd.Series([7, 8, 9], index = ['foo', 'bar', 'baz']), \n",
    "'c': pd.Series([10, 11, 12], index = ['foo', 'bar', 'baz'])}\n",
    "\n",
    "df2 = pd.DataFrame(data = d2)\n",
    "df2"
   ]
  },
  {
   "cell_type": "markdown",
   "metadata": {},
   "source": [
    "\n",
    "3) Specify the values in the `data` parameter in the form of a 2-D ndarray. Then separately specify the index and column labels in their corresponding parameters.\n"
   ]
  },
  {
   "cell_type": "code",
   "execution_count": null,
   "metadata": {},
   "outputs": [],
   "source": [
    "df3 = pd.DataFrame(\n",
    "[[4, 7, 10],\n",
    "[5, 8, 11],\n",
    "[6, 9, 12]],\n",
    "index=['foo', 'bar', 'baz'],\n",
    "columns=['a', 'b', 'c'])\n",
    "\n",
    "df3"
   ]
  },
  {
   "cell_type": "markdown",
   "metadata": {},
   "source": [
    "\n",
    "## Pandas Index Objects\n",
    "\n",
    "Pandas considers an `Index` to be its own object class. In the Pandas docs, an `Index` object is formally defined as an \"immutable ndarray implementing an ordered, sliceable set\". As we just saw, the main purpose of a Pandas `Index` object is to store the labels for each axis in a `Series` or `Dataframe`. The values *do NOT have to be unique*. However, to avoid ambuity in your data structure, you should always use unique values when creating a custom index.\n",
    "\n",
    "We learned about the concept of **index positioning** back in the unit on regular Python `lists`. To access a specific item in a regular Python `list`, you reference its numerical position in the list. In a Pandas Series, you can access each item by referencing its `Index` label OR its numerical index position. The same goes for accessing the rows of a dataframe. The scenario below explains the functional difference index positioning and `Index` labels.\n",
    "\n",
    "Here's a Series containing names of people:\n",
    "\n",
    "|                  | Brandi| Zoe | Sasha | Aleksander | Olaf  |\n",
    "|:----------------:|:-----:|:---:|:-----:|:----------:|:-----:|\n",
    "|   Index label    |  0    |   1 |   2   |      3     |   4   |\n",
    "| *index position* |  0    |   1 |   2   |      3     |   4   |\n",
    "\n",
    "Now, let's say you alphabetize the Series by sorting the values. The index position doesn't change, but the `Index` labels follow their corresponding values.\n",
    "\n",
    "|                  | Aleksander | Brandi | Olaf | Sasha  |  Zoe  |\n",
    "|:----------------:|:----------:|:------:|:----:|:------:|:-----:|\n",
    "|   Index Label    |  3         |   0    |   4  |    2   |   1   |\n",
    "| *index position* |  0         |   1    |   2  |    3   |   4   |"
   ]
  }
 ],
 "metadata": {},
 "nbformat": 4,
 "nbformat_minor": 2
}
