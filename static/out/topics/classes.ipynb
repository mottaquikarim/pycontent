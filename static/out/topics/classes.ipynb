{
 "cells": [
  {
   "cell_type": "markdown",
   "metadata": {},
   "source": [
    "[![Open In Colab](https://colab.research.google.com/assets/colab-badge.svg)](https://colab.research.google.com/github/mottaquikarim/pycontent/blob/master/static/out/topics/classes.ipynb)"
   ]
  },
  {
   "cell_type": "markdown",
   "metadata": {},
   "source": [
    "<!---\n",
    "{\"next\":\"Topics/data_science.md\",\"title\":\"Classes\"}\n",
    "-->\n",
    "\n",
    "# Classes & Inheritance\n",
    "\n",
    "We already know that Python is based on the concept of **OOP, or Object-Oriented Programming**. Almost everything in Python is an object -- even functions are objects! **Classes**, and their facilitation of **inheritance**, are one of the most important and valuable Python objects. In this section, we'll cover:\n",
    "\n",
    "* Class structure\n",
    "* Class attributes\n",
    "* Class methods\n",
    "* The `__init__()` method\n",
    "* The `self` keyword\n",
    "* Class vs. instance variables\n",
    "* Class instantiation\n",
    "* Inheritance and child classes\n",
    "\n",
    "## High-Level Overview\n",
    "\n",
    "#### Creating & Structuring Classes\n",
    "A **class** is essentially a data structure that serves as a blueprint for categorizing other objects and storing metadata about them. Once you have your \"blueprint\", you can create new **instances** of that class, which store unique metadata values. \n",
    "\n",
    "Creating a class is similar to defining a function. You start with the `class` keyword and then specify a name for the class. Note that class names are generally the only objects, which use a **CamelCase notation** naming convention. For example, if you were a zoologist, you might create a class called `Animal`. Each instance might represent a type of animal at your zoo.\n"
   ]
  },
  {
   "cell_type": "code",
   "execution_count": null,
   "metadata": {},
   "outputs": [],
   "source": [
    "# Define a class called Animal\n",
    "class Animal:\n",
    "    # attributes\n",
    "    # methods\n",
    "    # etc ...\n",
    "\n",
    "# Create the most basic instance\n",
    "chameleons = Animal()"
   ]
  },
  {
   "cell_type": "markdown",
   "metadata": {},
   "source": [
    "\n",
    "Before we go into the details of thoroughly defining a class, let's isolate some basic elements and concepts to get a general understanding of them.\n",
    "\n",
    "#### Attributes & Methods\n",
    "Each piece of a class's metadata is called an **attribute**. Once you have your \"blueprint\", you can create new **instances** of that class, which stores unique attribute values. As a zoologist, you would want define your `Animals` class so that it could store attributes of each type animal at your zoo such as species, natural habitat, etc..\n"
   ]
  },
  {
   "cell_type": "code",
   "execution_count": null,
   "metadata": {},
   "outputs": [],
   "source": [
    "class Animal:\n",
    "    kingdom = 'Animalia' # attribute\n",
    "    \n",
    "    # some other code..."
   ]
  },
  {
   "cell_type": "markdown",
   "metadata": {},
   "source": [
    "\n",
    "In addition to attributes, classes also contain custom **methods**. Methods are essentially functions that belong to the class. You can call a function without referencing any other object, but to call a method, you need to reference its class. *Thus, all methods are functions, but not all functions are methods.* We've already used some `List` methods like `my_list.pop()`, `my_list.append()`, `my.list.insert(index)`, etc.. When you create a class, you can define methods to serve as shortcuts for actions you might want to call frequently on instances of your class. \n"
   ]
  },
  {
   "cell_type": "code",
   "execution_count": null,
   "metadata": {},
   "outputs": [],
   "source": [
    "class Animal:\n",
    "    # some other code...\n",
    "\n",
    "    def method1(self): # method\n",
    "        # some action"
   ]
  },
  {
   "cell_type": "markdown",
   "metadata": {},
   "source": [
    "\n",
    "Once you've defined attributes and methods, here's how you call them on your class instance:\n"
   ]
  },
  {
   "cell_type": "code",
   "execution_count": null,
   "metadata": {},
   "outputs": [],
   "source": [
    "chameleons = Animal() # Create the instance.\n",
    "\n",
    "print(chameleons.kingdom) # 'Animalia'\n",
    "\n",
    "chameleons.method1() # This completes the defined method operations."
   ]
  },
  {
   "cell_type": "markdown",
   "metadata": {},
   "source": [
    "\n",
    "#### Inheritance Basics\n",
    "\n",
    "Classes can inherit attributes and methods from other classes according to a parent-child class hierarchy. Naturally, a **child class** inherits from a **parent class**. When you define a brand new class, Python 3 implicitly uses the generic, built-in `object` as the parent class. That means, whether we explicitly see it or not, every parent class is also the child class of its own parent class!\n",
    "\n",
    "In the context of our zoo example, the different instances of `Animal` each store general information about a certain type of animal. Imagine you want to expand on an instance of `Animal` called `elephants`. In order to document information about each elephant at the zoo, you might create an `Elephant` class that inherits from your `Animal` class. To do so, you use this general syntax:\n"
   ]
  },
  {
   "cell_type": "code",
   "execution_count": null,
   "metadata": {},
   "outputs": [],
   "source": [
    "class Elephant(Animal):\n",
    "    # attributes\n",
    "    # methods\n",
    "    # etc ..."
   ]
  },
  {
   "cell_type": "markdown",
   "metadata": {},
   "source": [
    "\n",
    "Although the child class has access to everything defined for its parent class, the child class can also override or extend the parent class's traits and behavior. Note that this *does NOT redefine the parent class*. The new attributes and methods the child class declares apply only to instances of the child class. Parent class instances still adhere to the original parent class specs. For example:\n"
   ]
  },
  {
   "cell_type": "code",
   "execution_count": null,
   "metadata": {},
   "outputs": [],
   "source": [
    "class Animal:\n",
    "    category = 'Animals'\n",
    "    # etc ...\n",
    "\n",
    "class Toucan(Animal):\n",
    "    category = 'Birds'\n",
    "    # etc ..."
   ]
  },
  {
   "cell_type": "markdown",
   "metadata": {},
   "source": [
    "\n",
    "If you wanted, the `Toucan` class could simply inherit the `category` class attribute from its parent class `Animal`. In this case, every instance of `Toucan` would  would have the same value for `category` -- `Animals`. However, it makes sense that you'd want to differentiate further for the child class `Toucan`. To do that, you'd simply override `category` when you define `Toucan` by setting its value to `Birds`.\n",
    "\n",
    "#### The __init__() Method & the self Keyword\n",
    "\n",
    "When you create a new instance of your Class, you might want to it to exist in some default state. For example, you might want to initially assign default values for its attributes. In Python terms - *when you **instantiate** a new instance object, you **initialize** it with pre-defined default values*.\n",
    "\n",
    "**The __init__() method** is where you give instructions for how you want each instance to exist in its initial state. Every time you instantiate a new instance object of your Class, you automatically invoke the `__init__()` method. That means when you create a new Class, the first thing you want to do is create its `__init__()` method. In general, the syntax looks like this:\n"
   ]
  },
  {
   "cell_type": "code",
   "execution_count": null,
   "metadata": {},
   "outputs": [],
   "source": [
    "class Animal():\n",
    "    def __init__(self):\n",
    "        # ..."
   ]
  },
  {
   "cell_type": "markdown",
   "metadata": {},
   "source": [
    "\n",
    "Notice we used the same notation as we did for defining functions. The `__init__()` method must have at least one argument, including the **self variable**. The `self` variable serves as a reference to the *current instance of the class*, and it must be the first parameter of *any* method in a class, including the `__init__()` method.\n",
    "\n",
    "## Class vs. Instance Variables\n",
    "\n",
    "Now we can get to the good stuff! As you define attributes and methods for your class, keep in mind their *scope*. If you want a certain attribute or method to be shared by ALL instances of a class, define it as a **class variable**. If you instead want it to be unique to each instance, define it as an **instance variable**. Before we see this in context, we first have to understand the two most basic elements of every Python class...\n",
    "\n",
    "#### The __init__() Method & the self Keyword\n",
    "\n",
    "When you create a new instance of your Class, you might want to it to exist in some default state. For example, you might want to initially assign default values for its attributes. In Python terms - *when you **instantiate** a new instance object, you **initialize** it with pre-defined default values*.\n",
    "\n",
    "**The __init__() method** is where you give instructions for how you want each instance to exist in its initial state. Every time you instantiate a new instance object of your Class, you automatically invoke the `__init__()` method. That means when you create a new Class, the first thing you want to do is create its `__init__()` method. In general, the syntax looks like this:\n"
   ]
  },
  {
   "cell_type": "code",
   "execution_count": null,
   "metadata": {},
   "outputs": [],
   "source": [
    "class Animal():\n",
    "    def __init__(self):\n",
    "        # ..."
   ]
  },
  {
   "cell_type": "markdown",
   "metadata": {},
   "source": [
    "\n",
    "Notice we used the same notation as we did for defining functions. The `__init__()` method must have at least one argument, including the **self variable**. The `self` variable serves as a reference to the *current instance of the class*, and it must be the first parameter of *any* method in a class, including the `__init__()` method.\n",
    "\n",
    "**NOTE!** Any methods defined inside the `__init__()` method **will NOT be _called_** upon instantiation.\n",
    "\n",
    "## Class Definition Example 1 - Basic Elements in Context\n",
    "Now that we've isolated each key component of classes, let's put everything together by completing the code for our zoology scenario. At the highest level, we define a class called `Animal`. The annotated code below illustrates how each key structural element we covered above fits into this task.\n"
   ]
  },
  {
   "cell_type": "code",
   "execution_count": null,
   "metadata": {},
   "outputs": [],
   "source": [
    "class Animal: # A.\n",
    "    def __init__(self, species = '', diet= ''): # B. \n",
    "        self.species = species # C.\n",
    "        self.diet = diet # C.\n",
    "\n",
    "    kingdom = 'Animalia' # D.\n",
    "\n",
    "    def my_kingdom(self):\n",
    "        print(self.kingdom)\n",
    "\n",
    "    def feed_me(self): # E.\n",
    "        if self.diet == 'omnivore':\n",
    "            food = 'plants and meat'\n",
    "        elif self.diet == 'carnivore':\n",
    "            food = 'meat'\n",
    "        elif self.diet == 'herbivore':\n",
    "            food = 'plants'\n",
    "        print(f'{self.species} eat {food}!')\n",
    "        return None"
   ]
  },
  {
   "cell_type": "markdown",
   "metadata": {},
   "source": [
    "\n",
    "A. `Animal` is a *child class* of `object` as well as a potential *parent class*.\n",
    "B. Every time we instantiate a new class object, the `__init__()` method will automatically be called to initialize the instance's values.\n",
    "C. Each instance of the `Animal` class will store unique values for the **instance attributes** `species` and `diet`. By default these will be blank or Nonetypes, but each instance can have its own unique values for them.\n",
    "D. ALL instances of the Animal class will have the `kingdom` **class attribute** with the value `Animalia`.\n",
    "E. We can call **instance methods** `my_kingdom` and `feed_me` on ANY instance of the `Animal` class. **Note!** In `my_kingdom`, we access the class variable `kingdom`, but still reference it using `self`.\n",
    "\n",
    "## Class Definition Example 2 - Child Classes & Inheritance\n",
    "\n",
    "Let's go into some more detail with a new child class for `Animal`. In the `Elephant` class below, we define `__init__()` method and its parameters, class attributes, and instance methods with the same syntax used for any class we might create. There are a few key differences annotated in the comments below.\n"
   ]
  },
  {
   "cell_type": "code",
   "execution_count": null,
   "metadata": {},
   "outputs": [],
   "source": [
    "class Elephant(Animal): # A.\n",
    "    def __init__(self, name, genus = '', species = '', habitat = '', age = None): # B.\n",
    "        self.name = name\n",
    "        self.genus = genus\n",
    "        self.species = species\n",
    "        self.habitat = habitat\n",
    "        self.age = age\n",
    "        self.taxonomy = {'Kingdom': Animal.kingdom, 'Class': self.common_taxonomy['Class'], 'Family': self.common_taxonomy['Family'], 'Genus': self.genus, 'Species': self.species} # C.\n",
    "\n",
    "    diet = 'Herbivore' # D.\n",
    "\n",
    "    common_taxonomy = {\n",
    "    'Class': 'Mammalia',\n",
    "    'Family': 'Elephantidae',\n",
    "    }\n",
    "\n",
    "    def summary(self):\n",
    "      print(f'All about {self.name} -')\n",
    "      print(f'Elephant, age {self.age}\\nHabitat: {self.habitat}\\nDiet: {self.diet}\\n\\nTaxonomy:')\n",
    "      for k,v in self.taxonomy.items():\n",
    "        print(f'{k}: {v}')"
   ]
  },
  {
   "cell_type": "markdown",
   "metadata": {},
   "source": [
    "\n",
    "A. Declares `Elephant` as a *child class* of `Animal` by adding `Animal` into it as a definition parameter.\n",
    "\n",
    "B. Notice that even though `taxonomy` is not a parameter for the `__init__()` method, we can still define it as an instance attribute upon every instantiation.\n",
    "\n",
    "C. If you look closely, you'll see that the values for `taxonomy` all come from different places.\n",
    "\n",
    "* Some of the taxonomy attributes are inherited from `Animal`; while\n",
    "* some are constant class attributes across all elephants; and \n",
    "* others are instance attributes unique to each elephant at the zoo.\n",
    "\n",
    "This is a great opportunity to dissect the syntax for referencing attributes from different sources.\n",
    "\n",
    "D. Here's a potential \"gotcha\". Remember that the `Animal` class also had an attribute called `diet`? `Elephant` does NOT inherit the `diet` attribute's value from `Animal`. Why? Two reasons:\n",
    "\n",
    "* First, `Elephant` defines `diet` as a class attribute for itself. This would supercede any variable called `diet` from the parent class.\n",
    "* Second, for `Animal`, `diet` is an instance attribute. Even if `Elephant` didn't define any type of attribute called `diet` for itself, a child class *never inherits the instance attributes* from their its parent.\n",
    "\n",
    "#### Class Instantiation & Modification\n",
    "Now we'll create the first instance of the `Elephant` class. To do so, you would pass arguments for the `__init__()` parameters defined above. This automatically invokes the `__init__()` method and assigns the values of the arguments you passed to your new instance attributes. Note that the `name` argument is required, but the rest are optional. Their values will default to empty strings if no argument for them is passed.\n"
   ]
  },
  {
   "cell_type": "code",
   "execution_count": null,
   "metadata": {},
   "outputs": [],
   "source": [
    "elephant1 = Elephant('Felicia', 'Elephas', 'Elephas maximus', '', 38)\n",
    "# Notice we passed the default empty string for the habitat argument."
   ]
  },
  {
   "cell_type": "markdown",
   "metadata": {},
   "source": [
    "\n",
    "You can access or modify any *instance* attribute like so:\n"
   ]
  },
  {
   "cell_type": "code",
   "execution_count": null,
   "metadata": {},
   "outputs": [],
   "source": [
    "# Access\n",
    "print(elephant1.name) # Felicia\n",
    "\n",
    "\n",
    "# Add value for an empty attribute\n",
    "print(elephant1.habitat) # empty string by default\n",
    "elephant1.habitat = 'Asian forests'\n",
    "\n",
    "\n",
    "# Update an existing attribute value\n",
    "print(elephant1.age) # 38\n",
    "elephant1.age = 39 # Update the value of the age attribute.\n",
    "print(elephant1.age) # 39\n",
    "\n",
    "# Define a new instance attribute, which will apply only to elephant1.\n",
    "elephant1.weight_pounds = 6000"
   ]
  },
  {
   "cell_type": "markdown",
   "metadata": {},
   "source": [
    "\n",
    "Finally, here's what happens when we call the `summary()` instance method:\n"
   ]
  },
  {
   "cell_type": "code",
   "execution_count": null,
   "metadata": {},
   "outputs": [],
   "source": [
    "elephant1.summary()\n",
    "\n",
    "# Here's the output\n",
    "\"\"\"\n",
    "All about Felicia -\n",
    "Elephant, age 38\n",
    "Habitat: Asian forests\n",
    "Diet: Herbivore\n",
    "\n",
    "Taxonomy:\n",
    "Kingdom: Animalia\n",
    "Class: Mammalia\n",
    "Family: Elephantidae\n",
    "Genus: Elephas\n",
    "Species: Elephas maximus\n",
    "\"\"\""
   ]
  },
  {
   "cell_type": "markdown",
   "metadata": {},
   "source": [
    "\n",
    "#### Checking Class Values\n",
    "\n",
    "In case someone who is not an expert zoologist like you needs to access the zoo's database of animals, that person could use the `isinstance()` function is used to determine if an instance is also an instance of a certain parent class. For this example, imagine you have already also defined another class called `Toucan` with the same input variables as our `Elephant` class.\n"
   ]
  },
  {
   "cell_type": "code",
   "execution_count": null,
   "metadata": {},
   "outputs": [],
   "source": [
    "# Is elephant1 an instance of Animal()?\n",
    "print(isinstance(elephant1, Animal)) # True\n",
    "\n",
    "# Is toucan1 an instance of Elephant()?\n",
    "print(isinstance(toucan1, Elephant)) # False"
   ]
  },
  {
   "cell_type": "markdown",
   "metadata": {},
   "source": [
    "\n",
    "## Review of Classes & Inheritance\n",
    "* A **class** outlines a set of **attributes** and **methods**, which will help categorize other objects.\n",
    "* To add objects to the class, you declare them as an **instance** of that class.\n",
    "* **Class variables** store values belonging to ALL instances of a class, whereas **instance variables** store values unique to each instance. \n",
    "* **The __init__() method** is where you give instructions for how you want each instance to exist in its initial state. Every time you instantiate a new instance object of your Class, you automatically invoke the `__init__()` method.\n",
    "* The **self variable** serves as a reference to the current instance of the class, and it must be the first parameter of *any* method in a class, including the `__init__()` method.\n",
    "* **Child classes** can inherit attributes and methods from **parent classes**. \n",
    "* **Child classes** can also override parent attributes and behaviors without redefining the parent class.\n",
    "\n",
    "## Practice Problems\n"
   ]
  }
 ],
 "metadata": {},
 "nbformat": 4,
 "nbformat_minor": 2
}
