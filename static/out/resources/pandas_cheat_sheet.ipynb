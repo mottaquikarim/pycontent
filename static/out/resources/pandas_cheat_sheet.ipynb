{
 "cells": [
  {
   "cell_type": "markdown",
   "metadata": {},
   "source": [
    "[![Open In Colab](https://colab.research.google.com/assets/colab-badge.svg)](https://colab.research.google.com/github/mottaquikarim/pycontent/blob/master/static/out/resources/pandas_cheat_sheet.ipynb)"
   ]
  },
  {
   "cell_type": "markdown",
   "metadata": {},
   "source": [
    "# Pandas Cheat Sheet - 👷‍♀️🚧 UNDER CONSTRUCTION 🚧👷‍♀️\n",
    "\n",
    "<img src=\"https://news.nationalgeographic.com/content/dam/news/2015/12/15/pandas/01pandainsemination.ngsversion.1450209600474.adapt.1900.1.jpg\" style=\"margin: 0 auto; width: 50%; display: block;\"/>\n",
    "\n",
    "## Reading & Writing Data\n",
    "\n",
    "* **`pd.read_csv(<file_path>)`** -- From a CSV file\n",
    "* **`pd.read_table(<file_path>)`** -- From a delimited text file (like TSV)\n",
    "* **`pd.read_excel(<file_path>)`** -- From an Excel file\n",
    "* **`pd.read_sql(query, connection_object)`** -- Reads from a SQL table/database\n",
    "* **`pd.read_json(json_string)`** -- Reads from a JSON formatted string, URL or file.\n",
    "* **`pd.read_html(url)`** -- Parses an html URL, string or file and extracts tables to a list of dataframes\n",
    "* **`df.to_csv(<file_path>)`** -- Writes to a CSV file\n",
    "* **`df.to_excel(<file_path>)`** -- Writes to an Excel file\n",
    "* **`df.to_sql(table_name, connection_object)`** -- Writes to a SQL table\n",
    "* **`df.to_json(<file_path>)`** -- Writes to a file in JSON format\n",
    "* **`df.to_html(<file_path>)`** -- Saves as an HTML table\n",
    "\n",
    "## Selecting Data\n",
    "\n",
    "* **`df[col]`** -- returns one column as a Series\n",
    "* **`df[[col_label, col2]]`** -- returns multiple columns (in any order) as a new DataFrame\n",
    "* Select a single item (i.e. a value from a Series or a row from a Dataframe)...\n",
    "    * **`obj.loc[idx_label]`** -- by its index label\n",
    "    * **`obj.iloc[idx]`** -- by its index position\n",
    "* Select a single value in a DataFrame...\n",
    "    * **`df.loc[row_label, col_label]`** -- by row & column index label\n",
    "    * **`df.iloc[row_idx, col_idx]`** -- by row & column index label position\n",
    "* Returns a slice of rows as a new DataFrame by entering a range of...\n",
    "    * **`df.loc[row_start : row_end]`** -- index labels\n",
    "    * **`df.iloc[row_start : row_end]`** -- index positions\n",
    "* Select a slice of a DataFrame by entering a range of row and column...\n",
    "    * **`df.loc[row_start : row_end , col_start : col_end]`** -- index labels\n",
    "    * **`df.iloc[row_start : row_end , col_start : col_end]`** -- index positions\n",
    "\n",
    "\n",
    "## Data Wrangling\n",
    "\n",
    "## Basic Stats\n",
    "\n",
    "## Organizating Data"
   ]
  }
 ],
 "metadata": {},
 "nbformat": 4,
 "nbformat_minor": 2
}
