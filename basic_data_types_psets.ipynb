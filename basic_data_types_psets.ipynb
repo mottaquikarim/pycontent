{
  "nbformat": 4,
  "nbformat_minor": 0,
  "metadata": {
    "colab": {
      "name": "basic_data_types_psets.ipynb",
      "provenance": [],
      "collapsed_sections": [
        "uayAR97cWGX1",
        "0o8YPHxoVrWL",
        "poqjlnEOVrWh",
        "pRORE6K8VrWy"
      ],
      "include_colab_link": true
    }
  },
  "cells": [
    {
      "cell_type": "markdown",
      "metadata": {
        "id": "view-in-github",
        "colab_type": "text"
      },
      "source": [
        "<a href=\"https://colab.research.google.com/github/mottaquikarim/pycontent/blob/master/basic_data_types_psets.ipynb\" target=\"_parent\"><img src=\"https://colab.research.google.com/assets/colab-badge.svg\" alt=\"Open In Colab\"/></a>"
      ]
    },
    {
      "cell_type": "markdown",
      "metadata": {
        "id": "9Cr4rWc9VrV5",
        "colab_type": "text"
      },
      "source": [
        "<a href=\"https://colab.research.google.com/github/mottaquikarim/PYTH2/blob/master/src/PSETS/nb/basic_data_types_psets.ipynb\" target=\"_parent\"><img src=\"https://colab.research.google.com/assets/colab-badge.svg\" alt=\"Open In Colab\"/></a>"
      ]
    },
    {
      "cell_type": "markdown",
      "metadata": {
        "id": "hFmxhgDQVrV8",
        "colab_type": "text"
      },
      "source": [
        "#  BASIC DATA TYPES\n",
        "\n"
      ]
    },
    {
      "cell_type": "markdown",
      "metadata": {
        "id": "uayAR97cWGX1",
        "colab_type": "text"
      },
      "source": [
        "## BASICS"
      ]
    },
    {
      "cell_type": "markdown",
      "metadata": {
        "id": "CXt8F7evWHum",
        "colab_type": "text"
      },
      "source": [
        "### P1.PY"
      ]
    },
    {
      "cell_type": "code",
      "metadata": {
        "id": "gYyR5LKAVrWA",
        "colab_type": "code",
        "colab": {}
      },
      "source": [
        "\"\"\"\n",
        "Placeholders\n",
        "\"\"\"\n",
        "\n",
        "# You're writing a program, and you don't know what your starting value for your 'initial' variable is yet. The program won't run if you leave it blank, but you don't want to forget you need it! Make a workaround.\n",
        "\n"
      ],
      "execution_count": 0,
      "outputs": []
    },
    {
      "cell_type": "markdown",
      "metadata": {
        "id": "ujd4_d5VVrWD",
        "colab_type": "text"
      },
      "source": [
        "\n",
        "\n",
        "### P2.PY\n",
        "\n",
        "\n"
      ]
    },
    {
      "cell_type": "code",
      "metadata": {
        "id": "9p_mg-MjVrWE",
        "colab_type": "code",
        "colab": {}
      },
      "source": [
        "\"\"\"\n",
        "Basic Variables\n",
        "\"\"\"\n",
        "\n",
        "# Create a variable that represents your favorite number, and add a note to remind yourself what this variable represents. Now print it out without re-typing the number.\n",
        "\n",
        "\n",
        "\n",
        "# Create another variable that represents your favorite color, and do the same steps as above.\n",
        "\n"
      ],
      "execution_count": 0,
      "outputs": []
    },
    {
      "cell_type": "markdown",
      "metadata": {
        "id": "VbaMGAAYVrWH",
        "colab_type": "text"
      },
      "source": [
        "\n",
        "\n",
        "### P3.PY\n",
        "\n",
        "\n"
      ]
    },
    {
      "cell_type": "code",
      "metadata": {
        "id": "2i4mFvLGVrWI",
        "colab_type": "code",
        "colab": {}
      },
      "source": [
        "\"\"\"\n",
        "String Formatting\n",
        "\"\"\"\n",
        "\n",
        "# Create a variable that contains the first 4 lines of lyrics from your favorite song. Add a comment that includes the song title and artist **each on their own line**! Now print out this variable.\n",
        "\n"
      ],
      "execution_count": 0,
      "outputs": []
    },
    {
      "cell_type": "markdown",
      "metadata": {
        "id": "0o8YPHxoVrWL",
        "colab_type": "text"
      },
      "source": [
        "## TYPECASTING\n",
        "\n"
      ]
    },
    {
      "cell_type": "markdown",
      "metadata": {
        "id": "XlNf2YptWKVu",
        "colab_type": "text"
      },
      "source": [
        "### P1.PY"
      ]
    },
    {
      "cell_type": "code",
      "metadata": {
        "id": "LDgWvrWzVrWM",
        "colab_type": "code",
        "colab": {}
      },
      "source": [
        "\"\"\"\n",
        "Typcasting w. Integers & Floats\n",
        "\"\"\"\n",
        "\n",
        "# Convert these numbers into floats and back. Print out each result as well as its data type.\n",
        "\n",
        "five = 5\n",
        "zero = 0\n",
        "neg_8 = -8\n",
        "neg_22 = -22"
      ],
      "execution_count": 0,
      "outputs": []
    },
    {
      "cell_type": "markdown",
      "metadata": {
        "id": "HWOwfU00VrWS",
        "colab_type": "text"
      },
      "source": [
        "\n",
        "\n",
        "### P2.PY\n",
        "\n",
        "\n"
      ]
    },
    {
      "cell_type": "code",
      "metadata": {
        "id": "_5-k5J4mVrWT",
        "colab_type": "code",
        "colab": {}
      },
      "source": [
        "\"\"\"\n",
        "Typcasting w. Strings\n",
        "\"\"\"\n",
        "\n",
        "# Convert these variables into strings and then back to their original data types. Print out each result as well as its data type. What do you notice about the last one?\n",
        "\n",
        "five = 5\n",
        "zero = 0\n",
        "neg_8 = -8\n",
        "T = True\n",
        "F = False"
      ],
      "execution_count": 0,
      "outputs": []
    },
    {
      "cell_type": "markdown",
      "metadata": {
        "id": "FO_LansxVrWV",
        "colab_type": "text"
      },
      "source": [
        "\n",
        "\n",
        "### P3.PY\n",
        "\n",
        "\n"
      ]
    },
    {
      "cell_type": "code",
      "metadata": {
        "id": "bSVcghffVrWW",
        "colab_type": "code",
        "colab": {}
      },
      "source": [
        "\"\"\"\n",
        "Booleans I - Typecasting w. Numbers\n",
        "\"\"\"\n",
        "\n",
        "# A) Use typecasting to turn these variables into boolean values. Print the result and the datatype of the result. \n",
        "\n",
        "one = 1\n",
        "zero = 0\n",
        "\n",
        "\n",
        "# B) Use typecasting to turn the resultant variables from part A into floats. Print the result and the datatype of the result.\n",
        "\n",
        "\n",
        "# C) Use typecasting to turn the resultant variables from part B back into booleans. Print the result and the datatype of the result.\n",
        "\n",
        "\n",
        "# C) Use typecasting to turn the resultant variables from part C into integers. Print the result and the datatype of the result.\n",
        "\n",
        "\n",
        "# E) Use typecasting to turn the variable below into a boolean value. Print the result and the datatype of the result. \n",
        "\n",
        "ten = 10\n",
        "\n"
      ],
      "execution_count": 0,
      "outputs": []
    },
    {
      "cell_type": "markdown",
      "metadata": {
        "id": "Q7lEbfSQVrWc",
        "colab_type": "text"
      },
      "source": [
        "\n",
        "\n",
        "### P4.PY\n",
        "\n",
        "\n"
      ]
    },
    {
      "cell_type": "code",
      "metadata": {
        "id": "YFLt2TDXVrWf",
        "colab_type": "code",
        "colab": {}
      },
      "source": [
        "\"\"\"\n",
        "Booleans II - Typecasting w. Strings\n",
        "\"\"\"\n",
        "\n",
        "# A) Use typecasting to turn these variables into boolean values. Print the result and the datatype of the result. \n",
        "\n",
        "one = 1\n",
        "zero = 0\n",
        "T = True\n",
        "F = False\n",
        "\n",
        "\n",
        "# B) Use typecasting to turn the latest values for variables 'one' and 'zero' back into integers. Print the result and the datatype of the result.\n",
        "\n",
        "\n",
        "\n",
        "# C) Use typecasting to turn the latest values for variables 'T' and 'F' back into boolean values. Print the result and the datatype of the result.\n",
        "\n",
        "\n",
        "\n",
        "\n"
      ],
      "execution_count": 0,
      "outputs": []
    },
    {
      "cell_type": "markdown",
      "metadata": {
        "id": "poqjlnEOVrWh",
        "colab_type": "text"
      },
      "source": [
        "## OPERATORS\n",
        "\n",
        "\n",
        "\n"
      ]
    },
    {
      "cell_type": "markdown",
      "metadata": {
        "id": "3j0bS-HcWNLi",
        "colab_type": "text"
      },
      "source": [
        "### P1.PY"
      ]
    },
    {
      "cell_type": "code",
      "metadata": {
        "id": "poP19mJxVrWi",
        "colab_type": "code",
        "colab": {}
      },
      "source": [
        "\"\"\"\n",
        "Game Show Score\n",
        "\"\"\"\n",
        "\n",
        "# Imagine the var below represents the latest score of a competitor on a game show. As this person plays, you need to update their score to reflect gains and losses in points. Each math operation below dictates the change in the competitor's score to be made after each of his or her actions.\n",
        "\n",
        "# Complete the below math operations and print the results to show the changes in the competitor's score throughout the game.\n",
        "\n",
        "latest_score = 100\n",
        "print(latest_score)\n",
        "\n",
        "# Add 50\n",
        "\n",
        "\n",
        "\n",
        "# Subtract 90\n",
        "\n",
        "\n",
        "\n",
        "# Multiply 10\n",
        "\n",
        "\n",
        "\n",
        "# Divide 150\n",
        "\n",
        "\n",
        "\n",
        "# Modulus 3\n",
        "\n",
        "\n"
      ],
      "execution_count": 0,
      "outputs": []
    },
    {
      "cell_type": "markdown",
      "metadata": {
        "id": "WAYZJHHgVrWk",
        "colab_type": "text"
      },
      "source": [
        "\n",
        "\n",
        "### P2.PY\n",
        "\n",
        "\n"
      ]
    },
    {
      "cell_type": "code",
      "metadata": {
        "id": "P067XIZ8VrWl",
        "colab_type": "code",
        "colab": {}
      },
      "source": [
        "\"\"\"\n",
        "String Operators\n",
        "\"\"\"\n",
        "\n",
        "# Create two variables, each of which is half of a compound sentence. \n",
        "## Example compound sentence: \"I'll go to the beach today, and I'll go snorkeling.\" "
      ],
      "execution_count": 0,
      "outputs": []
    },
    {
      "cell_type": "markdown",
      "metadata": {
        "id": "TqqaKHjuVrWn",
        "colab_type": "text"
      },
      "source": [
        "\n",
        "\n",
        "### P3.PY\n",
        "\n",
        "\n"
      ]
    },
    {
      "cell_type": "code",
      "metadata": {
        "id": "H7kysyPYVrWo",
        "colab_type": "code",
        "colab": {}
      },
      "source": [
        "\"\"\"\n",
        "Addition I - Numbers & Strings\n",
        "\"\"\"\n",
        "\n",
        "# Add the below sets of variables together without causing any Type Errors. \n",
        "\n",
        "# A)\n",
        "a = 0\n",
        "b = 2\n",
        "\n",
        "\n",
        "\n",
        "# B)\n",
        "c = '0'\n",
        "d = '2'\n",
        "\n",
        "\n",
        "\n",
        "# C)\n",
        "e = '0'\n",
        "f = 2"
      ],
      "execution_count": 0,
      "outputs": []
    },
    {
      "cell_type": "markdown",
      "metadata": {
        "id": "T4rtuQ1CVrWr",
        "colab_type": "text"
      },
      "source": [
        "\n",
        "\n",
        "### P4.PY\n",
        "\n",
        "\n"
      ]
    },
    {
      "cell_type": "code",
      "metadata": {
        "id": "eCkVtKI8VrWs",
        "colab_type": "code",
        "colab": {}
      },
      "source": [
        "\"\"\"\n",
        "Addition II - Booleans\n",
        "\"\"\"\n",
        "\n",
        "# Add the below sets of variables together.\n",
        "\n",
        "# A)\n",
        "a = True\n",
        "b = True\n",
        "\n",
        "\n",
        "\n",
        "# B)\n",
        "c = False\n",
        "d = False\n",
        "\n",
        "\n",
        "\n",
        "# C)\n",
        "e = True\n",
        "f = False"
      ],
      "execution_count": 0,
      "outputs": []
    },
    {
      "cell_type": "markdown",
      "metadata": {
        "id": "pRORE6K8VrWy",
        "colab_type": "text"
      },
      "source": [
        "## SHOPPING_LIST\n",
        "\n",
        "\n"
      ]
    },
    {
      "cell_type": "markdown",
      "metadata": {
        "id": "sX291wpjWQea",
        "colab_type": "text"
      },
      "source": [
        "### P1.PY"
      ]
    },
    {
      "cell_type": "code",
      "metadata": {
        "id": "kH5HZBmiVrWy",
        "colab_type": "code",
        "colab": {}
      },
      "source": [
        "\"\"\"\n",
        "Shopping List Calculator I\n",
        "\"\"\"\n",
        "\n",
        "# Create five variables,\n",
        "# set them to strings that represent 5 common shopping list items\n",
        "\n",
        "\n",
        "item_name_1 = None\n",
        "item_name_2 = None\n",
        "item_name_3 = None\n",
        "item_name_4 = None\n",
        "item_name_5 = None\n",
        "\n",
        "# Create five more variables,\n",
        "# set them to floats that represent the prices of each of the items above\n",
        "\n",
        "item_price_1 = None\n",
        "item_price_2 = None\n",
        "item_price_3 = None\n",
        "item_price_4 = None\n",
        "item_price_5 = None\n",
        "\n",
        "# Create five more variables,\n",
        "# set them to ints that represent the quantity of each of the items above\n",
        "item_quant_1 = None\n",
        "item_quant_2 = None\n",
        "item_quant_3 = None\n",
        "item_quant_4 = None\n",
        "item_quant_5 = None\n",
        "\n",
        "# Print to the console the name and price of each item defined above as follows:\n",
        "# 1 Coco Puffs = $8.95.\n",
        "# where:\n",
        "# 1 would be item_quant_1\n",
        "# Coco Puffs would be item_name_1\n",
        "# 8.95 would be item_name_2\n"
      ],
      "execution_count": 0,
      "outputs": []
    },
    {
      "cell_type": "markdown",
      "metadata": {
        "id": "tr50TO3xVrW1",
        "colab_type": "text"
      },
      "source": [
        "\n",
        "\n",
        "### P2.PY\n",
        "\n",
        "\n"
      ]
    },
    {
      "cell_type": "code",
      "metadata": {
        "id": "_6WnvYbpVrW2",
        "colab_type": "code",
        "colab": {}
      },
      "source": [
        "\"\"\"\n",
        "Shopping List Calculator II\n",
        "\"\"\"\n",
        "\n",
        "# Rewrite p1, but this time use the input() command to solicit user input for name, price, quantity. Here's how it works:\n",
        "\n",
        "item_name_1 = input('Name your first item: ') \n",
        "\t# ^ this will ask user to input value of item_name_1\n",
        "\n",
        "# use input() function and ask user to name items\n",
        "item_name_1 = None\n",
        "item_name_2 = None\n",
        "item_name_3 = None\n",
        "item_name_4 = None\n",
        "item_name_5 = None\n",
        "\n",
        "# use input() function and ask user to name prices\n",
        "item_price_1 = None\n",
        "item_price_2 = None\n",
        "item_price_3 = None\n",
        "item_price_4 = None\n",
        "item_price_5 = None\n",
        "\n",
        "# use input() function and ask user to name quants\n",
        "item_quant_1 = None\n",
        "item_quant_2 = None\n",
        "item_quant_3 = None\n",
        "item_quant_4 = None\n",
        "item_quant_5 = None\n",
        "\n",
        "# Print to the console the name and price of each item defined above as follows:\n",
        "# 1 Coco Puffs = $8.95.\n",
        "# where:\n",
        "# 1 would be item_quant_1\n",
        "# Coco Puffs would be item_name_1\n",
        "# 8.95 would be item_name_2\n",
        "\n",
        "# JUST REMEMBER: now this will be defined by the user!!\n"
      ],
      "execution_count": 0,
      "outputs": []
    },
    {
      "cell_type": "markdown",
      "metadata": {
        "id": "vgZcfv-zVrW4",
        "colab_type": "text"
      },
      "source": [
        "\n"
      ]
    }
  ]
}