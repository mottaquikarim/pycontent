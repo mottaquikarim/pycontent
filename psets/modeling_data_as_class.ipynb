{
  "nbformat": 4,
  "nbformat_minor": 0,
  "metadata": {
    "colab": {
      "name": "modeling_data_as_class.ipynb",
      "provenance": [],
      "include_colab_link": true
    },
    "kernelspec": {
      "name": "python3",
      "display_name": "Python 3"
    }
  },
  "cells": [
    {
      "cell_type": "markdown",
      "metadata": {
        "id": "view-in-github",
        "colab_type": "text"
      },
      "source": [
        "<a href=\"https://colab.research.google.com/github/mottaquikarim/pycontent/blob/master/psets/modeling_data_as_class.ipynb\" target=\"_parent\"><img src=\"https://colab.research.google.com/assets/colab-badge.svg\" alt=\"Open In Colab\"/></a>"
      ]
    },
    {
      "cell_type": "markdown",
      "metadata": {
        "id": "HGvidbuIMrlD",
        "colab_type": "text"
      },
      "source": [
        "# [LAB] How can we model CSV files as Pythonic Objects?\n",
        "\n",
        "First, let's import some data"
      ]
    },
    {
      "cell_type": "code",
      "metadata": {
        "id": "6rJnjNgTMBYj",
        "colab_type": "code",
        "colab": {}
      },
      "source": [
        "import requests\n",
        "\n",
        "def get_csv_data(filepath):\n",
        "  r = requests.get(filepath)\n",
        "  r.raise_for_status()\n",
        "  return r.text\n",
        "\n",
        "data = get_csv_data('https://raw.githubusercontent.com/codeforamerica/ohana-api/master/data/sample-csv/addresses.csv')"
      ],
      "execution_count": 0,
      "outputs": []
    },
    {
      "cell_type": "code",
      "metadata": {
        "id": "CE97wQ0RNscZ",
        "colab_type": "code",
        "outputId": "29e18f12-f5ba-4100-836d-f9c5af62850e",
        "colab": {
          "base_uri": "https://localhost:8080/",
          "height": 425
        }
      },
      "source": [
        "print(data)"
      ],
      "execution_count": 0,
      "outputs": [
        {
          "output_type": "stream",
          "text": [
            "id,location_id,address_1,address_2,city,state_province,postal_code,country\n",
            "1,1,2600 Middlefield Road,,Redwood City,CA,94063,US\n",
            "2,2,24 Second Avenue,,San Mateo,CA,94401,US\n",
            "3,3,24 Second Avenue,,San Mateo,CA,94403,US\n",
            "4,4,24 Second Avenue,,San Mateo,CA,94401,US\n",
            "5,5,24 Second Avenue,,San Mateo,CA,94401,US\n",
            "6,6,800 Middle Avenue,,Menlo Park,CA,94025-9881,US\n",
            "7,7,500 Arbor Road,,Menlo Park,CA,94025,US\n",
            "8,8,800 Middle Avenue,,Menlo Park,CA,94025-9881,US\n",
            "9,9,2510 Middlefield Road,,Redwood City,CA,94063,US\n",
            "10,10,1044 Middlefield Road,,Redwood City,CA,94063,US\n",
            "11,11,2140 Euclid Avenue.,,Redwood City,CA,94061,US\n",
            "12,12,1044 Middlefield Road,2nd Floor,Redwood City,CA,94063,US\n",
            "13,13,399 Marine Parkway.,,Redwood City,CA,94065,US\n",
            "14,14,660 Veterans Blvd.,,Redwood City,CA,94063,US\n",
            "15,15,1500 Valencia Street,,San Francisco,CA,94110,US\n",
            "16,16,1161 South Bernardo,,Sunnyvale,CA,94087,US\n",
            "17,17,409 South Spruce Avenue,,South San Francisco,CA,94080,US\n",
            "18,18,114 Fifth Avenue,,Redwood City,CA,94063,US\n",
            "19,19,19 West 39th Avenue,,San Mateo,CA,94403,US\n",
            "20,21,123 El Camino Real,,Belmont,CA,94002,US\n",
            "21,22,2013 Avenue of the fellows,Suite 100,San Francisco,CA,94103,US\n",
            "\n"
          ],
          "name": "stdout"
        }
      ]
    },
    {
      "cell_type": "markdown",
      "metadata": {
        "id": "u_TZ0ffnNu0d",
        "colab_type": "text"
      },
      "source": [
        "## Parse this data into a datastructure that allows us to quickly retrieve data by _**rows**_\n",
        "\n",
        "(What this means is: how can we convert this string into a datatype (or types) where we can easily access say the `Address` field of the first row?\n",
        "\n",
        "Implement this as a function called `get_as_rows`"
      ]
    },
    {
      "cell_type": "code",
      "metadata": {
        "id": "N-V5BiTZOHSI",
        "colab_type": "code",
        "colab": {}
      },
      "source": [
        "def get_as_rows(content):\n",
        "  pass\n",
        "\n",
        "\n",
        "get_as_rows(data)\n"
      ],
      "execution_count": 0,
      "outputs": []
    },
    {
      "cell_type": "markdown",
      "metadata": {
        "id": "_S8uucXnPcNg",
        "colab_type": "text"
      },
      "source": [
        "## Parse this data into a datastructure that allows us to quickly retrieve data by ***cols***\n",
        "\n",
        "(What this means is: how can we convert this string into a datatype (or types) where we can easily access say *all* the Address fields?\n",
        "\n",
        "Implement this as a function called `get_as_cols`"
      ]
    },
    {
      "cell_type": "code",
      "metadata": {
        "id": "xYyiQs8ZPuCr",
        "colab_type": "code",
        "outputId": "ce327e29-8678-4ade-eaac-807ab2a64ea9",
        "colab": {
          "base_uri": "https://localhost:8080/",
          "height": 34
        }
      },
      "source": [
        "def get_as_cols(content):\n",
        "  pass\n",
        "\n",
        "print(get_as_cols(data))\n"
      ],
      "execution_count": 0,
      "outputs": [
        {
          "output_type": "stream",
          "text": [
            "None\n"
          ],
          "name": "stdout"
        }
      ]
    },
    {
      "cell_type": "markdown",
      "metadata": {
        "id": "oRGJY_b6SvzI",
        "colab_type": "text"
      },
      "source": [
        "## Refactor into class\n",
        "\n",
        "Let's define a class that encapsulates all of this logic into a single unit (which we can use to represent the CSV data as a whole)\n",
        "\n",
        "### Key Considerations\n",
        "\n",
        "* makes the API call to retrieve CSV data\n",
        "* parses the data into `cols`, `rows` *once*\n",
        "* the `header` is available as a propery (in list format)\n",
        "* method available to filter rows by equality, etc\n",
        "* method available to perform \"vectorized\" operations across an entire col"
      ]
    },
    {
      "cell_type": "code",
      "metadata": {
        "id": "FS4qP6MLTmaX",
        "colab_type": "code",
        "colab": {}
      },
      "source": [
        "class DataFrame:\n",
        "  def __init__(self, filepath):\n",
        "    pass\n",
        "\n",
        "\n",
        "df = DataFrame('https://raw.githubusercontent.com/codeforamerica/ohana-api/master/data/sample-csv/addresses.csv')\n",
        "# print(df.rows)\n",
        "# print(df.cols)\n",
        "# print(df.header)\n",
        "# df.filter('postal_code', '94403')\n",
        "# df['postal_code']"
      ],
      "execution_count": 0,
      "outputs": []
    }
  ]
}